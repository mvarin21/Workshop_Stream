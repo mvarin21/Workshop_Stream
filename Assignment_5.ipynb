{
 "cells": [
  {
   "cell_type": "markdown",
   "id": "ea44f48c-1e81-49f2-9e4f-af1c506044a2",
   "metadata": {
    "tags": []
   },
   "source": [
    "# Assignment 5: Signal Processing and Spectral Analysis\n",
    "Please submit this assignment to Canvas as a jupyter notebook (.ipynb).  The assignment will introduce you to how to do spectral analysis of EEG timeseries data."
   ]
  },
  {
   "cell_type": "code",
   "execution_count": 1,
   "id": "2874167d-44d3-40c7-9d5d-3df26bfa2047",
   "metadata": {},
   "outputs": [],
   "source": [
    "# imports\n",
    "import mne\n",
    "import ptsa\n",
    "import cmlreaders as cml\n",
    "import numpy as np\n",
    "import matplotlib.pyplot as plt\n",
    "from ptsa.data.filters import morlet\n",
    "from ptsa.data.filters import ButterworthFilter"
   ]
  },
  {
   "cell_type": "markdown",
   "id": "9d7bed13-5881-4081-89e8-b3d99b27ad99",
   "metadata": {},
   "source": [
    "## Question 1\n",
    "Let's just get some practice going from raw EEG to a power spectral density analysis.  We will use R1215M's first FR1 session, and will focus on the electrode pair 'LAST1-LAST2'. \n",
    "\n",
    "1) Analyzing the 100ms before to 1000ms after each word encoding event, separately plot the log power spectral densities for subequently recalled and subsequently not recalled words.\n",
    "* Load the EEG data with a 1000ms buffer from the desired channel.\n",
    "* Filter out 60 Hz line noise with a Butterworth Filter.\n",
    "* Separate recalled and non-recalled words.\n",
    "* Apply morlet wavelets to calculate powers at the frequencies given below.\n",
    "* Remove the buffers.\n",
    "* Average across encoding time interval and events.\n",
    "* Plot log power v. frequency, label recalled and non-recalled."
   ]
  },
  {
   "cell_type": "code",
   "execution_count": 2,
   "id": "378773c2-a11a-4218-9ca7-677337a09f02",
   "metadata": {},
   "outputs": [],
   "source": [
    "freqs = np.round(np.logspace(np.log10(3), np.log10(180), 8))\n",
    "buf = 1000\n",
    "channel = 'LAST1-LAST2'\n",
    "subj = 'R1215M'\n",
    "exp = 'FR1'\n",
    "sess = 0"
   ]
  },
  {
   "cell_type": "code",
   "execution_count": 3,
   "id": "d4f5ac09-13c1-422d-aa96-3fd5350b79be",
   "metadata": {},
   "outputs": [],
   "source": [
    "# Question 1.1\n",
    "\n",
    "### YOUR CODE HERE"
   ]
  },
  {
   "cell_type": "markdown",
   "id": "039f7058-6c81-418b-84fe-5837ccbd3633",
   "metadata": {},
   "source": [
    "## Overview\n",
    "\n",
    "In the following project you will analyze a multi-session free recall experiment to determine the spectral biomarkers of successful memory encoding. To determine differences in brain activity (EEG signals) that predict whether a studied item will be subsequently remembered (recalled) you will compare two classes of events: word encodings that led to later recall and those that did not.  This assignment will ask you to analyze data from the ltpFR2 dataset (Kahana et al., 2018, JEP:LMC).  You will not analyze the entire dataset; rather, you will analyze a significant subset of subjects, specifically those listed as 'scalp_subs' below. \n",
    "\n",
    "All analyses in this project should include the following data processing steps unless the question explicitly instructs you to do otherwise:\n",
    "1. For scalp EEG data, use LCF “cleaned” data.\n",
    "2. After loading the data, apply a Butterworth notch filter around 60 Hz (freqs = [58-62]) to remove line noise.\n",
    "3. Include a 1000 ms buffer around time period of interest when computing power; compute power using raw voltage at the original sampling rate.\n",
    "4. All logarithms referenced in this assignment are base-10 logarithms (e.g., np.log10, not np.log, which is the natural log)."
   ]
  },
  {
   "cell_type": "code",
   "execution_count": 7,
   "id": "a33a5158-3788-4dc5-a0d8-c624944862c8",
   "metadata": {},
   "outputs": [],
   "source": [
    "# use these subjects for the problems in the next assignment\n",
    "scalp_subs = ['LTP093', 'LTP117', 'LTP123', 'LTP133', 'LTP228', \n",
    "              'LTP246', 'LTP249', 'LTP251', 'LTP258', 'LTP259', \n",
    "              'LTP265', 'LTP269', 'LTP279', 'LTP280', 'LTP285', \n",
    "              'LTP287', 'LTP293', 'LTP296', 'LTP297', 'LTP302', \n",
    "              'LTP304', 'LTP307', 'LTP310', 'LTP311', 'LTP317', \n",
    "              'LTP318', 'LTP322', 'LTP327', 'LTP329', 'LTP330']\n",
    "\n",
    "# use these for Problems 2 and 3\n",
    "scalp_3subs = scalp_subs[0:3]\n",
    "\n",
    "freqs = np.unique(np.round(np.logspace(np.log10(1), np.log10(300), 17)))"
   ]
  },
  {
   "cell_type": "markdown",
   "id": "9c273d7a-ffc9-4bbd-be7d-d4d46bf6a9a8",
   "metadata": {},
   "source": [
    "## Question 2\n",
    "1. Load data from the three subjects in 'scalp_3subs'. For each subject, first extract the behavioral data and report basic descriptive statistics including number of sessions completed, number of lists per session, and average percentage of correctly recalled items. Report these data separately for each subject."
   ]
  },
  {
   "cell_type": "code",
   "execution_count": 5,
   "id": "0e127faa-a1e9-49ab-9e9a-b41532436663",
   "metadata": {},
   "outputs": [],
   "source": [
    "# Question 2.1\n",
    "### YOUR CODE HERE"
   ]
  },
  {
   "cell_type": "markdown",
   "id": "02f9bfbf-01cb-41ee-8315-a0b74f57ab28",
   "metadata": {},
   "source": [
    "## Question 3\n",
    "1) For each of the three initial subjects you will compute a power spectrum (frequency on the x-axis, power on the y-axis) for recalled and non-recalled items. Thus, the goal is to report three graphs (one for each subject) with line plots indicating recalled events (red) and non-recalled events (blue). To do this, \n",
    "* Load all encoding events (irrespective of recall status). \n",
    "* Extract the LCF-corrected EEG signal for electrode E53 (left parietal lobe) including a buffer of 1000 ms on either side of the event\n",
    "    * Here we will define the encoding event as the 1600 ms interval that the word was displayed on the screen, from onset to offset. The buffer should extend before and after this period of time.\n",
    "    * For scalp data, contacts are not available from reader.load(’contacts’), so you will need to use reader.load eeg(...) followed by to_ptsa() on the result, and looking at the .channel.values attribute to obtain the channels.\n",
    "* Filter out line noise with the PTSA Butterworth filter (see examples from assignment 5). \n",
    "* Check that the EEG data match the number of trials in the behavioral data. \n",
    "* Compute the power spectrum with a wavelet transform with wavenumber 6 at the following 16 approximately logarithmically-spaced frequencies (in Hz): 1, 2, 3, 4, 6, 8, 12, 17, 25, 35, 50, 72, 103, 147, 210, 300. These freuencies are defined above in the 'freqs' variable.\n",
    "* For each subject, plot the log of power vs. frequency on a semi-log-x plot averaged across the encoding time interval and across events, separately for recalled and non-recalled events. Take the log of the subject-level averaged powers.\n",
    "\n",
    "2) What can we learn from the overall shape of the spectra and the qualitative (not statistical) differences between encoding conditions?"
   ]
  },
  {
   "cell_type": "code",
   "execution_count": 6,
   "id": "008f99f7-a1b4-4954-8a63-a158ba8d807f",
   "metadata": {},
   "outputs": [],
   "source": [
    "# Question 3.1\n",
    "### YOUR CODE HERE"
   ]
  },
  {
   "cell_type": "markdown",
   "id": "5ccbfc1f-ed12-4c73-8a36-1541f935762c",
   "metadata": {},
   "source": [
    "Question 3.2\n",
    "\n",
    "**YOUR ANSWER HERE**"
   ]
  }
 ],
 "metadata": {
  "kernelspec": {
   "display_name": "workshop",
   "language": "python",
   "name": "workshop"
  },
  "language_info": {
   "codemirror_mode": {
    "name": "ipython",
    "version": 3
   },
   "file_extension": ".py",
   "mimetype": "text/x-python",
   "name": "python",
   "nbconvert_exporter": "python",
   "pygments_lexer": "ipython3",
   "version": "3.7.6"
  }
 },
 "nbformat": 4,
 "nbformat_minor": 5
}
