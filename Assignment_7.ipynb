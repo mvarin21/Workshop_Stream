{
 "cells": [
  {
   "cell_type": "markdown",
   "id": "7bd4fa2f-0265-4f33-874a-ccf6fec28797",
   "metadata": {},
   "source": [
    "# Assignment 7: Signal Processing and Spectral Analysis\n",
    "Please submit this assignment to Canvas as a jupyter notebook (.ipynb).  The assignment will have you do spectral analysis of EEG timeseries data using intracranial EEG."
   ]
  },
  {
   "cell_type": "code",
   "execution_count": 1,
   "id": "fa97169e-3ebb-4057-b156-9532d1870f03",
   "metadata": {},
   "outputs": [],
   "source": [
    "# imports\n",
    "import mne\n",
    "import ptsa\n",
    "import cmlreaders as cml\n",
    "import numpy as np\n",
    "import matplotlib.pyplot as plt\n",
    "from ptsa.data.filters import morlet\n",
    "from ptsa.data.filters import ButterworthFilter"
   ]
  },
  {
   "cell_type": "markdown",
   "id": "e2c39f59-19d1-465b-8d12-2385b205b329",
   "metadata": {},
   "source": [
    "## Assignment Overview\n",
    "\n",
    "Much like the previous assignment, in this project you will analyze multi-session free recall experiments to determine the spectral biomarkers of successful memory encoding.  Again, to determine differences in brain activity (EEG signals) that predict whether a studied item will be subsequently remembered (recalled) you will compare two classes of events: word encodings that led to later recall and those that did not.  This assignment will ask you to analyze data reported in Solomon et al (2018), a study was carried out in patients with temporal lobe epilepsy undergoing a neurosurgical evaluation that required implantation of depth electrodes through small openings in the skull.\n",
    "\n",
    "Notably, in this assignment, you will analyze intracranial EEG data.  A key step in the processing of these data involves using CT and MRI scans to localize the electrodes and then matching up these localizations to a standard brain map based on the average of many patients’ brains to assign each electrode a brain region. Fortunately for you, this step has already been taken care of by the researchers who assembled these data. All you need to know is how to obtain the location tags for each electrode in each patient. \n",
    "\n",
    "You will analyze data from patients in 'intrac_subs'. Each of these patients was chosen because they have at least three sessions of Fr1/CatFR1 data and their recall performance was at least 30%. For each of these subjects, use the following processing steps:\n",
    "* Load EEG with CMLReader.load_eeg from a bipolar montage loaded using CMLReader.load('pairs').\n",
    "* Apply a Butterworth notch filter around 60 Hz (freqs = [58, 62]) when extracting the voltage.\n",
    "* Calculate power at the above frequencies with a Morlet wavelet with wavenumber (keyword “width”) of 6 for each encoding event (from time 0 until 1.6 seconds after the encoding event onset) using a 1 second buffer.\n",
    "* For each frequency, channel, and encoding event, average the power over the entire 1600 ms encoding period (but not over the buffer period!)\n",
    "* Log-transform the average encoding power values (using base-10 logarithms, e.g. np.log10).\n",
    "* Compute the within-session z-transform of these power values as in the previous problems.\n",
    "* In some cases you may notice artifacts in the data that manifest in power values of zero. These would produce problems in the transformation and classification, so please exclude any events with this issue from all analyses."
   ]
  },
  {
   "cell_type": "code",
   "execution_count": 13,
   "id": "85025a80-98fd-4881-87a8-74aa8748ad97",
   "metadata": {},
   "outputs": [],
   "source": [
    "# use these subjects for Part II\n",
    "intrac_subs = ['R1060M', 'R1061T', 'R1065J', 'R1066P', 'R1092J', \n",
    "               'R1108J', 'R1111M', 'R1207J', 'R1226D', 'R1230J', \n",
    "               'R1236J', 'R1243T', 'R1247P', 'R1292E', 'R1308T',\n",
    "               'R1310J', 'R1328E', 'R1332M', 'R1334T', 'R1337E', \n",
    "               'R1341T', 'R1354E', 'R1395M', 'R1486J', 'R1495J', \n",
    "               'R1501J', 'R1542J']\n",
    "\n",
    "freqs = np.unique(np.round(np.logspace(np.log10(1), np.log10(300), 17)))"
   ]
  },
  {
   "cell_type": "markdown",
   "id": "d03aabb2-ac55-47ce-a089-75008e485b35",
   "metadata": {},
   "source": [
    "## Question 1\n",
    "Find all subjects (from 'intrac_subs') who have electrodes localized to the following three regions: temporal lobe, frontal lobe, and hippocampus. The ind.region columns with labels ’bankssts’ and ’temporal’ in them are in the temporal lobe while labels 'frontal' and 'hippocampus' correspond to frontal lobe and hippocampus respectively.\n",
    "\n",
    "1) Create a table with the number of electrodes in each of these regions for each subject. \n",
    "2) Create a table that reports, for each of these subjects, the average number of recalled and not-recalled (encoding) events and the percent recall for each subject."
   ]
  },
  {
   "cell_type": "code",
   "execution_count": 14,
   "id": "7c255f76-28d3-4937-8dbf-2247ab37eada",
   "metadata": {},
   "outputs": [],
   "source": [
    "# lobe labels for temporal/frontal/hippocampal regions\n",
    "locations = [['temporal', 'bankssts'], 'frontal', 'hippocampal']"
   ]
  },
  {
   "cell_type": "code",
   "execution_count": 15,
   "id": "a3f77b9e-a02a-4795-931f-1c4b30a01c70",
   "metadata": {},
   "outputs": [],
   "source": [
    "# Question 1.1\n",
    "### YOUR CODE HERE"
   ]
  },
  {
   "cell_type": "code",
   "execution_count": 16,
   "id": "dae613f8-0c69-4161-ae09-dbd9bffa0dde",
   "metadata": {},
   "outputs": [],
   "source": [
    "# Question 1.2\n",
    "### YOUR CODE HERE"
   ]
  },
  {
   "cell_type": "markdown",
   "id": "5ee9cda1-e5b8-485a-9309-06ba422ba1e6",
   "metadata": {},
   "source": [
    "## Question 2\n",
    "Assess the subsequent memory effect at a particular frequency across locations in the brain. \n",
    "* Instead of topographic maps, just analyze the data for channels pooled within the frontal and temporal brain regions.\n",
    "* Conduct these analyses on only those subjects who have at least one electrode in each of the temporal lobe and frontal lobe regions.\n",
    "    * Plot these two regions in the resulting figure.\n",
    "* Because subjects will have different numbers of electrodes in each of these regions, you need to decide how to combine the data across electrodes.\n",
    "* Complete the analysis for both 147 Hz and 10 Hz.\n",
    "\n",
    "1) Think of a reasonable way to combine data across electrodes and try it.  Make plots to display the SME.\n",
    "2) Think of a another reasonable way to combine data across electrodes and try it.  Make plots to display the SME.\n",
    "3) Report the approaches that you used, as well as the strengths and weaknesses of each approach.  There may not be a \"right\" answer here ... use your best judgement and argue for the method you determine is best."
   ]
  },
  {
   "cell_type": "code",
   "execution_count": 17,
   "id": "a1996df4-5bb3-491c-8cb6-1429d94624c2",
   "metadata": {},
   "outputs": [],
   "source": [
    "# Question 2.1\n",
    "### YOUR CODE HERE"
   ]
  },
  {
   "cell_type": "code",
   "execution_count": 18,
   "id": "205f3d51-8566-47c0-9b2a-36c891a8d06e",
   "metadata": {},
   "outputs": [],
   "source": [
    "# Question 2.2\n",
    "### YOUR CODE HERE"
   ]
  },
  {
   "cell_type": "markdown",
   "id": "ff4f3016-176a-454e-a929-a3b02b3db2bf",
   "metadata": {},
   "source": [
    "## Question 3\n",
    "For the preceding analysis, you used bipolar referencing. As with scalp EEG you can use either bipolar or an average reference. With intracranial EEG, however, the average reference is not always well defined because each subject will have their own idiosyncratic arrangement of electrodes, with some regions, such as medial temporal lobe and lateral temporal cortex, being systematically selected for the clinical treatment of epilepsy. For this problem:\n",
    " * Create an average reference by first computing an average across electrodes within each lobe of the brain being analyzed, then average the averages across the lobes but only for lobes that have at least 5 electrodes. \n",
    "    * This will ensure that each lobe is equally weighted within the overall average.\n",
    "\n",
    "1) Recompute the analysis in the previous problem using this method (again separately at 10 Hz and 147 Hz). \n",
    "2) Compare your results and comment on the strengths and weaknesses of each."
   ]
  },
  {
   "cell_type": "code",
   "execution_count": 19,
   "id": "1dbbe4f5-296d-4726-87d4-9b33c4c66226",
   "metadata": {},
   "outputs": [],
   "source": [
    "# Question 3.1\n",
    "### YOUR CODE HERE"
   ]
  },
  {
   "cell_type": "markdown",
   "id": "27042579-6dc0-4434-867a-092f37275be9",
   "metadata": {},
   "source": [
    "Question 3.2\n",
    "\n",
    "**YOUR ANSWER HERE**"
   ]
  }
 ],
 "metadata": {
  "kernelspec": {
   "display_name": "workshop",
   "language": "python",
   "name": "workshop"
  },
  "language_info": {
   "codemirror_mode": {
    "name": "ipython",
    "version": 3
   },
   "file_extension": ".py",
   "mimetype": "text/x-python",
   "name": "python",
   "nbconvert_exporter": "python",
   "pygments_lexer": "ipython3",
   "version": "3.7.6"
  }
 },
 "nbformat": 4,
 "nbformat_minor": 5
}
