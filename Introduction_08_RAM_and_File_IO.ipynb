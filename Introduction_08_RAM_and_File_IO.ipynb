{
 "cells": [
  {
   "cell_type": "markdown",
   "id": "7a147596-1c32-4263-ae50-56f4c1692c59",
   "metadata": {},
   "source": [
    "## Memory Utilization (the computer kind)\n",
    "\n",
    "While scaling up code for big data analyses, performance and scaling requirements make it important to gain the skills to predict RAM requirements and monitor RAM consumption in order to maximally utilize resources.  This also helps to identify areas of analyses that need modification in order to run within the physical constraints of a particular system."
   ]
  },
  {
   "cell_type": "code",
   "execution_count": 1,
   "id": "c18eda5d-3d13-450e-9852-4451a4d66f23",
   "metadata": {},
   "outputs": [],
   "source": [
    "import numpy as np\n",
    "import psutil\n",
    "import sys\n",
    "import os\n",
    "import gc"
   ]
  },
  {
   "cell_type": "code",
   "execution_count": 2,
   "id": "78329299-aeb3-42d9-b12b-5442eb65e2fd",
   "metadata": {},
   "outputs": [],
   "source": [
    "big_array = np.zeros((1024, 1024, 128))"
   ]
  },
  {
   "cell_type": "code",
   "execution_count": 3,
   "id": "8fd7896a-1f7f-46c3-8508-02756d3db6bb",
   "metadata": {},
   "outputs": [
    {
     "data": {
      "text/plain": [
       "(1024, 1024, 128)"
      ]
     },
     "execution_count": 3,
     "metadata": {},
     "output_type": "execute_result"
    }
   ],
   "source": [
    "# Dimensions\n",
    "big_array.shape"
   ]
  },
  {
   "cell_type": "code",
   "execution_count": 4,
   "id": "72301812-e5ea-49bf-804b-9a9f3e03a787",
   "metadata": {},
   "outputs": [
    {
     "data": {
      "text/plain": [
       "dtype('float64')"
      ]
     },
     "execution_count": 4,
     "metadata": {},
     "output_type": "execute_result"
    }
   ],
   "source": [
    "# Data being stored\n",
    "big_array.dtype"
   ]
  },
  {
   "cell_type": "code",
   "execution_count": 5,
   "id": "4aecb339-4bdc-4c1f-bc4b-15be9e89392d",
   "metadata": {},
   "outputs": [
    {
     "data": {
      "text/plain": [
       "8"
      ]
     },
     "execution_count": 5,
     "metadata": {},
     "output_type": "execute_result"
    }
   ],
   "source": [
    "# Storage per element\n",
    "big_array.dtype.itemsize"
   ]
  },
  {
   "cell_type": "code",
   "execution_count": 6,
   "id": "0dcc32ee-b692-4b7d-b1b6-7ad959f4c9e2",
   "metadata": {},
   "outputs": [
    {
     "data": {
      "text/plain": [
       "134217728"
      ]
     },
     "execution_count": 6,
     "metadata": {},
     "output_type": "execute_result"
    }
   ],
   "source": [
    "# Total element count: N_x * N_y * N_z\n",
    "np.prod(big_array.shape)"
   ]
  },
  {
   "cell_type": "code",
   "execution_count": 7,
   "id": "5e72cff1-eddc-4778-b771-6f32be4f327e",
   "metadata": {},
   "outputs": [
    {
     "data": {
      "text/plain": [
       "1073741824"
      ]
     },
     "execution_count": 7,
     "metadata": {},
     "output_type": "execute_result"
    }
   ],
   "source": [
    "# Total storage\n",
    "np.prod(big_array.shape) * big_array.dtype.itemsize"
   ]
  },
  {
   "cell_type": "code",
   "execution_count": 8,
   "id": "796df22c-cb21-44df-b79e-94944cd1865c",
   "metadata": {},
   "outputs": [
    {
     "name": "stdout",
     "output_type": "stream",
     "text": [
      "1.0 GB\n"
     ]
    }
   ],
   "source": [
    "# Human readable:\n",
    "def PrintArraySize(a):\n",
    "  count = np.prod(a.shape)\n",
    "  elem_size = a.dtype.itemsize\n",
    "  print(f'{count*elem_size/1024**3} GB')\n",
    "\n",
    "PrintArraySize(big_array)"
   ]
  },
  {
   "cell_type": "code",
   "execution_count": 9,
   "id": "152f3e86-4b12-4b60-959d-ae75edf78a74",
   "metadata": {},
   "outputs": [
    {
     "data": {
      "text/plain": [
       "svmem(total=134775570432, available=110147788800, percent=18.3, used=20981387264, free=14947459072, active=75775299584, inactive=40267792384, buffers=0, cached=98846724096, shared=3005259776, slab=2565996544)"
      ]
     },
     "execution_count": 9,
     "metadata": {},
     "output_type": "execute_result"
    }
   ],
   "source": [
    "psutil.virtual_memory()"
   ]
  },
  {
   "cell_type": "code",
   "execution_count": 10,
   "id": "87816493-5dce-4eb7-a496-ed8fac7541e1",
   "metadata": {},
   "outputs": [
    {
     "data": {
      "text/plain": [
       "psutil.Process(pid=105977, name='python', status='running', started='13:29:15')"
      ]
     },
     "execution_count": 10,
     "metadata": {},
     "output_type": "execute_result"
    }
   ],
   "source": [
    "psutil.Process(os.getpid())"
   ]
  },
  {
   "cell_type": "code",
   "execution_count": 11,
   "id": "86fd8290-5fa5-434a-8b6b-d55c1d1625ab",
   "metadata": {},
   "outputs": [
    {
     "data": {
      "text/plain": [
       "pmem(rss=76439552, vms=2089861120, shared=14061568, text=3342336, lib=0, data=1900802048, dirty=0)"
      ]
     },
     "execution_count": 11,
     "metadata": {},
     "output_type": "execute_result"
    }
   ],
   "source": [
    "# rss is \"Resident Set Size\",\n",
    "# vms is \"Virtual Memory Size\" which includes other aspects of memory such\n",
    "# as memory swapped to disk (not in use on Rhino) and that might be\n",
    "# copy-on-write shared, such as shared library memory that typically won't\n",
    "# count against usage limits.\n",
    "# These values right here are low because of Linux \"over-commit\" features.\n",
    "# It will only assign real memory once it's used, not when it's reserved.\n",
    "psutil.Process(os.getpid()).memory_info()"
   ]
  },
  {
   "cell_type": "markdown",
   "id": "c329b1ef-4fcc-44e6-a42b-cc2152273fa4",
   "metadata": {},
   "source": [
    "Checking your active processes. ssh into rhino (or open a terminal), and run:\n",
    "```squeue -u your_username```\n",
    "\n",
    "Your JupyterLab server will look like \"spawner-\", and will have a node associated.  Your cluster jobs will have names based on the functions you launched.  You can connect to the node for an active job with ssh like:\n",
    "```ssh node42```\n",
    "\n",
    "Then you can run the program \"top\" where shift-P sorts processes by processor load, and shift-M sorts processes by memory load.  Sometimes this is helpful for quickly seeing the load of a running process."
   ]
  },
  {
   "cell_type": "code",
   "execution_count": 12,
   "id": "21dda3ba-5d2a-4de7-93c1-51809c6400c9",
   "metadata": {},
   "outputs": [],
   "source": [
    "# Now let's actually use the memory!  We'll assign 1 to every entry.\n",
    "big_array[:] = 1"
   ]
  },
  {
   "cell_type": "code",
   "execution_count": 13,
   "id": "daf6bd01-010b-4b4b-86f8-57a04d3a8a68",
   "metadata": {},
   "outputs": [
    {
     "data": {
      "text/plain": [
       "pmem(rss=1150914560, vms=2089861120, shared=14278656, text=3342336, lib=0, data=1900802048, dirty=0)"
      ]
     },
     "execution_count": 13,
     "metadata": {},
     "output_type": "execute_result"
    }
   ],
   "source": [
    "# Suddenly Linux recognizes that this is real memory in real use,\n",
    "# and gives it physical storage!\n",
    "psutil.Process(os.getpid()).memory_info()"
   ]
  },
  {
   "cell_type": "code",
   "execution_count": 14,
   "id": "b4e5b401-8a7b-46a5-80cf-a250d39ed520",
   "metadata": {},
   "outputs": [
    {
     "data": {
      "text/plain": [
       "1.0718765258789062"
      ]
     },
     "execution_count": 14,
     "metadata": {},
     "output_type": "execute_result"
    }
   ],
   "source": [
    "psutil.Process(os.getpid()).memory_info().rss / 1024**3"
   ]
  },
  {
   "cell_type": "code",
   "execution_count": 15,
   "id": "fac3cd81-97d2-4743-8b20-db77c5f16081",
   "metadata": {},
   "outputs": [
    {
     "data": {
      "text/plain": [
       "0.07188034057617188"
      ]
     },
     "execution_count": 15,
     "metadata": {},
     "output_type": "execute_result"
    }
   ],
   "source": [
    "# Clean-up usage.  Note, this only sometimes works right away!\n",
    "big_array = None\n",
    "psutil.Process(os.getpid()).memory_info().rss / 1024**3"
   ]
  },
  {
   "cell_type": "code",
   "execution_count": 16,
   "id": "fef3891c-ee33-43d6-9c4d-deb6fdea8a51",
   "metadata": {},
   "outputs": [
    {
     "data": {
      "text/plain": [
       "0.0718841552734375"
      ]
     },
     "execution_count": 16,
     "metadata": {},
     "output_type": "execute_result"
    }
   ],
   "source": [
    "big_array = None\n",
    "# If you need a stronger guarantee of clean-up (rarely needed),\n",
    "# you can try calling the garbage collector manually\n",
    "gc.collect()\n",
    "psutil.Process(os.getpid()).memory_info().rss / 1024**3"
   ]
  },
  {
   "cell_type": "code",
   "execution_count": 17,
   "id": "25fbbc91-6973-4791-bd0e-48ecf26dd720",
   "metadata": {},
   "outputs": [
    {
     "name": "stdout",
     "output_type": "stream",
     "text": [
      "1.0717277526855469\n",
      "0.07190322875976562\n"
     ]
    }
   ],
   "source": [
    "def WorkFunction():\n",
    "  big_array = np.zeros((1024, 1024, 128))\n",
    "  big_array[:] = 1\n",
    "  print(psutil.Process(os.getpid()).memory_info().rss / 1024**3)\n",
    "\n",
    "WorkFunction()\n",
    "# Variables are cleaned up when the function returns!\n",
    "print(psutil.Process(os.getpid()).memory_info().rss / 1024**3)"
   ]
  },
  {
   "cell_type": "code",
   "execution_count": 18,
   "id": "55a44a69-c1ad-4aac-ac17-aa6974c73ff7",
   "metadata": {},
   "outputs": [
    {
     "name": "stdout",
     "output_type": "stream",
     "text": [
      "2.071880340576172\n"
     ]
    }
   ],
   "source": [
    "# It's easy to build up memory utilization as you keep making modified copies.\n",
    "big_array = np.zeros((1024, 1024, 128))\n",
    "big_array[:] = 1\n",
    "big_array2 = 2*big_array\n",
    "print(psutil.Process(os.getpid()).memory_info().rss / 1024**3)"
   ]
  },
  {
   "cell_type": "code",
   "execution_count": 19,
   "id": "f8ebfa5e-f4d2-4b20-9669-32b780fe0091",
   "metadata": {},
   "outputs": [],
   "source": [
    "# This manually removes variables, cleans up like assigning to None except\n",
    "# the variable has no definition anymore.\n",
    "del big_array\n",
    "del big_array2"
   ]
  },
  {
   "cell_type": "code",
   "execution_count": 20,
   "id": "8abf4a83-41b6-4413-bb41-f559c8f5a1d2",
   "metadata": {},
   "outputs": [
    {
     "name": "stdout",
     "output_type": "stream",
     "text": [
      "1.0719375610351562\n"
     ]
    }
   ],
   "source": [
    "# Numpy arrays are more performant modifying in place.\n",
    "big_array = np.zeros((1024, 1024, 128))\n",
    "big_array[:] = 1\n",
    "big_array *= 2\n",
    "print(psutil.Process(os.getpid()).memory_info().rss / 1024**3)"
   ]
  },
  {
   "cell_type": "code",
   "execution_count": 21,
   "id": "c91adb3b-4eae-4770-9d80-e080aa362def",
   "metadata": {},
   "outputs": [
    {
     "name": "stdout",
     "output_type": "stream",
     "text": [
      "1.0719757080078125\n"
     ]
    }
   ],
   "source": [
    "# Dimensionally reduced data is miniscule:\n",
    "big_array = np.zeros((1024, 1024, 128))\n",
    "big_array[:] = 1\n",
    "big_array_mean = np.mean(big_array, axis=0)\n",
    "print(psutil.Process(os.getpid()).memory_info().rss / 1024**3)"
   ]
  },
  {
   "cell_type": "code",
   "execution_count": 22,
   "id": "c6a84407-669e-4354-9702-20454b07c8bc",
   "metadata": {},
   "outputs": [],
   "source": [
    "del big_array"
   ]
  },
  {
   "cell_type": "code",
   "execution_count": 23,
   "id": "abeffe84-4b40-4e97-936e-9c3c72f0d3ca",
   "metadata": {},
   "outputs": [
    {
     "name": "stdout",
     "output_type": "stream",
     "text": [
      "1.0727462768554688\n",
      "0.07293701171875\n"
     ]
    }
   ],
   "source": [
    "# Smart approach!\n",
    "def MakeReducedData():\n",
    "  big_array = np.zeros((1024, 1024, 128))\n",
    "  big_array[:] = 1\n",
    "  big_array_mean = np.mean(big_array, axis=0)\n",
    "  print(psutil.Process(os.getpid()).memory_info().rss / 1024**3)\n",
    "  return big_array_mean\n",
    "\n",
    "big_array_mean = MakeReducedData()\n",
    "print(psutil.Process(os.getpid()).memory_info().rss / 1024**3)"
   ]
  },
  {
   "cell_type": "markdown",
   "id": "42da365d-2514-4f8a-bab2-042fb7d08773",
   "metadata": {},
   "source": [
    "## File Input/Output (IO)\n",
    "\n",
    "Continuing on in Big Data analyses will give you an increased need to think carefully about file IO, as you migrate from using premade data to being a generator of data.\n",
    "\n",
    "### Temporary / Intermediate data\n",
    "\n",
    "This kind of data is transient, used in the middle of a calculation for storing a result for minutes, hours, or maybe up to a couple months.  It is data that typically does not need to be backed up, and where you are not worried about whether or not it can be accessed years later, or work on new environments or new computers or even on anyone else's computer or language.  You just need it to \"work\" cleanly and simply for short term work, usually to avoid recalculating things.\n",
    "\n",
    "Good examples of this in Python are pickle and numpy saved files.  Pickle is a \"do not share it\" data format, because there are security considerations where loading pickled data can actually execute code in the file.  But since there is little chance of you hacking yourself, you can gain the advantages of quickly streaming to disk arbitrary Python objects and reloading them.  Pickled data is NOT compatible if, for example, you save data for an object of a class type, and then change the class!  The same type needs to be available when you reload.  This means it will often stop working even on standard types or common library types if you upgrade to a new version of Python or new environment.  Hence, it is a powerful and useful temporary local-use format."
   ]
  },
  {
   "cell_type": "code",
   "execution_count": 24,
   "id": "67dabd8a-5544-4703-bd22-4a1d6cae852b",
   "metadata": {},
   "outputs": [],
   "source": [
    "import pickle\n",
    "d = {'Bob': 34, 'Alice': 43, 'Joe': 25, 'Susan': 36}\n",
    "with open('my_dictionary.pkl', 'wb') as fw:\n",
    "  pickle.dump(d, fw)"
   ]
  },
  {
   "cell_type": "code",
   "execution_count": 36,
   "id": "6046f96c-60b3-4ab8-a3b6-bc23b5ebcc37",
   "metadata": {},
   "outputs": [
    {
     "data": {
      "text/plain": [
       "{'Bob': 34, 'Alice': 43, 'Joe': 25, 'Susan': 36}"
      ]
     },
     "execution_count": 36,
     "metadata": {},
     "output_type": "execute_result"
    }
   ],
   "source": [
    "with open('my_dictionary.pkl', 'rb') as fr:\n",
    "  d2 = pickle.load(fr)\n",
    "d2"
   ]
  },
  {
   "cell_type": "markdown",
   "id": "24a45e3f-f0ce-4c63-9077-8ac9c3702f9a",
   "metadata": {},
   "source": [
    "Saving with numpy, such as np.save or np.savez is similar, as some things you might save with numpy are actually pickled to do it!  Pure numerical data saved with numpy has slightly longer longevity, and non-pickled data saved with numpy can be shared, but it is probably not a format to trust for very long term storage."
   ]
  },
  {
   "cell_type": "code",
   "execution_count": 26,
   "id": "f95f5bad-6a15-4744-b604-51103d32ba8d",
   "metadata": {},
   "outputs": [
    {
     "name": "stdout",
     "output_type": "stream",
     "text": [
      "262144\n"
     ]
    },
    {
     "data": {
      "text/plain": [
       "262272"
      ]
     },
     "execution_count": 26,
     "metadata": {},
     "output_type": "execute_result"
    }
   ],
   "source": [
    "a = np.ones((1024, 32))\n",
    "print(np.prod(a.shape)*a.dtype.itemsize)\n",
    "np.save('my_array.npy', a)\n",
    "os.path.getsize('my_array.npy')"
   ]
  },
  {
   "cell_type": "markdown",
   "id": "bd49eb14-ab20-45d4-969d-cf5986787cff",
   "metadata": {},
   "source": [
    "Notice numpy stores binary data compactly!  This is an asset for large data.\n",
    "\n",
    "### Long term archival of data\n",
    "\n",
    "If your data is small dimensionally reduced data, however, other formats like csv (comma-separated values) can be very convenient for long term archival (decades through human lifetime).  This matters a lot for valuable data!"
   ]
  },
  {
   "cell_type": "code",
   "execution_count": 27,
   "id": "fae4177e-04f2-4099-b3c9-21e886616634",
   "metadata": {},
   "outputs": [
    {
     "data": {
      "text/plain": [
       "135169"
      ]
     },
     "execution_count": 27,
     "metadata": {},
     "output_type": "execute_result"
    }
   ],
   "source": [
    "import pandas as pd\n",
    "pd.DataFrame(a).to_csv('my_array.csv')\n",
    "os.path.getsize('my_array.csv')"
   ]
  },
  {
   "cell_type": "markdown",
   "id": "f0046502-5292-4947-b6ec-a699b5b715b9",
   "metadata": {},
   "source": [
    "Here csv looks smaller!  But that's deceptive, because we're actually storing \"1, 1, 1, 1, 1, ...\" which is very compact because we used all ones."
   ]
  },
  {
   "cell_type": "code",
   "execution_count": 28,
   "id": "09037b13-eb35-4825-b655-a36f04d1ce4c",
   "metadata": {},
   "outputs": [
    {
     "name": "stdout",
     "output_type": "stream",
     "text": [
      "262144\n"
     ]
    },
    {
     "data": {
      "text/plain": [
       "262272"
      ]
     },
     "execution_count": 28,
     "metadata": {},
     "output_type": "execute_result"
    }
   ],
   "source": [
    "a = np.random.random((1024, 32))\n",
    "print(np.prod(a.shape)*a.dtype.itemsize)\n",
    "np.save('my_array2.npy', a)\n",
    "os.path.getsize('my_array2.npy')"
   ]
  },
  {
   "cell_type": "code",
   "execution_count": 29,
   "id": "da65b737-7d61-4aa8-aa10-a784bbe60bfd",
   "metadata": {},
   "outputs": [
    {
     "data": {
      "text/plain": [
       "635664"
      ]
     },
     "execution_count": 29,
     "metadata": {},
     "output_type": "execute_result"
    }
   ],
   "source": [
    "pd.DataFrame(a).to_csv('my_array2.csv')\n",
    "os.path.getsize('my_array2.csv')"
   ]
  },
  {
   "cell_type": "code",
   "execution_count": 30,
   "id": "70be5247-a036-476e-9a59-60d5b81bc110",
   "metadata": {},
   "outputs": [
    {
     "name": "stdout",
     "output_type": "stream",
     "text": [
      ",0,1,2,3,4,5,6,7,8,9,10,11,12,13,14,15,16,17,18,19,20,21,22,23,24,25,26,27,28,29,30,31\n",
      "\n",
      "0,0.5221398373735353,0.878158461637144,0.5658874757670006,0.010533476771540151,0.7032463417597493,0.3636674395217909,0.8427889669099672,0.9756874821119245,0.2873606452730445,0.3658607204590304,0.6014833752915677,0.5361589981241498,0.9867838237161558,0.4175930924573791,0.20533108661435273,0.3758964185819238,0.8200142068561991,0.14242864197829197,0.6660212674650331,0.2608031340968813,0.9641711740101091,0.8396557898115048,0.3762816078386366,0.12489480992922397,0.9595306058939054,0.32874567373059904,0.5668151360207953,0.39923762491703074,0.5966142377002017,0.4105682342003333,0.6317588928539587,0.7242054680046272\n",
      "\n",
      "1,0.7814038572307075,0.6307285124443849,0.9839196911329311,0.8104328668135102,0.10455734480111045,0.5500214038164026,0.1844991663792298,0.2708450157486192,0.769890366380933,0.8013905190940831,0.6602251826403915,0.38663607936008215,0.2631915858034609,0.8932694835533228,0.9174085506983124,0.02889416547388346,0.6075402403373885,0.8607454097174535,0.5915069310006902,0.5560166541480497,0.6099378713878927,0.9678788732465586,0.34432705093580585,0.20249911027622647,0.17234535534000883,0.5912699191627703,0.25155568774866777,0.6877503659845279,0.6272435136846513,0.7311887274427041,0.483593371377421,0.742829743804328\n",
      "\n",
      "2,0.6842895765403444,0.7762349766844909,0.9806426330465705,0.8213373703180382,0.7207877436095989,0.8335435529019424,0.7679000128614093,0.8515260816556055,0.18158498523990796,0.38155458226955985,0.8784155898000997,0.5975393834536518,0.9406697351684646,0.111666862513362,0.9828417075532062,0.9562950530721154,0.1998487655887704,0.17325966603932086,0.815899568793405,0.7799022579777636,0.2956089861976654,0.295785573845598,0.907246463648737,0.3424847266975699,0.19278076025766977,0.055871132036796944,0.565097808763997,0.3558346617576821,0.9377961992167101,0.5168498429679961,0.24077598813724244,0.328153416221163\n",
      "\n",
      "3,0.7345029989883234,0.46796904147166984,0.7736064833983688,0.9887280288312658,0.06750986721925978,0.8895887795180486,0.7773420389958945,0.8408008508416536,0.573946653292627,0.025940362764429126,0.9870347926523186,0.6577189576556187,0.9057672302430804,0.9757291707544624,0.01495548679311376,0.3055205254026533,0.850752752454392,0.24183056709642425,0.4215238974085411,0.20508910252950108,0.39215465724294707,0.31411577186249484,0.6749247191731566,0.9038938150378695,0.07255444384512932,0.6003284615687363,0.3101419811123184,0.7666295471873663,0.1747854587011627,0.2851566942541244,0.10684303123692374,0.6830815269642799\n",
      "\n"
     ]
    }
   ],
   "source": [
    "# Let's look at the first 5 lines of the file the manual way:\n",
    "with open('my_array2.csv', 'r') as fr:\n",
    "  lines = fr.readlines()\n",
    "  print('\\n'.join(lines[0:5]))"
   ]
  },
  {
   "cell_type": "code",
   "execution_count": 31,
   "id": "3471ffa6-117f-4331-bfca-c7d8da1db660",
   "metadata": {},
   "outputs": [
    {
     "data": {
      "text/plain": [
       "631567"
      ]
     },
     "execution_count": 31,
     "metadata": {},
     "output_type": "execute_result"
    }
   ],
   "source": [
    "# Maybe we just wanted the data, and not the headers and indices...\n",
    "pd.DataFrame(a).to_csv('my_array3.csv', header=None, index=None)\n",
    "os.path.getsize('my_array3.csv')"
   ]
  },
  {
   "cell_type": "code",
   "execution_count": 32,
   "id": "3365a23c-6d78-40ea-8831-674243f56b64",
   "metadata": {},
   "outputs": [
    {
     "name": "stdout",
     "output_type": "stream",
     "text": [
      "0.5221398373735353,0.878158461637144,0.5658874757670006,0.010533476771540151,0.7032463417597493,0.3636674395217909,0.8427889669099672,0.9756874821119245,0.2873606452730445,0.3658607204590304,0.6014833752915677,0.5361589981241498,0.9867838237161558,0.4175930924573791,0.20533108661435273,0.3758964185819238,0.8200142068561991,0.14242864197829197,0.6660212674650331,0.2608031340968813,0.9641711740101091,0.8396557898115048,0.3762816078386366,0.12489480992922397,0.9595306058939054,0.32874567373059904,0.5668151360207953,0.39923762491703074,0.5966142377002017,0.4105682342003333,0.6317588928539587,0.7242054680046272\n",
      "\n",
      "0.7814038572307075,0.6307285124443849,0.9839196911329311,0.8104328668135102,0.10455734480111045,0.5500214038164026,0.1844991663792298,0.2708450157486192,0.769890366380933,0.8013905190940831,0.6602251826403915,0.38663607936008215,0.2631915858034609,0.8932694835533228,0.9174085506983124,0.02889416547388346,0.6075402403373885,0.8607454097174535,0.5915069310006902,0.5560166541480497,0.6099378713878927,0.9678788732465586,0.34432705093580585,0.20249911027622647,0.17234535534000883,0.5912699191627703,0.25155568774866777,0.6877503659845279,0.6272435136846513,0.7311887274427041,0.483593371377421,0.742829743804328\n",
      "\n",
      "0.6842895765403444,0.7762349766844909,0.9806426330465705,0.8213373703180382,0.7207877436095989,0.8335435529019424,0.7679000128614093,0.8515260816556055,0.18158498523990796,0.38155458226955985,0.8784155898000997,0.5975393834536518,0.9406697351684646,0.111666862513362,0.9828417075532062,0.9562950530721154,0.1998487655887704,0.17325966603932086,0.815899568793405,0.7799022579777636,0.2956089861976654,0.295785573845598,0.907246463648737,0.3424847266975699,0.19278076025766977,0.055871132036796944,0.565097808763997,0.3558346617576821,0.9377961992167101,0.5168498429679961,0.24077598813724244,0.328153416221163\n",
      "\n",
      "0.7345029989883234,0.46796904147166984,0.7736064833983688,0.9887280288312658,0.06750986721925978,0.8895887795180486,0.7773420389958945,0.8408008508416536,0.573946653292627,0.025940362764429126,0.9870347926523186,0.6577189576556187,0.9057672302430804,0.9757291707544624,0.01495548679311376,0.3055205254026533,0.850752752454392,0.24183056709642425,0.4215238974085411,0.20508910252950108,0.39215465724294707,0.31411577186249484,0.6749247191731566,0.9038938150378695,0.07255444384512932,0.6003284615687363,0.3101419811123184,0.7666295471873663,0.1747854587011627,0.2851566942541244,0.10684303123692374,0.6830815269642799\n",
      "\n",
      "0.10272561551956794,0.380042907950929,0.40879162636693844,0.40180285639110325,0.0465931051905234,0.08621138892448832,0.7538788007944176,0.2515414465597886,0.252666451522888,0.2155216458158885,0.32827914442139894,0.6405611921926863,0.9682325053138464,0.3851447413822051,0.2146061498968731,0.14787538067847128,0.2578230540433315,0.31615401837444645,0.9035173980014464,0.007549787969460708,0.9985100350749623,0.29932805267713813,0.7693659093291029,0.8295694441526363,0.06702878568761561,0.2051432796434386,0.42601611417828733,0.5604839018966145,0.5039247872206211,0.35924373520034847,0.3050886679008652,0.22927821647503444\n",
      "\n"
     ]
    }
   ],
   "source": [
    "# Now let's look at the first 5 lines of the file the manual way:\n",
    "with open('my_array3.csv', 'r') as fr:\n",
    "  lines = fr.readlines()\n",
    "  print('\\n'.join(lines[0:5]))"
   ]
  },
  {
   "cell_type": "markdown",
   "id": "5c3b2600-19f4-4bc2-8c21-3a51fa83263f",
   "metadata": {},
   "source": [
    "The json format is another text format for data which retains human-readable properties, and can be expected to have long term archival properties.  As a text format it is easy to work with but often not compact for numerical data, so it is an appropriate store for dimensionally reduced results and smaller data that you want to preserve for a long time."
   ]
  },
  {
   "cell_type": "code",
   "execution_count": 33,
   "id": "11189958-88e5-4272-8a60-d2985a0f88af",
   "metadata": {},
   "outputs": [
    {
     "data": {
      "text/plain": [
       "78"
      ]
     },
     "execution_count": 33,
     "metadata": {},
     "output_type": "execute_result"
    }
   ],
   "source": [
    "import json\n",
    "d = {'Bob': 34, 'Alice': 43, 'Joe': 25, 'Susan': 36, 'TheSmithBrothers': [29, 31]}\n",
    "with open('the_ages.json', 'w') as fw:\n",
    "  json.dump(d, fw)\n",
    "os.path.getsize('the_ages.json')"
   ]
  },
  {
   "cell_type": "code",
   "execution_count": 34,
   "id": "182ae560-5d1f-497e-ae5c-9279a6d6a9da",
   "metadata": {},
   "outputs": [
    {
     "name": "stdout",
     "output_type": "stream",
     "text": [
      "{'Bob': 34, 'Alice': 43, 'Joe': 25, 'Susan': 36, 'TheSmithBrothers': [29, 31]}\n"
     ]
    }
   ],
   "source": [
    "with open('the_ages.json', 'r') as fr:\n",
    "  d2 = json.load(fr)\n",
    "print(d2)"
   ]
  },
  {
   "cell_type": "code",
   "execution_count": 35,
   "id": "3c414749-75f0-4121-a69d-8cbb8052616a",
   "metadata": {},
   "outputs": [
    {
     "name": "stdout",
     "output_type": "stream",
     "text": [
      "{\"Bob\": 34, \"Alice\": 43, \"Joe\": 25, \"Susan\": 36, \"TheSmithBrothers\": [29, 31]}\n"
     ]
    }
   ],
   "source": [
    "# Let's see what we stored.\n",
    "with open('the_ages.json', 'r') as fr:\n",
    "  lines = fr.readlines()\n",
    "  print('\\n'.join(lines))"
   ]
  },
  {
   "cell_type": "markdown",
   "id": "893cc691-57bd-4742-a4ab-c48bfebabbc7",
   "metadata": {},
   "source": [
    "The json format stores as human readable text, and in fact looks a lot like Python code!  This is a very future-save archival format for data that fits into the supportd types."
   ]
  },
  {
   "cell_type": "markdown",
   "id": "cf1d6821-90db-4a81-b40f-df473a911a99",
   "metadata": {},
   "source": [
    "For long term compact archiving of large binary data, you will want to do some reading for the particular type of data you are trying to store, and choose a format that you estimate will work well for this and retain long support.  There is no one answer for this."
   ]
  }
 ],
 "metadata": {
  "kernelspec": {
   "display_name": "workshop_311",
   "language": "python",
   "name": "workshop_311"
  },
  "language_info": {
   "codemirror_mode": {
    "name": "ipython",
    "version": 3
   },
   "file_extension": ".py",
   "mimetype": "text/x-python",
   "name": "python",
   "nbconvert_exporter": "python",
   "pygments_lexer": "ipython3",
   "version": "3.11.5"
  }
 },
 "nbformat": 4,
 "nbformat_minor": 5
}
