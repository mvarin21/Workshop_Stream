{
 "cells": [
  {
   "cell_type": "markdown",
   "id": "f14eab0a-b0ef-461b-80d9-1f8af0f18b26",
   "metadata": {},
   "source": [
    "# Assignment 3: EEG and Event-Related Potentials\n",
    "Please submit this assignment to Canvas as a jupyter notebook (.ipynb).  The assignment will introduce you to EEG brain data, as well as some of the techniques and methods used to analyze it."
   ]
  },
  {
   "cell_type": "code",
   "execution_count": 1,
   "id": "1118407b-8736-4809-a42c-e2818ea77105",
   "metadata": {},
   "outputs": [],
   "source": [
    "# imports\n",
    "import pandas as pd\n",
    "import cmlreaders as cml\n",
    "import numpy as np\n",
    "%matplotlib inline\n",
    "import matplotlib.pyplot as plt"
   ]
  },
  {
   "cell_type": "markdown",
   "id": "35acdd0b-2f79-484b-9772-eb7bd40df7d9",
   "metadata": {},
   "source": [
    "## Working with EEG data\n",
    "We learned how to load basic information about CML experiments and experimental events in assignment 1. Next, we're going to load EEG/iEEG data that correspond to those events."
   ]
  },
  {
   "cell_type": "markdown",
   "id": "c79a2509-3864-4a70-92ce-5fa32e57ef73",
   "metadata": {},
   "source": [
    "## Question 1: Electrodes in the Brain (Better Explanation or Edits)\n",
    "For this question, we will use the term \"electrode\" to refer to individual contacts, as opposed to bipolar referenced virtual \"electrodes\".  In other words, use the contacts dataframe (not the pairs dataframe) to answer the following.\n",
    "\n",
    "1) How many electrodes does R1111M have placed in the temporal cortex? (Hint: Anything that contains temporal)\n",
    "2) How many electrodes does R1111M have on the left hemisphere and how many on the right hemisphere?"
   ]
  },
  {
   "cell_type": "code",
   "execution_count": 5,
   "id": "893da430-469c-42a8-96d0-1d69a252a6a0",
   "metadata": {},
   "outputs": [],
   "source": [
    "# Question 1.1\n",
    "### YOUR CODE HERE"
   ]
  },
  {
   "cell_type": "code",
   "execution_count": 6,
   "id": "91ff3a3e-2470-4548-bcc2-e2b5ad2a316a",
   "metadata": {},
   "outputs": [],
   "source": [
    "# Question 1.2\n",
    "### YOUR CODE HERE"
   ]
  },
  {
   "cell_type": "markdown",
   "id": "6d82c2b5-2298-41c2-896e-ba407e760464",
   "metadata": {},
   "source": [
    "## Question 2 (Needs Bigger Scale) -- Add Confidence Intervals and maybe even t tests\n",
    "Now we will compare z-scored voltage traces for encoded words that were subsequently recalled vs. not recalled.  This sort of \"Subsequent Memory Effect\" (SME) analysis is of great interest, since it allows us to get at the question of what neural features underlie successful memory. In other words, you are comparing the ERP of recalled and not recalled words.\n",
    "\n",
    "1) Plot the Z-scored ERP for a 2-second span (-400 ms to 1600 ms) surrounding each word encoding event for a lateral occipital electrode across all ltpFR2 sessions and subjects.  We want to two lines on our plot, one averaging over words that were subsequently recalled, and one averaging over words that were not later recalled. A line of code will be provided below for your channels variable. This should allow you to access the desired brain region for the EEG. \n",
    "* Add vertical and horizontal lines on your plot to indicate word onset and Z = 0, respectively.\n",
    "* Add a legend and label each line (Rec v. NRec)\n",
    "\n",
    "\n",
    "2) Does the occipital electrode show an effect?"
   ]
  },
  {
   "cell_type": "code",
   "execution_count": null,
   "id": "80b83b05",
   "metadata": {},
   "outputs": [],
   "source": [
    "# Accessing the proper region \n",
    "channels = pairs[pairs['ind.region'] == 'lateraloccipital']"
   ]
  },
  {
   "cell_type": "code",
   "execution_count": 17,
   "id": "e89dd3e5-6019-494e-b4d9-6099dc530ce2",
   "metadata": {},
   "outputs": [],
   "source": [
    "# Question 2.1\n",
    "### YOUR CODE HERE"
   ]
  },
  {
   "cell_type": "code",
   "execution_count": null,
   "id": "eb580261-160a-4c98-bd22-860d491fc5dd",
   "metadata": {},
   "outputs": [],
   "source": [
    "#Question 2.2\n",
    "\n",
    "**YOUR ANSWER HERE**"
   ]
  }
 ],
 "metadata": {
  "kernelspec": {
   "display_name": "workshop_311",
   "language": "python",
   "name": "workshop_311"
  },
  "language_info": {
   "codemirror_mode": {
    "name": "ipython",
    "version": 3
   },
   "file_extension": ".py",
   "mimetype": "text/x-python",
   "name": "python",
   "nbconvert_exporter": "python",
   "pygments_lexer": "ipython3",
   "version": "3.11.5"
  }
 },
 "nbformat": 4,
 "nbformat_minor": 5
}
