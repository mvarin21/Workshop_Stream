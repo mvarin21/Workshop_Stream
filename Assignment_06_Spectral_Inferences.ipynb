{
 "cells": [
  {
   "cell_type": "markdown",
   "id": "8c466fdb-8e50-4ae5-8aa3-313459f88793",
   "metadata": {},
   "source": [
    "# Assignment 6: Signal Processing and Spectral Analysis\n",
    "Please submit this assignment to Canvas as a jupyter notebook (.ipynb).  The assignment will have you do spectral analysis of EEG timeseries data using scalp EEG."
   ]
  },
  {
   "cell_type": "code",
   "execution_count": 1,
   "id": "617772bf-1e7e-4bf8-8623-0d69ef8257ee",
   "metadata": {},
   "outputs": [],
   "source": [
    "# imports\n",
    "import mne\n",
    "import ptsa\n",
    "import cmlreaders as cml\n",
    "import numpy as np\n",
    "import matplotlib.pyplot as plt\n",
    "from ptsa.data.filters import morlet\n",
    "from ptsa.data.filters import ButterworthFilter"
   ]
  },
  {
   "cell_type": "markdown",
   "id": "3bc281c1-6b02-4e7b-bc62-e7c0ef6f58e3",
   "metadata": {},
   "source": [
    "## Question 1\n",
    "In this problem you will repeat the prior assignment analysis for all subjects in 'scalp_subs' and make some statistical inferences about spectral biomarkers of successful memory encoding.  \n",
    "* Be sure that your code is robust to exceptions that can be thrown by e.g. unavailable data, and if you have an exception in a particular session due to a problem with the data in that session, print or log the event so you can report it, and discard that session from the analysis. This data was all acquired with human participants across long stretches of time, and small things can go wrong.\n",
    "* Once you have verified your code, compute powers for all subjects as described above and create power spectra for recalled and non-recalled events.\n",
    "* Using the “cmldask” package you should be able to use a separate “core” on the cluster to process data from each session. Only run up to 5 jobs at once with up to 10 GB per job (or your jobs may be killed by mean-spirited admins). Make sure you save out the power values as you go (e.g. with the pickle library).\n",
    "\n",
    "1) Compute the average power spectra for each subject (separately for recalled and non-recalled items) and then take the log of that spectra. Averaging these power spectra across subjects, graph the average log-power spectra with 95% confidence bands (transparent light red and light blue shading, or your favorite clearly labeled color scheme).\n",
    "2) To get a sense for the effect of the log-transform and the semi-log plot, also produce plots without the log-transformation of the subject-level powers and ... \n",
    "3) ... also produce plots without either the log transformation or the semi-log plot.\n",
    "\n",
    "In other words, you're manipulating your x and y axis. You should have standard PSD values, log PSD values, and both standar and logged frequency values. The goal here is for you to see first hand how the log transform impacts your data. \n",
    "\n",
    "5) What inferences can you now make from these results?"
   ]
  },
  {
   "cell_type": "code",
   "execution_count": 2,
   "id": "83b2c7f0-3d7a-4aa0-959e-6768a2ea81e9",
   "metadata": {},
   "outputs": [],
   "source": [
    "# Question 1.1\n",
    "### YOUR CODE HERE"
   ]
  },
  {
   "cell_type": "code",
   "execution_count": 3,
   "id": "ccf0e865-4a88-4c27-9c03-1cc084c965d8",
   "metadata": {},
   "outputs": [],
   "source": [
    "# Question 1.2\n",
    "### YOUR CODE HERE"
   ]
  },
  {
   "cell_type": "code",
   "execution_count": 4,
   "id": "c850126d-1bdb-4232-a5f5-67a0b39c8158",
   "metadata": {},
   "outputs": [],
   "source": [
    "# Question 1.3\n",
    "### YOUR CODE HERE"
   ]
  },
  {
   "cell_type": "code",
   "execution_count": 5,
   "id": "d5a06814-61fd-46d9-91db-fbe65dfd06ca",
   "metadata": {},
   "outputs": [],
   "source": [
    "# Question 1.4\n",
    "### YOUR CODE HERE"
   ]
  },
  {
   "cell_type": "markdown",
   "id": "6b4f5449-8071-42f5-8b35-07d041fdc00b",
   "metadata": {},
   "source": [
    "Question 1.5\n",
    "\n",
    "**YOUR CODE HERE**"
   ]
  },
  {
   "cell_type": "markdown",
   "id": "41cc26d6-d1a6-4a04-939b-e66ec19044ab",
   "metadata": {},
   "source": [
    "## Question 2\n",
    "In this problem, your goal is to assess the effects of two important processing steps on the analyses in the previous problem. Two common normalization procedures used in the analysis of brain signals are the log-transform, which attenuates extremely large values, and the z-transform, which allows you to normalize power values according to some baseline distribution. \n",
    "\n",
    "Here you will reproduce the analysis of the previous problem in computing between-subject differences of power spectra between recalled and not recalled items with each of these steps separately (Subsequent Memory Effect). \n",
    "\n",
    "The log-transform can be applied at different points in the analysis stream: immediately after computing power values, after averaging power values for each encoding interval, or after computing the z-transform of the power values. Similarly, the z-transformation can be done by normalizing to power (or log-power values) based on many choices of the “distribution” of power (or log-power values). If our goal is to normalize data to the distribution of power values across a given session, how do you define the “distribution” over which to estimate the standard deviation of values? Consider three different choices and assess the effects of these choices on your final analysis:\n",
    "\n",
    "1) Take the logarithm of power before averaging across time\n",
    "2) Z-score powers across the events within a session after averaging across time\n",
    "3) Complete a third transformation of your choice. \n",
    "4) Describe your motivation in considering the transform (in part 3).  Asses the effects of the different choices (parts 1, 2, 3)."
   ]
  },
  {
   "cell_type": "code",
   "execution_count": 6,
   "id": "6618ba6a-95ad-47e6-b837-d397c59e2c9a",
   "metadata": {},
   "outputs": [],
   "source": [
    "# Question 2.1\n",
    "### YOUR CODE HERE"
   ]
  },
  {
   "cell_type": "code",
   "execution_count": 7,
   "id": "8bd3e533-a08d-4040-9980-f00465645857",
   "metadata": {},
   "outputs": [],
   "source": [
    "# Question 2.2\n",
    "### YOUR CODE HERE"
   ]
  },
  {
   "cell_type": "code",
   "execution_count": 8,
   "id": "b6b3a2bb-4e38-426b-a5b4-8984e79e3c2d",
   "metadata": {},
   "outputs": [],
   "source": [
    "# Question 2.3\n",
    "### YOUR CODE HERE"
   ]
  },
  {
   "cell_type": "markdown",
   "id": "2060eb31-d814-4e67-969b-360fe2a78697",
   "metadata": {},
   "source": [
    "Question 2.4\n",
    "\n",
    "**YOUR ANSWER HERE**"
   ]
  },
  {
   "cell_type": "markdown",
   "id": "0c90b7da-0e3d-4c9a-be07-7327f9533fc5",
   "metadata": {},
   "source": [
    "## Question 3\n",
    "All of the preceding analyses were conducted on a single scalp electrode. \n",
    "1) Repeat the analysis at all electrodes, generating a topographic map that shows the subsequent memory effect for the frequency 147 Hz. \n",
    "\n",
    "For this problem you should:\n",
    "* both log-transform your power values immediately after extracting them, and z-transform your data based on the distribution of values across each session (1–23) for each subject. \n",
    "* For the topographic maps, use a color bar to indicate the difference between power for recalled and non-recalled items. \n",
    "* Use the between-subject t-test method with Benjamini-Hochberg FDR correction to determine which electrodes in each map meet the p < 0.05 significance threshold. \n",
    "* Mark statistically significant electrodes on each topomap with some graphical element (star, dot, different color shading). \n",
    "\n",
    "2) Discuss your findings."
   ]
  },
  {
   "cell_type": "code",
   "execution_count": null,
   "id": "bcb83b7c",
   "metadata": {},
   "outputs": [],
   "source": [
    "channel_names = list(eeg.channel.values) "
   ]
  },
  {
   "cell_type": "code",
   "execution_count": 9,
   "id": "4fe50793-c16f-4602-9fa8-271bf7efc423",
   "metadata": {},
   "outputs": [],
   "source": [
    "# Question 3.1\n",
    "### YOUR CODE HERE"
   ]
  },
  {
   "cell_type": "markdown",
   "id": "2cc72455-13c7-405d-b5a7-264a31f941bc",
   "metadata": {},
   "source": [
    "Question 3.2\n",
    "\n",
    "**YOUR ANSWER HERE**"
   ]
  }
 ],
 "metadata": {
  "kernelspec": {
   "display_name": "workshop",
   "language": "python",
   "name": "workshop"
  },
  "language_info": {
   "codemirror_mode": {
    "name": "ipython",
    "version": 3
   },
   "file_extension": ".py",
   "mimetype": "text/x-python",
   "name": "python",
   "nbconvert_exporter": "python",
   "pygments_lexer": "ipython3",
   "version": "3.7.6"
  }
 },
 "nbformat": 4,
 "nbformat_minor": 5
}
