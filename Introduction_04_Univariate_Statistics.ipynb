{
 "cells": [
  {
   "cell_type": "markdown",
   "id": "7b70bee7-1278-450d-8e18-c37b624cc208",
   "metadata": {},
   "source": [
    "## Statistical Inference, t-tests, and multiple comparisons\n",
    "\n",
    "For a brief aside on t-tests and how to use them, see: https://blog.minitab.com/blog/adventures-in-statistics-2/understanding-t-tests-t-values-and-t-distributions\n",
    "\n",
    "### Multiple Comparisons in Statistical Tests\n",
    "\n",
    "While our goal with this course is not to teach you statistics, we do need to take a slight detour to address some common statistical issues that come up in ECoG analyses. First, we'll touch on the problem of **multiple comparisons** ( https://en.wikipedia.org/wiki/Multiple_comparisons_problem ). This refers to the idea that, if you run many statistical tests, you're more likely to get a false positive with increasing numbers of tests. For example, if a subject has 100 electrodes, and we'd like to test whether there's an increase in power at each electrode, some will -- purely by chance -- show an increase in power even if it's not meaningfully correlated with memory. \n",
    "\n",
    "The easiest way to correct for multiple comparisons is to set a more stringent threshold for determining significance. Typically, these thresholds are set as <i>p</i> values, which you're likely quite familiar with. The <i>p</i> value is the proportion of test statistic values that, under the null hypothesis, exceed the true test statistic. If too many null values exceed the true value, it's hard to say that the true value is \"significant.\" But if you set the <i>p</i> value to something very small -- as in, almost no null values exceed the true value -- it becomes quite difficult to find a \"significant\" result. \n",
    "\n",
    "Indeed, the **Bonferonni correction** is a common and simple way to account for the multiple comparisons problem. The basic idea is to take the <i>P</i> value you'd ordinarily use, and divide it by the number of tests you're running. So if usually you'd want a P<0.05 to declare significance, but you run 100 tests, now you'd need a P<0.0005 for significance. This is a very conservative way to control for multiple comparisons (strictly, Bonferonni correction controls for the \"familywise error\" rate). \n",
    "\n",
    "If a test survives Bonferonni correction (and assuming other assumptions about the test were also met), that's a strong indication that there's something real there (i.e. you're not looking at a false positive), and you can make some conclusions about it. Bonferonni falls under the category of **family-wise error rate (FWER) control**, or the probably that *any* test leads to a Type I (false positive) error. \n",
    "\n",
    "You'll also see \"False Discovery Rate\" controlling procedures, or **FDR correction**, in the ECoG literature. These are less conservative tests that let you screen for effects in large amounts of data, but do not offer the same kind of strict control that Bonferonni does (therefore, be more cautious in your interpretation of the \"significant\" effects.). A common FDR procedure is called \"Benjamini-Hochberg,\" though there are several algorithms with unique properties. FDR correction limits the total *proportion* of Type I errors across all tests.\n",
    "\n",
    "Many types of correction can be applied using the stats toolbox within MNE. Let's explore a few of these now, and use them on real data. \n",
    "\n",
    "<center>\n",
    "<img src=\"https://github.com/esolomon/PythonBootcamp2019/blob/master/figures/fwer.png?raw=true\" width=300>\n",
    "<center>"
   ]
  },
  {
   "cell_type": "code",
   "execution_count": 1,
   "id": "e431c65a-e3f4-4206-9c33-113628dd456d",
   "metadata": {},
   "outputs": [],
   "source": [
    "import numpy as np\n",
    "import os\n",
    "\n",
    "# First, let's load up some data with dimensions [frequencies, electrodes, time bins].\n",
    "pvals = np.load(os.path.join('sample_files','R1001P_pvals.npy'))"
   ]
  },
  {
   "cell_type": "code",
   "execution_count": 2,
   "id": "383cdad6-910c-4742-8be7-3a18980f7278",
   "metadata": {},
   "outputs": [
    {
     "data": {
      "text/plain": [
       "Text(0, 0.5, 'Count')"
      ]
     },
     "execution_count": 2,
     "metadata": {},
     "output_type": "execute_result"
    },
    {
     "data": {
      "image/png": "[encoded data removed]",
      "text/plain": [
       "<Figure size 500x300 with 1 Axes>"
      ]
     },
     "metadata": {},
     "output_type": "display_data"
    }
   ],
   "source": [
    "import matplotlib.pyplot as plt\n",
    "%matplotlib inline\n",
    "\n",
    "# Let's take a look at the distribution of these p-values.\n",
    "# Plot a histogram of pvalues on a log scale.\n",
    "plt.figure(figsize=(5, 3))\n",
    "ax = plt.subplot(111)\n",
    "_, bins, _ = plt.hist(pvals.ravel(), bins=13, alpha=0)\n",
    "logbins = np.logspace(np.log10(bins[0]),np.log10(bins[-1]),len(bins))\n",
    "plt.hist(pvals.ravel(), bins=logbins, color='C0')\n",
    "plt.vlines([0.1, 0.05, 0.01, 0.001], ymin=ax.get_ylim()[0], ymax=ax.get_ylim()[1], \n",
    "       colors=('C2', 'C3', 'C4', 'C5'),)\n",
    "plt.xscale('log')\n",
    "plt.xlabel('P-value')\n",
    "plt.ylabel('Count')"
   ]
  },
  {
   "cell_type": "markdown",
   "id": "e04d807b-0344-4502-a703-76d741ca641f",
   "metadata": {},
   "source": [
    "It's clear that there aren't many P-values less than 0.001. Would any of these survive Bonferonni correction?\n",
    "\n",
    "(Perhaps testing individual P-values across all timepoints, frequencies, and electrodes isn't the best approach. What if we restricted ourselves to running tests at the electrode level, for a given time window of interest?)"
   ]
  },
  {
   "cell_type": "code",
   "execution_count": 3,
   "id": "89d2fd32-77a3-4c1d-ae34-3e9085c82e43",
   "metadata": {},
   "outputs": [],
   "source": [
    "from scipy.stats import ttest_ind,ttest_1samp,ttest_rel\n",
    "\n",
    "# Load the raw power values so we can run some tests.\n",
    "rec = np.load(os.path.join('sample_files', 'R1001P_recalled.npy'))\n",
    "pows = np.load(os.path.join('sample_files', 'R1001P_pows.npy'))\n",
    "\n",
    "# pows are dimensions [freqs, events, electrodes, time bins].\n",
    "\n",
    "# Let's average powers into across the 400-700 ms window.\n",
    "# This begins after ERP effects die out,\n",
    "# but not so long as to include irrelevant activity.\n",
    "# Furthermore, let's only analyze the theta frequencies,\n",
    "# which were the first 5 (trust me).\n",
    "avg_pow = np.mean(np.mean(pows[:5, :, :, 4:7], 0), -1)\n",
    "\n",
    "# avg_pow should be an events X electrodes array. Excellent!\n",
    "# Let's do our 2-sample T-test on these averaged values\n",
    "ts, ps = ttest_ind(avg_pow[rec==1, :], avg_pow[rec==0, :], axis=0, equal_var=False)"
   ]
  },
  {
   "cell_type": "code",
   "execution_count": 7,
   "id": "a0f893c0-10f8-4947-b304-e5569f051298",
   "metadata": {},
   "outputs": [
    {
     "data": {
      "text/plain": [
       "array([-0.3555126 ,  1.0384718 ,  0.276416  , -0.25648656,  1.5434333 ,\n",
       "       -1.6623278 , -2.9956203 , -2.2204201 , -0.7788851 ,  0.13119453,\n",
       "       -0.5708875 , -0.9716215 ,  3.4042187 ,  1.4167502 ,  3.2007513 ,\n",
       "       -1.916248  , -0.8828504 , -2.22042   , -3.4453914 , -1.5439718 ,\n",
       "       -2.6404097 ,  1.8090264 , -1.5909345 , -0.4827368 ,  1.1283836 ,\n",
       "        1.6208075 , -0.8400902 , -0.73778474,  0.02045396, -0.13523813,\n",
       "       -1.0821105 , -0.85651636, -1.1305807 , -0.22234446, -0.34624925,\n",
       "       -1.4399501 ,  3.1252782 ,  0.6798259 , -0.09843229,  1.9514506 ,\n",
       "        2.1099813 ,  0.05555366, -0.31886965, -1.5570853 , -1.8060504 ,\n",
       "       -1.5774311 , -0.20341088,  0.2608621 ,  1.8214865 ,  0.00726441,\n",
       "        1.4166048 , -0.2651343 , -0.42922828,  0.30815858, -2.4224308 ,\n",
       "       -0.8308091 , -1.3323493 ,  0.39942074,  0.8921742 ,  3.104473  ,\n",
       "        2.2625992 ,  0.7958723 ,  2.397951  ,  1.2115769 ,  1.2601931 ,\n",
       "       -1.5945747 , -0.78095317, -0.6867251 , -0.5537076 ,  0.05209453,\n",
       "        0.30074224, -1.2098405 ], dtype=float32)"
      ]
     },
     "execution_count": 7,
     "metadata": {},
     "output_type": "execute_result"
    }
   ],
   "source": [
    "ts"
   ]
  },
  {
   "cell_type": "code",
   "execution_count": 8,
   "id": "3929949d-4ef7-4f20-9534-cea602e58b24",
   "metadata": {},
   "outputs": [
    {
     "data": {
      "text/plain": [
       "array([7.2262204e-01, 3.0040094e-01, 7.8255135e-01, 7.9789186e-01,\n",
       "       1.2454862e-01, 9.7687729e-02, 3.1214620e-03, 2.7713850e-02,\n",
       "       4.3708295e-01, 8.9577210e-01, 5.6887311e-01, 3.3263034e-01,\n",
       "       8.0576784e-04, 1.5813820e-01, 1.6032027e-03, 5.6906022e-02,\n",
       "       3.7854308e-01, 2.7654728e-02, 7.0110196e-04, 1.2425044e-01,\n",
       "       9.0553481e-03, 7.1892209e-02, 1.1334144e-01, 6.2984473e-01,\n",
       "       2.6078346e-01, 1.0681257e-01, 4.0193647e-01, 4.6153942e-01,\n",
       "       9.8370433e-01, 8.9256489e-01, 2.8046966e-01, 3.9285800e-01,\n",
       "       2.5977483e-01, 8.2428092e-01, 7.2954971e-01, 1.5160604e-01,\n",
       "       2.0759837e-03, 4.9749541e-01, 9.2169952e-01, 5.2621536e-02,\n",
       "       3.6077306e-02, 9.5576334e-01, 7.5021166e-01, 1.2123693e-01,\n",
       "       7.2655588e-02, 1.1653222e-01, 8.3905989e-01, 7.9448634e-01,\n",
       "       7.0218988e-02, 9.9421191e-01, 1.5840477e-01, 7.9121548e-01,\n",
       "       6.6826212e-01, 7.5830632e-01, 1.6365318e-02, 4.0712041e-01,\n",
       "       1.8452877e-01, 6.9008547e-01, 3.7341928e-01, 2.2161584e-03,\n",
       "       2.4925880e-02, 4.2718226e-01, 1.7669760e-02, 2.2753496e-01,\n",
       "       2.0947133e-01, 1.1252255e-01, 4.3588334e-01, 4.9313176e-01,\n",
       "       5.8046567e-01, 9.5851398e-01, 7.6395863e-01, 2.2802320e-01],\n",
       "      dtype=float32)"
      ]
     },
     "execution_count": 8,
     "metadata": {},
     "output_type": "execute_result"
    }
   ],
   "source": [
    "ps"
   ]
  },
  {
   "cell_type": "code",
   "execution_count": 4,
   "id": "062db6ff-3841-419f-a579-0a09481ee805",
   "metadata": {},
   "outputs": [
    {
     "name": "stdout",
     "output_type": "stream",
     "text": [
      "[False False False False False False  True  True False False False False\n",
      "  True False  True False False  True  True False  True False False False\n",
      " False False False False False False False False False False False False\n",
      "  True False False False  True False False False False False False False\n",
      " False False False False False False  True False False False False  True\n",
      "  True False  True False False False False False False False False False]\n"
     ]
    }
   ],
   "source": [
    "# If we did an uncorrected test, what would we find?\n",
    "sig_elecs = ps<0.05\n",
    "\n",
    "print(ps<0.05)"
   ]
  },
  {
   "cell_type": "code",
   "execution_count": 5,
   "id": "aaedc6fe-2316-4553-912b-790d4d5be07c",
   "metadata": {},
   "outputs": [
    {
     "name": "stdout",
     "output_type": "stream",
     "text": [
      "[False False False False False False False False False False False False\n",
      " False False False False False False False False False False False False\n",
      " False False False False False False False False False False False False\n",
      " False False False False False False False False False False False False\n",
      " False False False False False False False False False False False False\n",
      " False False False False False False False False False False False False]\n"
     ]
    }
   ],
   "source": [
    "# What about Bonferonni correction?\n",
    "from mne.stats import bonferroni_correction\n",
    "reject, pval_cor = bonferroni_correction(ps, 0.05)\n",
    "\n",
    "print(reject)"
   ]
  },
  {
   "cell_type": "markdown",
   "id": "a9a5703b-68b0-41c4-98ca-c2ddb4f10bf5",
   "metadata": {},
   "source": [
    "No electrodes survive Bonferroni correction! Is it too conservative? Remember that Bonferonni assume **no statistical dependency between tests.** What about FDR correction (Benjamini-Hochberg)?"
   ]
  },
  {
   "cell_type": "code",
   "execution_count": 6,
   "id": "1963c53f-7ffc-45a0-ac00-74dbdfc82013",
   "metadata": {},
   "outputs": [
    {
     "name": "stdout",
     "output_type": "stream",
     "text": [
      "[False False False False False False  True False False False False False\n",
      "  True False  True False False False  True False False False False False\n",
      " False False False False False False False False False False False False\n",
      "  True False False False False False False False False False False False\n",
      " False False False False False False False False False False False  True\n",
      " False False False False False False False False False False False False]\n"
     ]
    }
   ],
   "source": [
    "# FDR correction\n",
    "from mne.stats import fdr_correction\n",
    "reject, pval_cor = fdr_correction(ps, 0.05)  #by default, this implements Benjamini-Hochberg with a 0.05 threshold. \n",
    "\n",
    "print(reject)"
   ]
  },
  {
   "cell_type": "code",
   "execution_count": 10,
   "id": "74bc9638-3a0d-48a1-842d-65c3eaa34793",
   "metadata": {},
   "outputs": [
    {
     "data": {
      "text/plain": [
       "3.6"
      ]
     },
     "execution_count": 10,
     "metadata": {},
     "output_type": "execute_result"
    }
   ],
   "source": [
    "len(reject)*.05"
   ]
  },
  {
   "cell_type": "markdown",
   "id": "5113d6b0-7b48-46e7-8395-1392f01a7c78",
   "metadata": {},
   "source": [
    "A few electrodes are back! With this threshold, we would expect, on average, 5% of the significant tests to result in a Type I error. \n",
    "\n",
    "The significant electrodes should not be over-interpreted, since we used a less-conservative test. Some still might be false positives. But they may carry interesting signal, and combined with other information, these signals could teach us something about the brain. "
   ]
  }
 ],
 "metadata": {
  "kernelspec": {
   "display_name": "workshop_311",
   "language": "python",
   "name": "workshop_311"
  },
  "language_info": {
   "codemirror_mode": {
    "name": "ipython",
    "version": 3
   },
   "file_extension": ".py",
   "mimetype": "text/x-python",
   "name": "python",
   "nbconvert_exporter": "python",
   "pygments_lexer": "ipython3",
   "version": "3.11.5"
  }
 },
 "nbformat": 4,
 "nbformat_minor": 5
}
