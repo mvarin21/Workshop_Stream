{
 "cells": [
  {
   "cell_type": "markdown",
   "id": "dc446888-2fb9-4231-ba4b-e685d0d49c1d",
   "metadata": {},
   "source": [
    "## Organizing analyses"
   ]
  },
  {
   "cell_type": "markdown",
   "id": "d9e6f907-3665-4f77-8d7e-e904ddca19c0",
   "metadata": {},
   "source": [
    "- Avoid code repetition. Make many small functions that you know work for parts of problems, and use them repeatedly.\n",
    "- Once you have working functions, consider how to make those functions \"generalized\" so that they will work flexibly in future analyses across different experiment types or conditions! This will really boost your analysis productivity.\n",
    "- Break problems down into steps that you can put into functions. Give them clear inputs and outputs. This will help you guard variable scope much better.  For example, nested for loops can often be turned into single loops with named function calls, making code much clearer.\n",
    "- If you want very clear and organized analyses, make use of Python classes to organize your data! This is worth learning. The design goal of classes is to combine \"data\" and \"functions that operate on that data\". You can use this to keep associated analysis data together and organized, and also separate from OTHER data in the same analysis."
   ]
  },
  {
   "cell_type": "markdown",
   "id": "35404e30-54c3-4ec6-8c40-999ff74ab1e3",
   "metadata": {},
   "source": [
    "## Print Debugging"
   ]
  },
  {
   "cell_type": "code",
   "execution_count": 18,
   "id": "2dea5c0f-464b-47ff-a61c-1cf4627b39ee",
   "metadata": {},
   "outputs": [
    {
     "name": "stdout",
     "output_type": "stream",
     "text": [
      "Total word count 16\n",
      "Overall recall rate 0.4375\n",
      "Stim recall rate 0.5\n",
      "Fraction of words stimulated 0.625\n",
      "Total stim words recalled 2\n"
     ]
    }
   ],
   "source": [
    "import numpy as np\n",
    "stimulated = np.array([True, False, True, False, True, False, True,\n",
    "              False, True, True, False, True, False, True,\n",
    "              True, True])\n",
    "words = np.array(['BROOM', 'MOOSE', 'BRANCH', 'BIRD', 'BARN', 'TRIBE',\n",
    "         'PARK', 'WEED', 'BOARD', 'NEST', 'STONE', 'SLUG',\n",
    "         'BEAN', 'BROOK', 'JAR', 'BAG'])\n",
    "recalled = np.array([0,0,1,0,1,0,1,0,0,1,0,1,0,1,0,1])\n",
    "\n",
    "stimrec_set = set()\n",
    "\n",
    "stim_words = words[stimulated]\n",
    "rec_words = words[recalled]\n",
    "notrec_words = words[~recalled]\n",
    "stim_words_rec = words[stimulated & recalled]\n",
    "stim_words_notrec = words[stimulated & ~recalled]\n",
    "stimrec_set.update(stim_words_rec)\n",
    "\n",
    "stim_frac = np.sum(stimulated) / len(stimulated)\n",
    "rec_rate = np.sum(recalled) / len(recalled)\n",
    "stimrec_rate = len(stim_words_rec) / (len(stim_words_rec) + len(stim_words_notrec))\n",
    "num_stim_words_recalled = len(stimrec_set)\n",
    "\n",
    "print(f'Total word count {len(words)}')\n",
    "print(f'Overall recall rate {rec_rate}')\n",
    "print(f'Stim recall rate {stimrec_rate}')\n",
    "print(f'Fraction of words stimulated {stim_frac}')\n",
    "print(f'Total stim words recalled {num_stim_words_recalled}')"
   ]
  },
  {
   "cell_type": "markdown",
   "id": "cffef03d-f8d8-4d48-bf1a-7f38cf73c69c",
   "metadata": {},
   "source": [
    "**... What happened here?  Copy and paste the full code into the cell below, and start adding print statements, working from the bottom up.**"
   ]
  },
  {
   "cell_type": "code",
   "execution_count": null,
   "id": "0c4a731e-3a3b-4bf4-be81-f5d77d9ab7ba",
   "metadata": {},
   "outputs": [],
   "source": []
  },
  {
   "cell_type": "markdown",
   "id": "dd8c78e6-dee3-4186-bc46-c6d1489a35c5",
   "metadata": {},
   "source": [
    "**Once you have print statements sufficient to understand exactly what went wrong and why, copy and paste again, and prepare a solution below.**"
   ]
  },
  {
   "cell_type": "code",
   "execution_count": null,
   "id": "a4bb3a79-9a85-4076-a43f-5b151e9a3a58",
   "metadata": {},
   "outputs": [],
   "source": []
  },
  {
   "cell_type": "markdown",
   "id": "1f6b9c28-4522-400e-8074-b9e8ad4aa733",
   "metadata": {},
   "source": [
    "Print debugging tips for big data analyses:\n",
    "- Print iteration counters or elements during loops to track which cases succeed and which ones are failing.\n",
    "- Make liberal use of type(x) or a.dtype to observe the types of data, and len(L) or a.shape to observe dimensions.\n",
    "- In large loops, once you have identified the appearance of a problem, you can insert conditionals around loops to only print relevant information in iterations where the problem appears.\n",
    "- Inserting and then removing or commenting out print statements takes far less time and effort than struggling!  Use it a LOT to speed up your code writing time."
   ]
  },
  {
   "cell_type": "markdown",
   "id": "bc900650-3b37-4ee9-a649-a83882b7e51a",
   "metadata": {},
   "source": [
    "## Handling Exceptions"
   ]
  },
  {
   "cell_type": "code",
   "execution_count": 19,
   "id": "d77abcef-365d-4446-b82a-fffe46d9ae35",
   "metadata": {
    "tags": []
   },
   "outputs": [
    {
     "ename": "ValueError",
     "evalue": "This is an exception",
     "output_type": "error",
     "traceback": [
      "\u001b[0;31m---------------------------------------------------------------------------\u001b[0m",
      "\u001b[0;31mValueError\u001b[0m                                Traceback (most recent call last)",
      "\u001b[0;32m<ipython-input-19-b0c9601d7b8a>\u001b[0m in \u001b[0;36m<module>\u001b[0;34m\u001b[0m\n\u001b[0;32m----> 1\u001b[0;31m \u001b[0;32mraise\u001b[0m \u001b[0mValueError\u001b[0m\u001b[0;34m(\u001b[0m\u001b[0;34m'This is an exception'\u001b[0m\u001b[0;34m)\u001b[0m\u001b[0;34m\u001b[0m\u001b[0;34m\u001b[0m\u001b[0m\n\u001b[0m",
      "\u001b[0;31mValueError\u001b[0m: This is an exception"
     ]
    }
   ],
   "source": [
    "raise ValueError('This is an exception')"
   ]
  },
  {
   "cell_type": "code",
   "execution_count": 24,
   "id": "7c1a2327-8d3d-477f-a625-c9745a60dfcf",
   "metadata": {},
   "outputs": [
    {
     "name": "stdout",
     "output_type": "stream",
     "text": [
      "\"This is an exception\" happened at 3\n",
      "\"This is an exception\" happened at 7\n"
     ]
    }
   ],
   "source": [
    "for i in range(10):\n",
    "  try:\n",
    "    if i == 3 or i == 7:\n",
    "      raise ValueError('This is an exception')\n",
    "  except Exception as e:\n",
    "    # Provide useful information here for knowing what went wrong!\n",
    "    # Take a moment in each case to think about what \"useful\" will mean.\n",
    "    print(f'\"{e}\" happened at {i}')\n",
    "    \n",
    "    # Calling \"raise\" by itself makes the exception propagate upward again.\n",
    "    # This is useful if you want to terminate a routine after handling it.\n",
    "    # raise"
   ]
  },
  {
   "cell_type": "code",
   "execution_count": 32,
   "id": "274157cb-ae47-4efb-99e1-9bd02a97b004",
   "metadata": {},
   "outputs": [],
   "source": [
    "# Almost never should you ignore exceptions!\n",
    "# There are very limited cases for this, such as on single lines of code\n",
    "# that you have checked carefully and you really need to ignore the errors.\n",
    "# This should almost never be done in a large block of code.  You will cause\n",
    "# yourself suffering.\n",
    "\n",
    "for i in range(10):\n",
    "  try:\n",
    "    if j == 3 or j == 7:\n",
    "      raise ValueError('This is an exception')\n",
    "  except Exception as e:\n",
    "    pass\n",
    "\n",
    "# Hint:  What is the real problem with this code?"
   ]
  },
  {
   "cell_type": "markdown",
   "id": "1b8cc01a-a3b4-4a9f-ae2b-0db7ca08c404",
   "metadata": {},
   "source": [
    "## Inter-Response Time Curves\n",
    "An inter-response time (IRT) is defined as the time between two successive recalls.  In the IRT curves, seen in FHM figure 6.11, we want to plot the IRT as a function of both transition position and total number of recalls on the list.  Essentially, in an IRT plot, we want IRT on the y-axis, transition position on the x-axis, and a different curve for each number of total recalls on the list.  Each point on the graph should represent an average IRT for the given transition position and total number of recalls."
   ]
  },
  {
   "cell_type": "markdown",
   "id": "3e2b1549-fd05-4041-8d72-c57eaf94e50d",
   "metadata": {},
   "source": [
    "## Lag-CRP\n",
    "The Lag Conditional Response Probability (**Lag-CRP**) is a calculation measuring the temporal organization of memory.  When we transition freely from one recall to another, are we more likely to transition between items that were presented close together in time or far apart in time?  The Lag-CRP calculation is essentially considering each **lag**, or the serial position jump between adjacent recalls, and then dividing the number of actual transitions bt the number of possible transitions, giving a **conditional response probability**.  See http://memory.psych.upenn.edu/CRP_Tutorial for an example of the concept and FHM figure 6.8 for an example of the graph.  Remember that repeats and intrusions (words not from the list) can appear in the recall events, and must be dealt with."
   ]
  },
  {
   "cell_type": "markdown",
   "id": "ba062461-e231-4223-87c3-d2776df1323c",
   "metadata": {},
   "source": [
    "**Write a function to prepare a list of possible lags for a single word presentation. Decide for yourself what appropriate inputs and outputs are. For this first draft, ignore repeats.**"
   ]
  },
  {
   "cell_type": "code",
   "execution_count": null,
   "id": "bcd1d250-57a5-4c42-bae8-f74192ba9928",
   "metadata": {},
   "outputs": [],
   "source": []
  },
  {
   "cell_type": "markdown",
   "id": "b5a9577e-19b6-4972-95fe-339098a79fbd",
   "metadata": {},
   "source": [
    "**How would you adapt this to produce possible lags excluding repeats?**"
   ]
  },
  {
   "cell_type": "code",
   "execution_count": null,
   "id": "237c2ef5-93f1-4289-a639-d9e94fe72da7",
   "metadata": {},
   "outputs": [],
   "source": []
  },
  {
   "cell_type": "markdown",
   "id": "804a9472-291f-44f5-8212-162f990c10e8",
   "metadata": {},
   "source": [
    "Can you reproduce the possible transitions from the CRP Tutorial page?"
   ]
  },
  {
   "cell_type": "markdown",
   "id": "ef663c0f-821e-4a1e-8c0c-5fcba8b4c8d0",
   "metadata": {},
   "source": [
    "## PLI Recency\n",
    "When subjects incorrectly recall an item that was not studied on the current list it is often an item seen on a recent prior list.  We call these errors prior-list intrusions (PLIs) because they are intrusion errors that came from a prior list, as opposed to extra-list intrusions (ELIs) which have not been encountered during the experimental session."
   ]
  }
 ],
 "metadata": {
  "kernelspec": {
   "display_name": "workshop_311",
   "language": "python",
   "name": "workshop_311"
  },
  "language_info": {
   "codemirror_mode": {
    "name": "ipython",
    "version": 3
   },
   "file_extension": ".py",
   "mimetype": "text/x-python",
   "name": "python",
   "nbconvert_exporter": "python",
   "pygments_lexer": "ipython3",
   "version": "3.11.5"
  }
 },
 "nbformat": 4,
 "nbformat_minor": 5
}
