{
 "cells": [
  {
   "cell_type": "markdown",
   "metadata": {},
   "source": [
    "# Assignment 4: Machine Learning"
   ]
  },
  {
   "cell_type": "markdown",
   "metadata": {},
   "source": [
    "Please submit this assignment to Canvas as a Jupyter notebook (.ipynb). The assignment begins with introductory material interspersed with optional (but recommended) exercises which will not be graded. The graded assignment may be found at the bottom of the document in the section labeled \"Assignment X\"."
   ]
  },
  {
   "cell_type": "markdown",
   "metadata": {
    "tags": []
   },
   "source": [
    "## Introduction to machine learning and scikit-learn"
   ]
  },
  {
   "cell_type": "markdown",
   "metadata": {
    "tags": []
   },
   "source": [
    "We've learned how to load EEG and task events, extract spectral power, and run univariate statistics to correlate spectral power with episodic memory. But there's also a way to correlate memory with *entire patterns* of neural time series across frequency bands and electrodes. We generally call these \"multivariate\" methods, but these approaches are more commonly known as **machine learning** (ML).\n",
    "\n",
    "Don't be intimidated if you've never used machine learning algorithms before. They are often pretty intuitive, and machine learning software packages are mature. It only takes a few lines of code to start using powerful machine learning algorithms. \n",
    "\n",
    "**The Big Picture**: The big idea of machine learning is to discover patterns in data. In many ways, machine learning is just a more flexible way of doing statistics, in that it lets us interpret data as it relates to a real-world variable of interest. Most things called \"machine learning\" take observations of data (called **features**) and use them to make predictions about a variable of interest. In doing so, machine learning models find values for weights, or **parameters**, that can also be useful to data scientists. \n",
    "\n",
    "For example, in the last assignment we learned how to correlate power at specific frequencies and channels with subsequent memory. These univariate methods effectively allow us to predict whether a subject will later recall an item on the basis of each individual feature (power at a given frequency and channel) separately. ML algorithms let us use those same data to make stronger predictions about whether an item will be remembered by incorporating information from all features. "
   ]
  },
  {
   "cell_type": "markdown",
   "metadata": {
    "tags": []
   },
   "source": [
    "## Linear Regression"
   ]
  },
  {
   "cell_type": "markdown",
   "metadata": {
    "tags": []
   },
   "source": [
    "Linear regression is the \"simplest\" kind of machine learning! Note that much of this lesson on linear regression and its text was sourced from: https://jakevdp.github.io/PythonDataScienceHandbook/05.02-introducing-scikit-learn.html"
   ]
  },
  {
   "cell_type": "code",
   "execution_count": 8,
   "metadata": {},
   "outputs": [
    {
     "data": {
      "text/html": [
       "<div>\n",
       "<style scoped>\n",
       "    .dataframe tbody tr th:only-of-type {\n",
       "        vertical-align: middle;\n",
       "    }\n",
       "\n",
       "    .dataframe tbody tr th {\n",
       "        vertical-align: top;\n",
       "    }\n",
       "\n",
       "    .dataframe thead th {\n",
       "        text-align: right;\n",
       "    }\n",
       "</style>\n",
       "<table border=\"1\" class=\"dataframe\">\n",
       "  <thead>\n",
       "    <tr style=\"text-align: right;\">\n",
       "      <th></th>\n",
       "      <th>sepal_length</th>\n",
       "      <th>sepal_width</th>\n",
       "      <th>petal_length</th>\n",
       "      <th>petal_width</th>\n",
       "      <th>species</th>\n",
       "    </tr>\n",
       "  </thead>\n",
       "  <tbody>\n",
       "    <tr>\n",
       "      <th>0</th>\n",
       "      <td>5.1</td>\n",
       "      <td>3.5</td>\n",
       "      <td>1.4</td>\n",
       "      <td>0.2</td>\n",
       "      <td>setosa</td>\n",
       "    </tr>\n",
       "    <tr>\n",
       "      <th>1</th>\n",
       "      <td>4.9</td>\n",
       "      <td>3.0</td>\n",
       "      <td>1.4</td>\n",
       "      <td>0.2</td>\n",
       "      <td>setosa</td>\n",
       "    </tr>\n",
       "    <tr>\n",
       "      <th>2</th>\n",
       "      <td>4.7</td>\n",
       "      <td>3.2</td>\n",
       "      <td>1.3</td>\n",
       "      <td>0.2</td>\n",
       "      <td>setosa</td>\n",
       "    </tr>\n",
       "    <tr>\n",
       "      <th>3</th>\n",
       "      <td>4.6</td>\n",
       "      <td>3.1</td>\n",
       "      <td>1.5</td>\n",
       "      <td>0.2</td>\n",
       "      <td>setosa</td>\n",
       "    </tr>\n",
       "    <tr>\n",
       "      <th>4</th>\n",
       "      <td>5.0</td>\n",
       "      <td>3.6</td>\n",
       "      <td>1.4</td>\n",
       "      <td>0.2</td>\n",
       "      <td>setosa</td>\n",
       "    </tr>\n",
       "  </tbody>\n",
       "</table>\n",
       "</div>"
      ],
      "text/plain": [
       "   sepal_length  sepal_width  petal_length  petal_width species\n",
       "0           5.1          3.5           1.4          0.2  setosa\n",
       "1           4.9          3.0           1.4          0.2  setosa\n",
       "2           4.7          3.2           1.3          0.2  setosa\n",
       "3           4.6          3.1           1.5          0.2  setosa\n",
       "4           5.0          3.6           1.4          0.2  setosa"
      ]
     },
     "execution_count": 8,
     "metadata": {},
     "output_type": "execute_result"
    }
   ],
   "source": [
    "import seaborn as sns\n",
    "import warnings\n",
    "warnings.filterwarnings(\"ignore\", category=DeprecationWarning)  # suppress annoying deprecation warnings\n",
    "# make plots appear without a separate plt.show() statement\n",
    "%matplotlib inline\n",
    "\n",
    "iris = sns.load_dataset('iris')\n",
    "iris.head()"
   ]
  },
  {
   "cell_type": "markdown",
   "metadata": {},
   "source": [
    "In machine learning, we call these tables **\"feature matrices.\"** The *target array*, or set of values we'd like to predict, is often just called \"y.\" For example, if we wanted to predict flower species from flower morphology, the species name would be the y vector."
   ]
  },
  {
   "cell_type": "code",
   "execution_count": 5,
   "metadata": {},
   "outputs": [
    {
     "name": "stdout",
     "output_type": "stream",
     "text": [
      "(150, 4)\n"
     ]
    }
   ],
   "source": [
    "#Construct a feature matrix without the species\n",
    "X_iris = iris.drop('species', axis=1)\n",
    "\n",
    "#Construct the y vector\n",
    "Y_iris = iris['species']\n",
    "\n",
    "print(X_iris.shape)"
   ]
  },
  {
   "cell_type": "markdown",
   "metadata": {},
   "source": [
    "<img src=\"https://jakevdp.github.io/PythonDataScienceHandbook/figures/05.02-samples-features.png\">"
   ]
  },
  {
   "cell_type": "markdown",
   "metadata": {},
   "source": [
    "### Performing linear regression"
   ]
  },
  {
   "cell_type": "markdown",
   "metadata": {},
   "source": [
    "1.**Choose a class of model**\n",
    "\n",
    "In Scikit-Learn, every class of model is represented by a Python class. So, for example, if we would like to compute a simple linear regression model, we can import the linear regression class:"
   ]
  },
  {
   "cell_type": "code",
   "execution_count": 6,
   "metadata": {},
   "outputs": [],
   "source": [
    "from sklearn.linear_model import LinearRegression"
   ]
  },
  {
   "cell_type": "markdown",
   "metadata": {},
   "source": [
    "2.**Choose model hyperparameters**\n",
    "\n",
    "An important point is that a class of model is not the same as an *instance* of a model.\n",
    "\n",
    "Once we have decided on our model class, there are still some options open to us. Depending on the model class we are working with, we might need to answer one or more questions like the following:\n",
    "\n",
    "* Would we like to fit for the offset (i.e., y-intercept)?\n",
    "* Would we like the model to be normalized?\n",
    "* Would we like to preprocess our features to add model flexibility?\n",
    "* What degree of regularization would we like to use in our model? \n",
    "    * Regularization \"smooths\" model predictions to prevent \"overfitting\" to spurious noise patterns.\n",
    "* How many model components would we like to use?\n",
    "\n",
    "These are examples of the important choices that must be made once the model class is selected. These choices are often represented as hyperparameters, or parameters that must be set before the model is fit to data. In Scikit-Learn, hyperparameters are chosen by passing values at model instantiation."
   ]
  },
  {
   "cell_type": "code",
   "execution_count": 7,
   "metadata": {},
   "outputs": [
    {
     "data": {
      "text/plain": [
       "LinearRegression(copy_X=True, fit_intercept=True, n_jobs=None, normalize=False)"
      ]
     },
     "execution_count": 7,
     "metadata": {},
     "output_type": "execute_result"
    }
   ],
   "source": [
    "#We're setting the fit_intercept hyperparameter\n",
    "model = LinearRegression(fit_intercept=True)\n",
    "model"
   ]
  },
  {
   "cell_type": "markdown",
   "metadata": {},
   "source": [
    "3.**Arrange data into feature matrix and target vector.**"
   ]
  },
  {
   "cell_type": "code",
   "execution_count": 24,
   "metadata": {},
   "outputs": [
    {
     "name": "stdout",
     "output_type": "stream",
     "text": [
      "(50, 1)\n"
     ]
    }
   ],
   "source": [
    "import numpy as np\n",
    "import matplotlib.pyplot as plt\n",
    "\n",
    "#Here, we're going to use synthesized data. Give some random data a slope of 2 and an intercept of -1, and add a bit of noise\n",
    "np.random.seed(102)  # comment this out to get different results on each run. Leave uncommented for consistent results (useful for debugging)\n",
    "\n",
    "N = 50\n",
    "x = 10 * np.random.rand(N)\n",
    "y = 2 * x - 1 + np.random.randn(N)\n",
    "plt.scatter(x, y);\n",
    "\n",
    "#Technically, X needs to be an nx1 shaped array, so...\n",
    "X = x[:, np.newaxis]\n",
    "print(X.shape)"
   ]
  },
  {
   "cell_type": "markdown",
   "metadata": {},
   "source": [
    "4.**Fit the model!**"
   ]
  },
  {
   "cell_type": "code",
   "execution_count": 25,
   "metadata": {},
   "outputs": [
    {
     "data": {
      "text/plain": [
       "LinearRegression(copy_X=True, fit_intercept=True, n_jobs=None, normalize=False)"
      ]
     },
     "execution_count": 25,
     "metadata": {},
     "output_type": "execute_result"
    }
   ],
   "source": [
    "model.fit(X, y)"
   ]
  },
  {
   "cell_type": "code",
   "execution_count": 26,
   "metadata": {},
   "outputs": [
    {
     "name": "stdout",
     "output_type": "stream",
     "text": [
      "[2.07570181]\n",
      "-1.463035291224843\n"
     ]
    }
   ],
   "source": [
    "#Inspect the model parameters\n",
    "print(model.coef_)\n",
    "print(model.intercept_)"
   ]
  },
  {
   "cell_type": "markdown",
   "metadata": {},
   "source": [
    "The model found something pretty close to our original parameters!"
   ]
  },
  {
   "cell_type": "markdown",
   "metadata": {},
   "source": [
    "5.**Predict labels on unknown data**"
   ]
  },
  {
   "cell_type": "code",
   "execution_count": 33,
   "metadata": {},
   "outputs": [
    {
     "data": {
      "image/png": "[encoded data removed]",
      "text/plain": [
       "<Figure size 432x288 with 1 Axes>"
      ]
     },
     "metadata": {
      "needs_background": "light"
     },
     "output_type": "display_data"
    }
   ],
   "source": [
    "# Plot learned linear relationship\n",
    "xfit = np.linspace(-1, 11)\n",
    "Xfit = xfit[:, np.newaxis]\n",
    "yfit = model.predict(Xfit)\n",
    "\n",
    "plt.scatter(x, y)\n",
    "plt.plot(xfit, yfit, 'k');"
   ]
  },
  {
   "cell_type": "code",
   "execution_count": 34,
   "metadata": {},
   "outputs": [
    {
     "name": "stdout",
     "output_type": "stream",
     "text": [
      "R^2: 0.9700259025262968\n",
      "R^2 manual: 0.9700259025262968\n",
      "r**2: 0.9700259025262972\n"
     ]
    }
   ],
   "source": [
    "#Return the R^2 prediction score\n",
    "print('R^2: '+str(model.score(X, y)))\n",
    "\n",
    "#Calculate manually\n",
    "y_pred = model.predict(X)\n",
    "r2_manual = 1-np.sum((y_pred-y)**2)/np.sum((np.mean(y)-y)**2)\n",
    "\n",
    "print('R^2 manual: '+str(r2_manual))\n",
    "\n",
    "#And another way\n",
    "from scipy.stats import pearsonr\n",
    "r, p = pearsonr(y_pred, y)\n",
    "print('r**2: '+str(r**2))"
   ]
  },
  {
   "cell_type": "markdown",
   "metadata": {},
   "source": [
    "**Exercise: Perform a linear regression to predict petal width from sepal length and septal width in the iris dataset. What is the model performance? (i.e. R^2)**"
   ]
  },
  {
   "cell_type": "code",
   "execution_count": null,
   "metadata": {},
   "outputs": [],
   "source": []
  },
  {
   "cell_type": "markdown",
   "metadata": {},
   "source": [
    "**Exercise: Use linear regression to estimate the exponent of the power law for electrodes in R1111M.**"
   ]
  },
  {
   "cell_type": "markdown",
   "metadata": {},
   "source": [
    "1. Select the first 50 electrodes and compute the spectral power for these channels using Morlet wavelets for 30 frequencies between 3 and 150 Hz (np.logspace(np.log10(3), np.log10(150), num=30)) for 1600 ms analysis epochs beginning at the onset of each WORD event with buffers of 1000 ms. "
   ]
  },
  {
   "cell_type": "code",
   "execution_count": null,
   "metadata": {},
   "outputs": [],
   "source": []
  },
  {
   "cell_type": "markdown",
   "metadata": {},
   "source": [
    "2. Fit a regression of $\\log(power) \\sim \\log(freq)$ for each electrode and obtain an estimate for $\\alpha$, where $\\alpha$ is the exponent in $ power \\sim 1/freq^\\alpha$"
   ]
  },
  {
   "cell_type": "code",
   "execution_count": null,
   "metadata": {},
   "outputs": [],
   "source": []
  },
  {
   "cell_type": "markdown",
   "metadata": {},
   "source": [
    "3. Plot the distribution of $\\alpha$ across these 50 electrodes. How consistent are the $\\alpha$'s across these electrodes? "
   ]
  },
  {
   "cell_type": "code",
   "execution_count": null,
   "metadata": {},
   "outputs": [],
   "source": []
  },
  {
   "cell_type": "markdown",
   "metadata": {
    "tags": []
   },
   "source": [
    "## Logistic Regression"
   ]
  },
  {
   "cell_type": "markdown",
   "metadata": {
    "jp-MarkdownHeadingCollapsed": true,
    "tags": []
   },
   "source": [
    "Linear regression allows us to predict a continuous outcome $y$ (with normally distributed errors) from a set of features $x$. However many estimation problems, known as classification problems, involve predicting discrete outcomes (e.g. 'pass' vs. 'fail' or 'recalled' vs. 'not') rather than continuous ones. Logistic regression is a classification method that estimates the probability $p$ that an observation belongs to one of two discrete classes from the observed features $x$. Here we will use logistic regression to predict whether subjects will recall an item during a free recall task based on EEG features recorded when the item was presented. In logistic regression, we model the probability of a binary event occurring by mapping a weighted sum of features to a value ranging from 0 to 1 with the logistic function or sigmoid shown here for the \"logistic model\" for a single feature $x$:\n",
    "\n",
    "<img src=\"https://www.saedsayad.com/images/LogReg_1.png\">\n",
    "\n",
    "A trained classification model or classifier will typically output a continuous \"score\" that quantifies how confident the classifier is that an observation belongs to a given class. A predictive threshold is then set to maximize some classification performance metric. In the case of logistic regression, the predictive \"score\" is the predicted probability $p$, and the threshold is commonly set to 0.5: simply predict a label of '1' if the predicted probability is greater than 0.5 (more likely than not) and '0' otherwise. The threshold more generally is selected in part based on the relative proportions of the two classes in the training data (i.e., if there are far more \"passes\" than \"fails\" in the data, the classifier will tend to predict \"passes\" and require more evidence to predict \"fail\").\n",
    "\n",
    "### Example: Breast Cancer Status Clasification"
   ]
  },
  {
   "cell_type": "code",
   "execution_count": 99,
   "metadata": {},
   "outputs": [],
   "source": [
    "# load data of observations of health indicators with outcomes of whether or not a tumor is malignant.\n",
    "from sklearn.datasets import load_breast_cancer\n",
    "\n",
    "X, y = load_breast_cancer(return_X_y=True)"
   ]
  },
  {
   "cell_type": "code",
   "execution_count": 22,
   "metadata": {},
   "outputs": [
    {
     "data": {
      "text/plain": [
       "(569, 30)"
      ]
     },
     "execution_count": 22,
     "metadata": {},
     "output_type": "execute_result"
    }
   ],
   "source": [
    "X.shape"
   ]
  },
  {
   "cell_type": "code",
   "execution_count": 23,
   "metadata": {},
   "outputs": [
    {
     "data": {
      "text/plain": [
       "(569,)"
      ]
     },
     "execution_count": 23,
     "metadata": {},
     "output_type": "execute_result"
    }
   ],
   "source": [
    "y.shape"
   ]
  },
  {
   "cell_type": "markdown",
   "metadata": {},
   "source": [
    "### Preparing the feature matrix\n",
    "\n",
    "Typically, a feature matrix is a 2D array, with observations as rows and features as columns. You can have as many observations and features as available, but keep in mind that too many features relative to the number of observations can cause issues down the road. If you have many observations and only a handful of features, that should not be a problem. \n",
    "\n",
    "It's often good practice to have features standardized/normalized. This ensures features will tend to fall in similar ranges of values, making them more comparable."
   ]
  },
  {
   "cell_type": "code",
   "execution_count": 18,
   "metadata": {},
   "outputs": [
    {
     "data": {
      "text/plain": [
       "Text(0, 0.5, 'Observations')"
      ]
     },
     "execution_count": 18,
     "metadata": {},
     "output_type": "execute_result"
    },
    {
     "data": {
      "image/png": "[encoded data removed]",
      "text/plain": [
       "<Figure size 360x324 with 1 Axes>"
      ]
     },
     "metadata": {
      "needs_background": "light"
     },
     "output_type": "display_data"
    }
   ],
   "source": [
    "# z-score features to make them comparable and visualize\n",
    "X = (X - X.mean(axis=0)) / X.std(axis=0, ddof=1)\n",
    "\n",
    "import numpy as np\n",
    "plt.figure(figsize=(5, 4.5))\n",
    "ax = plt.subplot(111)\n",
    "plt.matshow(X, aspect='auto', cmap='RdBu_r', \n",
    "            vmin=np.min(X), vmax=np.max(X), \n",
    "            fignum=0)\n",
    "plt.xlabel('Features')\n",
    "plt.ylabel('Observations')"
   ]
  },
  {
   "cell_type": "markdown",
   "metadata": {},
   "source": [
    "### Fitting a model on training data: Hyperparameters\n",
    "\n",
    "Solely for instructional purposes, we're going to do something bad: We're going to train a logistic regression model and test it on the same data. In a real-world machine learning setting, you would almost never do this, because the model will be **overfit** to the training data. That is, it will show a much higher performance than it would in real-world tests on held-out datasets (datasets which were not trained on).\n",
    "\n",
    "Key things to know about fitting a logistic regression model: \n",
    "\n",
    "* **Penalty parameter**: The degree to which the model discounts the contribution of each observation, as a first line of defense against overfitting. This is usually called 'C' in sckikit-learn functions. \n",
    "* **Regularization method**: The manner in which weights are discounted, called 'penalty' in sckikit-learn. For many purposes in the lab, you may want to use the 'l2' norm, which means that weights are penalized according to their squared magnitude. In other words, the larger the coefficient, the more it will be penalized."
   ]
  },
  {
   "cell_type": "code",
   "execution_count": 74,
   "metadata": {},
   "outputs": [
    {
     "data": {
      "text/plain": [
       "LogisticRegression(C=100, class_weight='balanced', dual=False,\n",
       "                   fit_intercept=True, intercept_scaling=1, l1_ratio=None,\n",
       "                   max_iter=100, multi_class='auto', n_jobs=None, penalty='l2',\n",
       "                   random_state=None, solver='liblinear', tol=0.0001, verbose=0,\n",
       "                   warm_start=False)"
      ]
     },
     "execution_count": 74,
     "metadata": {},
     "output_type": "execute_result"
    }
   ],
   "source": [
    "from sklearn.linear_model import LogisticRegression\n",
    "from sklearn.metrics import roc_auc_score, roc_curve\n",
    "\n",
    "#How to fit a logistic regression model using scikit-learn\n",
    "#class_weight helps to adjust for the fact that the number of remembered and not-remembered items are very unequal or imbalanced. \n",
    "lr_classifier = LogisticRegression(C=100, penalty='l2', class_weight='balanced', solver='liblinear')\n",
    "lr_classifier.fit(X, y)"
   ]
  },
  {
   "cell_type": "markdown",
   "metadata": {},
   "source": [
    "### Computing an AUC and plotting ROC curves\n",
    "\n",
    "How do we assess how well our classifier is doing? We could simply ask for percent correct -- what proportion of the total items did the classifier guess correctly? The problem with this approach is that it does not account for the different *ways* in which a classifier can be correct or incorrect. For instance, if there are far more samples with one class label than another, the classifier could simply always predict the more common label and achieve a high accuracy while learning little about the underlying data. What we really want to know is, how well does our classifier *distinguish* between two groups on the basis of the observed features?\n",
    "\n",
    "The solution is to measure the **area under the receiver operating characteristic curve**. Let's unpack what this means! \n",
    "\n",
    "A classifier has: \n",
    "\n",
    "* A True Positive Rate (TPR): The rate at which the classifier says \"1\" when the truth is \"1.\" Also called **sensitivity**.\n",
    "* A False Positive Rate (FPR): The rate at which the classifier says \"1\" when the truth is \"0.\" This is captured by 1-**specificity**. \n",
    "\n",
    "<br>\n",
    "<center>\n",
    "<img src=\"https://acutecaretesting.org/-/media/acutecaretesting/articles/table-i-comparing-a-method-with-the-clinical-truth.gif?w=300&h=193&as=1&la=en\">\n",
    "</center>\n",
    "<br>\n",
    "\n",
    "Ideally, a classifier can fully separate true and false data. That is, it won't say \"1\" when the truth is a zero, but will say \"1\" when the truth is a \"1\". Note that a classifier could correctly identifiy every single \"1\", but if it's also saying \"1\" in response to a bunch of zeros, it isn't a very useful classifier! That is, **we want classifiers with high sensitivity (true positives) but also low 1-specificity (false positives).** The ROC is a way of measuring such performance, by **explicitly graphing the tradeoff between sensitivity and specificity at various thresholds.**\n",
    "\n",
    "<br>\n",
    "<center>\n",
    "<table>\n",
    "    <tr>\n",
    "        <th><img src=\"https://cdn-images-1.medium.com/max/1600/1*yF8hvKR9eNfqqej2JnVKzg.png\"></th>\n",
    "        <th><img src=\"https://cdn-images-1.medium.com/max/800/1*-tPXUvvNIZDbqXP0qqYNuQ.png\" width=250></th>\n",
    "    </tr>\n",
    "</table>\n",
    "</center>\n",
    "\n",
    "As you sweep the threshold across the two distributions, the TPR and FPR are measured at each point, and plotted against each other on 2D axes. After sweeping through the entire range, you're left with an ROC curve -- each point at the end must exist at [0, 0] and [1, 1], because we are either completely guessing \"True\" or completely  guessing \"False.\" The shape of the curve in the middle tells you how good the classifier is.\n",
    "\n",
    "The **AUC** is a single number that quantifies the curve's shape. If the AUC is 0.5, that means it lies flat along the diagonal, and our two distributions are overlapping; TPR and FPR are the same at every threshold. If the AUC is 1, that means our two distributions are completely non-overlapping, and a single threshold can perfectly distinguish between them with no errors. (An AUC of zero would mean the classifier is able to distinguish the two classes, but is flipping the label!)"
   ]
  },
  {
   "cell_type": "code",
   "execution_count": 75,
   "metadata": {},
   "outputs": [
    {
     "name": "stdout",
     "output_type": "stream",
     "text": [
      "0.9992732942233498\n"
     ]
    }
   ],
   "source": [
    "#scikit-learn makes it very easy to get AUCs and ROCs\n",
    "\n",
    "prob_array = lr_classifier.predict_proba(X)[:,1]\n",
    "auc = roc_auc_score(y, prob_array)\n",
    "print(auc)"
   ]
  },
  {
   "cell_type": "code",
   "execution_count": 76,
   "metadata": {},
   "outputs": [
    {
     "data": {
      "text/plain": [
       "Text(0.5, 1.0, 'Training Data ROC-curve')"
      ]
     },
     "execution_count": 76,
     "metadata": {},
     "output_type": "execute_result"
    },
    {
     "data": {
      "image/png": "[encoded data removed]",
      "text/plain": [
       "<Figure size 252x216 with 1 Axes>"
      ]
     },
     "metadata": {
      "needs_background": "light"
     },
     "output_type": "display_data"
    }
   ],
   "source": [
    "roc_curve_data_train = roc_curve(y, prob_array)\n",
    "fpr_train = roc_curve_data_train[0]  #false positive rate\n",
    "tpr_train = roc_curve_data_train[1]  #true positive rate\n",
    "\n",
    "#Plot results\n",
    "plt.figure(figsize=(3.5, 3))\n",
    "ax = plt.subplot(111)\n",
    "plt.plot(fpr_train, tpr_train)\n",
    "plt.plot((0.0,1.0),(0.,1.),'k--')\n",
    "plt.xlabel('FPR', fontsize=14)\n",
    "plt.ylabel('TPR', fontsize=14)\n",
    "plt.title('Training Data ROC-curve')"
   ]
  },
  {
   "cell_type": "markdown",
   "metadata": {},
   "source": [
    "**Exercise: How does the ROC curve/AUC change as a function of the penalty parameter? Vary the penalty across several orders of magnitude.**"
   ]
  },
  {
   "cell_type": "code",
   "execution_count": null,
   "metadata": {},
   "outputs": [],
   "source": []
  },
  {
   "cell_type": "markdown",
   "metadata": {},
   "source": [
    "**Exercise: Randomly select a subset of features from the feature matrix (with C fixed at 100 as before), and recompute the AUC. Given these results will depend on the particular features randomly subset, compute these values for 100 different random subsets of features and average the obtained AUCs across simulation runs to estimate the expected effect of randomly dropping features. How does the expected AUC change as a function of the number of features?**"
   ]
  },
  {
   "cell_type": "code",
   "execution_count": null,
   "metadata": {},
   "outputs": [],
   "source": []
  },
  {
   "cell_type": "markdown",
   "metadata": {
    "tags": []
   },
   "source": [
    "## Visualizing classifier output"
   ]
  },
  {
   "cell_type": "markdown",
   "metadata": {},
   "source": [
    "For logistic regression classifier we estimate probabilities that a given event belongs to a class of recalled events. The probability formula is given by:\n",
    "\n",
    "$P(x)=\\left({1+e^{-\\left(B+\\sum w_i x_i\\right)}}\\right)^{-1}$\n",
    "\n",
    "which implies that we are looking for a dividing hyperplane that will separate recalled and non-recalled events. Every point along this hyperplane is assigned the same confidence score by the classifier as described earlier. This score is specifically the classification threshold. The equation of this hyperplane is simply\n",
    "\n",
    "$B+\\sum w_i x_i = 0$\n",
    "\n",
    "where $B$ is the intercept and $w_i$'s are weights coefficients fitted by Logistic Regression algorithm. $x_i$'s are features of the classifier - in our case $x_i$'s denote mean powers for the i-th combination of spectral frequency and bipolar pair. While ROC and AUC can give you a sense of classifier performance, sometimes it is nice to be able to visualize how well the dividing hyperplane separates data points belonging to thtw two classes (here recalled vs non recalled) We can do it by projecting N dimensional space into two dimennsions and plot dividing plane as well as individual , color-coded events. Let's rewrite $B+\\sum w_i x_i = 0$ as \n",
    "\n",
    "$ B+X+Y = 0 $ where $X = \\sum_{i=0}^{i=200} w_i x_i$ and $Y = \\sum_{i=201}^{i=N} w_i x_i$. The number 200 is arbitrary here. The idea is that we can treat a weighted sum of first n features as one variable and the weighted sum of the remaining features as another variable and plot those on a scatter plot. Here $n=200$, and $N$ denotes total number of features. Since $ B+X+Y = 0 $ is the exponent in the logistic probability function, the line along which the probability of the data point belonging to either class is exactly 0.5 (the threshold) is called the dividing line. The equation of the dividing line is exactly \n",
    "\n",
    "$ B+X+Y = 0 $ \n",
    "\n",
    "because when the exponent is $0$,\n",
    "\n",
    "$P(x)=\\left({1+e^{-0}}\\right)^{-1}=0.5$\n",
    "\n",
    "Now, the data points that lie above the dividing line will get assigned high probability (here, of being recalled) and those that lie below will get assigned low probability"
   ]
  },
  {
   "cell_type": "code",
   "execution_count": 77,
   "metadata": {},
   "outputs": [
    {
     "data": {
      "text/plain": [
       "Text(0.5, 1.0, 'Distribution of classifier weights')"
      ]
     },
     "execution_count": 77,
     "metadata": {},
     "output_type": "execute_result"
    },
    {
     "data": {
      "image/png": "[encoded data removed]",
      "text/plain": [
       "<Figure size 432x288 with 1 Axes>"
      ]
     },
     "metadata": {
      "needs_background": "light"
     },
     "output_type": "display_data"
    }
   ],
   "source": [
    "# Inspect the classifier weights.\n",
    "w_tmp = np.squeeze(lr_classifier.coef_)\n",
    "plt.hist(w_tmp)\n",
    "plt.xlabel('Classifier weights')\n",
    "plt.ylabel('Counts')\n",
    "plt.title('Distribution of classifier weights')"
   ]
  },
  {
   "cell_type": "code",
   "execution_count": 78,
   "metadata": {},
   "outputs": [],
   "source": [
    "# For demonstration purposes, take the weighted sum of the first chunk\n",
    "# of features as X values and last chunk of features for Y values.\n",
    "# A quick-and-direct dimensionality reduction of the feature space.\n",
    "\n",
    "# Create an empty weight object with column for intercept and columns\n",
    "# for classifier-derived weights.\n",
    "w = np.zeros(len(w_tmp)+1)\n",
    "w[0] = lr_classifier.intercept_\n",
    "w[1:] = w_tmp\n",
    "\n",
    "# Use dot product to get weighted sum of first 200 features as X\n",
    "# and remaining features as Y.\n",
    "x_project = np.dot(X[:,:15], w[1:16])\n",
    "y_project = np.dot(X[:,15:], w[16:])\n",
    "ind = y==0"
   ]
  },
  {
   "cell_type": "code",
   "execution_count": 86,
   "metadata": {},
   "outputs": [
    {
     "data": {
      "text/plain": [
       "<matplotlib.collections.PathCollection at 0x2af8f8787f10>"
      ]
     },
     "execution_count": 86,
     "metadata": {},
     "output_type": "execute_result"
    },
    {
     "data": {
      "image/png": "[encoded data removed]",
      "text/plain": [
       "<Figure size 432x432 with 1 Axes>"
      ]
     },
     "metadata": {
      "needs_background": "light"
     },
     "output_type": "display_data"
    }
   ],
   "source": [
    "# Plot results.\n",
    "fig = plt.figure(figsize=(6, 6))\n",
    "\n",
    "x = np.linspace(-70,10, 100)\n",
    "plt.plot(x, -w[0]-x)\n",
    "plt.scatter(x_project[ind], y_project[ind], s=80, facecolors='none', edgecolors='r')\n",
    "plt.scatter(x_project[~ind], y_project[~ind], s=80, facecolors='none', edgecolors='b')"
   ]
  },
  {
   "cell_type": "markdown",
   "metadata": {
    "tags": []
   },
   "source": [
    "## Cross-validation"
   ]
  },
  {
   "cell_type": "markdown",
   "metadata": {
    "jupyter": {
     "source_hidden": true
    },
    "tags": []
   },
   "source": [
    "In the previous assignment, we learned how to train a classifier on observed features and labels\\. But we trained the classifier and tested its performance on the same dataset, which is very problematic for evaluating the classifier's performance. Why?\n",
    "\n",
    "Imagine some students went to a review session before an exam, but the teaching assistant leading the review simply gave away all the test questions during the review session. Predictably the students would ace the exam, but would this indicate anything about whether they deeply understood the covered material? Of course not! Even students who understood the material poorly could still memorize a set of arbitrary solutions and regurgitate them.\n",
    "\n",
    "Similarly, if the purpose of machine learning methods is to make predictions on new data -- e.g. will this subject remember this word? -- then we want to test its performance on new data, i.e., data it hasn't been trained on! Training a model involves finding a very particular set of weights on each feature, and those weights can end up being very specifically tuned to the training data. A classifier will do a great job predicting labels on data it already saw, but it will fail to predict labels for new and somewhat different data.\n",
    "\n",
    "<center>\n",
    "<img src=\"https://cdn-images-1.medium.com/max/800/1*tBErXYVvTw2jSUYK7thU2A.png\" width=500>\n",
    "</center>\n",
    "\n",
    "In ML parlance, we want our models to avoid **overfitting** the training data and to **generalize** to held-out datasets. Ensuring this generalizability by testing on held-out data is called **validation**. Let's see how it's done!\n",
    "\n",
    "<center>\n",
    "<img src=\"https://cdn-images-1.medium.com/max/800/1*4G__SV580CxFj78o9yUXuQ.png\" width=650>\n",
    "</center>\n",
    "    \n",
    "<a href=\"https://towardsdatascience.com/train-test-split-and-cross-validation-in-python-80b61beca4b6\">Image source</a>\n"
   ]
  },
  {
   "cell_type": "markdown",
   "metadata": {},
   "source": [
    "The basic idea to break up our dataset into **train/test splits**. There are many ways to do this: For instance, we could break up the set of observations into K subsets or \"folds\" and train on the first K-1 folds and test on the remaining fold that was held out. Then we'd have confidence that we'd achieve predictive performance on new data in the real world something much closer to what we see in the hold set that wasn't trained on. You typically want your training set to be bigger than your testing set.\n",
    "\n",
    "See also here for a good tutorial on nested cross validation for parameter tuning: https://chrisalbon.com/machine_learning/model_evaluation/nested_cross_validation/"
   ]
  },
  {
   "cell_type": "code",
   "execution_count": 41,
   "metadata": {},
   "outputs": [
    {
     "name": "stdout",
     "output_type": "stream",
     "text": [
      "Train:(456, 30)\n",
      "Test:(113, 30)\n"
     ]
    }
   ],
   "source": [
    "# Select our training data events to be a random 80% of the data.\n",
    "# Remember that the feature matrix is events X features in shape\n",
    "\n",
    "idx = np.repeat(np.arange(5), len(X)//5 + 1)\n",
    "idx = np.tile(np.arange(5), len(X)//5 + 1)[:len(X)]\n",
    "idx = np.random.permutation(idx)\n",
    "train_mask = idx != 4\n",
    "X_train = X[train_mask, :]\n",
    "y_train = y[train_mask]\n",
    "\n",
    "# Make our testing data from the last session.\n",
    "X_test = X[~train_mask, :]\n",
    "y_test = y[~train_mask]\n",
    "\n",
    "print('Train:'+str(X_train.shape))\n",
    "print('Test:'+str(X_test.shape))"
   ]
  },
  {
   "cell_type": "code",
   "execution_count": 88,
   "metadata": {},
   "outputs": [
    {
     "data": {
      "text/plain": [
       "LogisticRegression(C=100, class_weight='balanced', dual=False,\n",
       "                   fit_intercept=True, intercept_scaling=1, l1_ratio=None,\n",
       "                   max_iter=100, multi_class='auto', n_jobs=None, penalty='l2',\n",
       "                   random_state=None, solver='liblinear', tol=0.0001, verbose=0,\n",
       "                   warm_start=False)"
      ]
     },
     "execution_count": 88,
     "metadata": {},
     "output_type": "execute_result"
    }
   ],
   "source": [
    "from sklearn.linear_model import LogisticRegression\n",
    "from sklearn.metrics import roc_auc_score, roc_curve\n",
    "\n",
    "# Instantiate the classifier and fit to training data.\n",
    "C_ = 100\n",
    "lr_classifier = LogisticRegression(C=C_, penalty='l2', class_weight='balanced', solver='liblinear')\n",
    "lr_classifier.fit(X_train, y_train)"
   ]
  },
  {
   "cell_type": "code",
   "execution_count": 89,
   "metadata": {},
   "outputs": [
    {
     "name": "stdout",
     "output_type": "stream",
     "text": [
      "0.9651732797589152\n"
     ]
    }
   ],
   "source": [
    "# Test the model on the held-out data\n",
    "prob_array = lr_classifier.predict_proba(X_test)[:,1]\n",
    "auc = roc_auc_score(y_test, prob_array)\n",
    "print(auc)"
   ]
  },
  {
   "cell_type": "markdown",
   "metadata": {},
   "source": [
    "Pretty good, but not as good as the AUC obtained in the previous assignment when we trained and tested on the same dataset. Let's try all possible combinations of leave-one-fold-out train/test splits, and compute the average AUC across all splits."
   ]
  },
  {
   "cell_type": "code",
   "execution_count": 90,
   "metadata": {},
   "outputs": [],
   "source": [
    "test_aucs = []\n",
    "test_rocs = []\n",
    "\n",
    "# Loop through all possible sessions as the testing set.\n",
    "for test_idx in np.unique(idx):\n",
    "    mask = idx == test_idx\n",
    "    # Make our train/test splits across sessions.\n",
    "    X_train = X[mask]\n",
    "    y_train = y[mask]\n",
    "    \n",
    "    X_test = X[~mask]\n",
    "    y_test = y[~mask]\n",
    "    \n",
    "    # Fit the classfier to the training set.\n",
    "    lr_classifier = LogisticRegression(C=C_, penalty='l2', class_weight='balanced', solver='liblinear')\n",
    "    lr_classifier.fit(X_train, y_train)\n",
    "    \n",
    "    # Compute the AUC for each testing set.\n",
    "    prob_array = lr_classifier.predict_proba(X_test)[:,1]\n",
    "    auc = roc_auc_score(y_test, prob_array)\n",
    "    test_aucs.append(auc)\n",
    "    \n",
    "    # Compute the ROC for each testing set.\n",
    "    roc_curve_data = roc_curve(y_test, prob_array)\n",
    "    test_rocs.append(roc_curve_data)"
   ]
  },
  {
   "cell_type": "code",
   "execution_count": 91,
   "metadata": {},
   "outputs": [
    {
     "name": "stdout",
     "output_type": "stream",
     "text": [
      "[0.9915169660678643, 0.9932372645683225, 0.9869427811044578, 0.9925665101721439, 0.9651732797589152]\n",
      "0.9858873603343408\n"
     ]
    }
   ],
   "source": [
    "print(test_aucs)\n",
    "print(np.mean(test_aucs))"
   ]
  },
  {
   "cell_type": "markdown",
   "metadata": {},
   "source": [
    "While these are all quite good AUCs, indiciating the classifier can distinguish benign from malignant tumors well above chance, none of them are quite as good as our training-set AUC of 0.9999 from the previous assignment. That's to be expected -- essentially, the classifier overfit to the training data."
   ]
  },
  {
   "cell_type": "code",
   "execution_count": 92,
   "metadata": {},
   "outputs": [
    {
     "data": {
      "text/plain": [
       "Text(0, 0.5, 'TPR')"
      ]
     },
     "execution_count": 92,
     "metadata": {},
     "output_type": "execute_result"
    },
    {
     "data": {
      "image/png": "[encoded data removed]",
      "text/plain": [
       "<Figure size 324x324 with 1 Axes>"
      ]
     },
     "metadata": {
      "needs_background": "light"
     },
     "output_type": "display_data"
    }
   ],
   "source": [
    "%matplotlib inline\n",
    "import warnings\n",
    "warnings.filterwarnings(\"ignore\", category=DeprecationWarning)  # suppress annoying deprecation warnings\n",
    "import matplotlib.pyplot as plt\n",
    "\n",
    "# Plot the ROC curve for each held-out session.\n",
    "plt.figure(figsize=(4.5, 4.5))\n",
    "\n",
    "for roc_ in test_rocs:\n",
    "    fpr = roc_[0]\n",
    "    tpr = roc_[1]\n",
    "    \n",
    "    plt.plot(fpr, tpr)\n",
    "\n",
    "# Make the plot pretty.\n",
    "plt.plot((0.0,1.0),(0.,1.),'k--')\n",
    "plt.xlabel('FPR', fontsize=14)\n",
    "plt.ylabel('TPR', fontsize=14)"
   ]
  },
  {
   "cell_type": "code",
   "execution_count": 96,
   "metadata": {},
   "outputs": [
    {
     "name": "stdout",
     "output_type": "stream",
     "text": [
      "[1 2 3 4]\n",
      "[0]\n",
      "[0 2 3 4]\n",
      "[1]\n",
      "[0 1 3 4]\n",
      "[2]\n",
      "[0 1 2 4]\n",
      "[3]\n",
      "[0 1 2 3]\n",
      "[4]\n"
     ]
    }
   ],
   "source": [
    "# Note that k-fold cross validation can be implemented directly in sklearn.\n",
    "from sklearn.model_selection import KFold\n",
    "\n",
    "kf = KFold(n_splits=5)\n",
    "\n",
    "data = np.arange(5) + 5\n",
    "print('Data to split:', data)\n",
    "print('Splits:')\n",
    "for train_index, test_index in kf.split(data):\n",
    "    print(train_index)\n",
    "    print(test_index)\n",
    "    print()"
   ]
  },
  {
   "cell_type": "markdown",
   "metadata": {},
   "source": [
    "**Exercise: How does the 5-fold cross-validated AUC change as a function of the penalty parameter? Vary the penalty across several orders of magnitude as in the previous exercise. Plot these cross-validated AUCs on the same plot as the train AUCs obtained in the previous exercise.**"
   ]
  },
  {
   "cell_type": "code",
   "execution_count": null,
   "metadata": {},
   "outputs": [],
   "source": []
  },
  {
   "cell_type": "markdown",
   "metadata": {},
   "source": [
    "**Exercise: Randomly select a subset of features from the feature matrix (with C fixed at 10000 to simulate a low regularization setting), and this time compute the 5-fold cross-validated AUC. Compute these values for 100 different random subsets of features and average the obtained AUCs across simulation runs as in the previous exercise to estimate the expected effect of randomly dropping features. How does the expected cross-validated AUC change as a function of the number of features?**"
   ]
  },
  {
   "cell_type": "code",
   "execution_count": null,
   "metadata": {},
   "outputs": [],
   "source": []
  },
  {
   "cell_type": "markdown",
   "metadata": {
    "jp-MarkdownHeadingCollapsed": true,
    "tags": []
   },
   "source": [
    "### Feature Selection"
   ]
  },
  {
   "cell_type": "markdown",
   "metadata": {},
   "source": [
    "**Feature selection** is an important part of designing effective machine learning models. What features are most important for making correct classifications? Are we asking our models to sift through many more feature than are necessary? How do we decide what the best features are? \n",
    "\n",
    "There is no \"right\" way to do feature selection. In fact, some of the best feature selection is done of the basis of your **pre-existing domain knowledge.** We know, for example, that spectral power in frequencies between 3 and 200 Hz are related to episodic memory, so we fed those into our algorithm instead of 1 Hz or 300 Hz activity. Other neuroscientists might have suggested an even smaller range of frequencies! Understanding the data you're working with can really help!\n",
    "\n",
    "There are also algorithmic approaches to feature selection:\n",
    "\n",
    "* A common approach to reducing the feature space is **principle components analysis**, or PCA. We don't have time to get into the details, but the big-picture idea is that PCA reduces a high-dimensional matrix to a much lower-dimensional form, by finding a set of orthogonal axes which best capture the variability in the data. \n",
    "* You can also select features based on the *univariate* correlation with your dependent variable. We already calculated univariate t-statistics a few days ago! A reasonable approach would be to find the top N features, ranked by their t-statistics, and only select those to enter your feature matrix. \n",
    "* *Always* make sure that any feature-selection process you choose is calculated without mixing values between the training and the testing set. Find the best features using the training set, and select those same features in the test set -- no peeking into the test set before you run your model!"
   ]
  },
  {
   "cell_type": "markdown",
   "metadata": {},
   "source": [
    "#### PCA on the feature matrix"
   ]
  },
  {
   "cell_type": "code",
   "execution_count": 97,
   "metadata": {},
   "outputs": [
    {
     "data": {
      "text/plain": [
       "Text(0, 0.5, 'PC2')"
      ]
     },
     "execution_count": 97,
     "metadata": {},
     "output_type": "execute_result"
    },
    {
     "data": {
      "image/png": "[encoded data removed]",
      "text/plain": [
       "<Figure size 432x288 with 1 Axes>"
      ]
     },
     "metadata": {
      "needs_background": "light"
     },
     "output_type": "display_data"
    }
   ],
   "source": [
    "from sklearn.decomposition import PCA\n",
    "\n",
    "# Instantiate our PCA class.\n",
    "pca = PCA(n_components=5)\n",
    "\n",
    "# Reduce the feature matrix to 5 dimensions.\n",
    "X_red = pca.fit_transform(X)\n",
    "\n",
    "# Plot the first two principle components.\n",
    "plt.figure()\n",
    "plt.scatter(X_red[:, 0], X_red[:, 1], s=20)\n",
    "plt.xlabel('PC1', fontsize=14)\n",
    "plt.ylabel('PC2', fontsize=14)"
   ]
  },
  {
   "cell_type": "markdown",
   "metadata": {},
   "source": [
    "**Exercise: Re-run logistic regression using the 5 PCA-reduced features and C = 100. How does the cross-validated model performance compare to the original feature matrix?**"
   ]
  },
  {
   "cell_type": "code",
   "execution_count": null,
   "metadata": {},
   "outputs": [],
   "source": []
  },
  {
   "cell_type": "markdown",
   "metadata": {
    "tags": []
   },
   "source": [
    "### Ranking by univariate statistics"
   ]
  },
  {
   "cell_type": "code",
   "execution_count": 98,
   "metadata": {},
   "outputs": [
    {
     "data": {
      "image/png": "[encoded data removed]",
      "text/plain": [
       "<Figure size 432x288 with 1 Axes>"
      ]
     },
     "metadata": {
      "needs_background": "light"
     },
     "output_type": "display_data"
    },
    {
     "data": {
      "image/png": "[encoded data removed]",
      "text/plain": [
       "<Figure size 432x288 with 1 Axes>"
      ]
     },
     "metadata": {
      "needs_background": "light"
     },
     "output_type": "display_data"
    },
    {
     "data": {
      "image/png": "[encoded data removed]",
      "text/plain": [
       "<Figure size 432x288 with 1 Axes>"
      ]
     },
     "metadata": {
      "needs_background": "light"
     },
     "output_type": "display_data"
    }
   ],
   "source": [
    "# Basic idea is to find the univariate features that have the best correlation\n",
    "# with outcome, pick the top M, and use those for classification.\n",
    "\n",
    "M = 15\n",
    "\n",
    "# Run 2-sample t-test between remembered and not-remembered items in the feature matrix.\n",
    "from scipy.stats import ttest_ind\n",
    "t, p = ttest_ind(X[y==1, :], X[y==0, :], axis=0, equal_var=False)\n",
    "\n",
    "# Plot results.\n",
    "plt.figure()\n",
    "ax = plt.subplot(111)\n",
    "plt.plot(t);\n",
    "plt.hlines([0], xmin=ax.get_xlim()[0], xmax=ax.get_xlim()[1], color='k', linestyles='--')\n",
    "plt.xlabel('Feature Index', fontsize=14)\n",
    "plt.ylabel('T-stat', fontsize=14);\n",
    "\n",
    "# Since we're interested in the most relevant variables for prediction,\n",
    "# taking the absolute value of the t-stats is helpful.\n",
    "plt.figure()\n",
    "ax = plt.subplot(111)\n",
    "plt.plot(np.abs(t));\n",
    "plt.hlines([0], xmin=ax.get_xlim()[0], xmax=ax.get_xlim()[1], color='k', linestyles='--')\n",
    "plt.xlabel('Feature Index', fontsize=14)\n",
    "plt.ylabel('T-stat', fontsize=14);\n",
    "\n",
    "# Rank and select the top 100 most memory-relevant features.\n",
    "rank_idx = np.argsort(np.abs(t))\n",
    "picks = rank_idx[-M:]\n",
    "\n",
    "plt.figure()\n",
    "ax = plt.subplot(111)\n",
    "plt.plot(np.abs(t));\n",
    "plt.plot(picks, np.abs(t)[picks], 'o', color='red')\n",
    "plt.hlines([0], xmin=ax.get_xlim()[0], xmax=ax.get_xlim()[1], color='k', linestyles='--')\n",
    "plt.xlabel('Feature Index', fontsize=14)\n",
    "plt.ylabel('T-stat', fontsize=14);"
   ]
  },
  {
   "cell_type": "markdown",
   "metadata": {},
   "source": [
    "**Exercise: Feature selection should take place in a cross-validated manner. That is, features should be selected on the basis of training data, and then applied to testing data. Re-write the 5-fold cross validation with univariate-based feature selection, again with C = 100. What happens to classifier performance?**"
   ]
  },
  {
   "cell_type": "code",
   "execution_count": null,
   "metadata": {},
   "outputs": [],
   "source": []
  },
  {
   "cell_type": "markdown",
   "metadata": {},
   "source": [
    "# Assignment 4: Multivariate and Machine-Learning Analysis of Intracranial EEG Data\n",
    "\n",
    "This project is designed to familiarize you with multivariate analysis of intracranial EEG data. For each subject, you will train a logistic-regression classifier to discriminate subsequently recalled vs non-recalled studied items using the distribution of spectral power across electrodes as the features. After completing the assignment you should be able to do the following:\n",
    "* Part 1: Fit an L2-penalized logistic regression classifier to intracranial electrophysiological recordings. Construct a receiver operating characteristic (ROC) curve and compute area under the curve (AUC) to assess classifier performance. Compare train and test performance.\n",
    "* Part 2: Optimize model penalization parameters using nested cross-validation, specifically focusing on L2 penalization. Compare z-scoring feate\n",
    "* Part 3: Compare and contrast the performances of classifiers with different penalization schemes such as L1, L2, and elastic net.\n",
    "\n",
    "For Parts 1 and 2, use data from the following 20 FR1/catFR1 subjects in the intracranial EEG (iEEG) dataset."
   ]
  },
  {
   "cell_type": "code",
   "execution_count": null,
   "metadata": {},
   "outputs": [],
   "source": [
    "subs = ['R1380D', 'R1380D', 'R1111M', 'R1332M', 'R1377M', \n",
    "        'R1065J', 'R1385E', 'R1189M', 'R1108J', 'R1390M', \n",
    "        'R1236J', 'R1391T', 'R1401J', 'R1361C', 'R1060M', \n",
    "        'R1350D', 'R1378T', 'R1375C', 'R1383J', 'R1354E', \n",
    "        'R1292E']"
   ]
  },
  {
   "cell_type": "markdown",
   "metadata": {},
   "source": [
    "All analyses in Part 1 should be performed on all 20 iEEG subjects. For each of these subjects, use the following processing steps:\n",
    "* Load EEG with CMLReader.load_eeg from a bipolar montage loaded using CMLReader.load('pairs').\n",
    "* Apply a Butterworth notch filter around 60 Hz (freqs = [58 62]) when extracting the voltage.\n",
    "* Calculate power at the above frequencies with a Morlet wavelet with wavenumber (keyword “width”) of 6 for each encoding event (from time 0 until 1.6 seconds after the encoding event onset) using a 1 second buffer.\n",
    "* For each frequency, channel, and encoding event, average the power over the entire 1600 ms encoding period (but not over the buffer period!)\n",
    "* Log-transform the average encoding power values as in the final step of the previous problem.\n",
    "* In some cases you may notice artifacts in the data that manifest in power values of zero. These would produce problems in the transformation and classification, so please exclude any events with this issue from all analyses."
   ]
  },
  {
   "cell_type": "markdown",
   "metadata": {
    "tags": []
   },
   "source": [
    "For the first part of this assignment, you will train an L2-penalized logistic regression classifier on the time-frequency (TF) data obtained during item encoding for every subject. Throughout this assignment, unless otherwise specified, we will use the default parameters for the *LogisticRegression* classifier in sklearn.\n",
    "\n",
    "1. Generate features: \n",
    "* For your input features, extract spectral power as in Assignment 2 with Morlet wavelets at 8 frequencies logarithmically spaced between 3 and 180 Hz (np.logspace(np.log10(3), np.log10(180),8)) for each recorded electrode pair (“channel”). Average the power across each of these frequencies over the 1600 ms word encoding period.\n",
    "* For each subject, create an $X_{N×p}$ matrix of spectral power patterns ($N$= number of encoding events concatenated across sessions; $p$ = number of frequencies × number of channels) and obtain the $y_{N×1}$ vector of labels (1: recalled, 0: non-recalled). The pair $(X, y)$ will be our dataset.\n",
    "* Z-score the features across observations (i.e., events) within each session. Since we're performing leave-one-session-out cross validation in this assignment, z-scoring within-session prevents information from leaking between train sessions and test sessions through the z-score statistics.\n",
    "* Some subjects will have different sets of electrodes for different recording sessions. For these subjects you can drop the sessions such that you keep the largest possible set of available sessions which all have the same recording contacts (there could be groups of sessions for the same subject with different electrode sets). The reasons a subject might have different active recording electrodes across sessions are:\n",
    "    * some subjects have so many electrodes implanted that not all of them could be recorded from simultaneously; these subjects will sometimes then have different \"montages\" in which different electrodes are turned connected or disconnected or\n",
    "    * some subjects have multiple implant surgeries, with different electrodes being in place after each operation, meaning again that the same subject will have different sets of electrodes."
   ]
  },
  {
   "cell_type": "code",
   "execution_count": null,
   "metadata": {},
   "outputs": [],
   "source": []
  },
  {
   "cell_type": "markdown",
   "metadata": {},
   "source": [
    "2. Cross-validation:\n",
    "* Use leave-one-session-out cross-validation to train and test L2-penalized logistic regression classifiers. This means that for each cross-validation iteration, you will (1) leave out one session ($X_{test}$, $y_{test}$), (2) train the model on the other sessions ($X_{train}$, $y_{train}$), and (3) test the trained model on the held-out session. Repeat this procedure by iterating across all sessions that a subject has. For each iteration of the cross-validation procedure, you will train the L2-penalized logistic regression classifier on the encoding events from all sessions except the held-out session. You will take the model fit to this training set and use it to predict recall performance for the encoding events in the held-out session. For each encoding event in the held out session, you should get a predicted probability that this item will be subsequently recalled. Once you have held out each session (i.e., at the end of the leave-one-session-out cross-validation procedure), you will have the predicted probability for each encoding event (all predicted by models trained on all encoding events except for the ones in the same session). After doing the above separately for each subject, you should now have cross-validated predictions for all encoding events. Use the default penalty parameter (C) of 1.0 (you will optimize this parameter for some subjects in Part 2). \n",
    "* For the first three subjects in the list above, plot a histogram of the predicted cross-validated probabilities across all encoding events, giving different colors to predictions for encoding events of words that were subsequently recalled and for encoding events for words that were not recalled. How strongly do the neural features predict subsequent recall?\n",
    "* Hint: since different sessions have different numbers of events (subjects can discontinue a session partway through), you'll need to implement leave-one-session-out cross validation without using the KFold sklearn class used in the examples from the intro material."
   ]
  },
  {
   "cell_type": "code",
   "execution_count": null,
   "metadata": {},
   "outputs": [],
   "source": []
  },
  {
   "cell_type": "markdown",
   "metadata": {},
   "source": [
    "3. Construct across-subject ROCs and AUCs using sklearn functions:\n",
    "* To assess the performance of a classifier, we will utilize the area under the receiver operating curve (AUC). Using sklearn’s ROC curve function, calculate the ROC and the corresponding AUC for each subject. Plot all the subjects’ ROC curves in one plot, and plot all the subjects’ AUCs in one histogram. To compute a subject-level ROC curve and AUC value, pool all predictions across the outer cross-validation folds and compute the AUC/ROC curve with the pooled predictions.\n",
    "* How good is the performance? Run a statistical test to determine if the between-subject average performance is reliably above chance."
   ]
  },
  {
   "cell_type": "code",
   "execution_count": null,
   "metadata": {},
   "outputs": [],
   "source": []
  },
  {
   "cell_type": "markdown",
   "metadata": {},
   "source": [
    "4. Report mean train AUCs and mean test AUCs across cross validation folds for all subjects with two overlapping histograms (two histograms in the same plot). In comparison to how the test AUCs were computed at the subject level in previous problems, you can compute the train and test AUCs for a given outer fold with just the predictions from that fold; then you can average those fold-level AUCs together.\n",
    "* What is the mean difference across subjects in cross-validated AUC scores between training and testing?"
   ]
  },
  {
   "cell_type": "code",
   "execution_count": null,
   "metadata": {},
   "outputs": [],
   "source": []
  },
  {
   "cell_type": "markdown",
   "metadata": {
    "tags": []
   },
   "source": [
    "## Part 2: Can we do better? Optimizing hyperparameters using nested cross-validation\n",
    "\n",
    "1. In the previous part you used a fixed penalty parameter (C = 1) for all subjects. Oftentimes we want to tune the hyperparameters of a model to optimize its performance. It is crucial to make it clear that the aim of cross-validation is not to get one or multiple trained models for inference, but to estimate an unbiased generalization performance. We can use a grid search approach in which we search over a grid of 10 values of C logarithmically spaced between $10^{−6}$ and $10^2$ (np.logspace(-6,2,10)). One naive approach is to repeat Part I for every C value and select the optimal C that maximizes the average AUC across folds. The problem is, if we use the test set multiple times for different trained models, during our selection of the optimal model, the test set actually “leaks” information, and is thus impure or biased. To rigorously select the optimal parameter C and correctly estimate the prediction error of the optimal model, we utilize a nested cross-validation procedure. As the name suggests, you will perform two rounds of cross-validation with the inner CV nested in the outer CV. The outer CV is responsible for obtaining the prediction error for the model and the inner CV is responsible for selecting the optimal hyperparameter for each outer CV fold. We apply the nested cross-validation procedure to our dataset as follows:\n",
    "* For each subject, divide the dataset into K folds corresponding to K sessions.\n",
    "* For each fold k = 1, · · · , K (outer loop for evaluation of the model):\n",
    "    * Let *test* be the kth session (hold-out fold), and *train_val* be all other sessions except the kth fold. *train_val* should have K − 1 sessions. We next perform cross-validation on the train-validation data (inner CV), while leaving the test data alone.\n",
    "    * For each l = 1, · · · , K − 1 (inner loop for hyperparameter tunning):\n",
    "        - Let *val_inner* be the held-out fold for the inner CV, and *train_inner* be the other K − 2 sessions except for the lth fold.\n",
    "        - For each value C in the grid, train a classifier on the *train_inner* data set and obtain prediction for the inner held-out fold, *val_inner*.\n",
    "        - Repeat the procedure until you sweep through every session of trainval.\n",
    "    * Select the optimal C from the inner cross-validation that maximizes the inner AUC for the *train_val* data.\n",
    "    * Retrain the model using the entire *train_val* data with the optimal C.\n",
    "    * Finally, test the optimal model on the outer held-out fold K.\n",
    "* Repeat the procedure, holding out each fold in turn as the test fold. As you notice, the procedure above is computationally intensive and requires a lot of data. For instance, R1065J has 10 sessions of data. We perform 10 iterations for the outer CV and for each held-out session in the outer CV, we perform an inner CV procedure on the outer training data, which entails an addition of 9 iterations. On top of it, we need to perform the inner CV for all 10 values of C in the grid. As a result, you will be training 10 × 9 × 10 = 900 classifiers for a single subject using this procedure. Your task for Part 3 is to perform nested CV on subjects with at least 6 sessions of data and compare the performance (AUC) of the optimal classifier (with the optimal C) to the default classifier (with C = 1.0) using L2 penalized logistic regression. \n",
    "\n",
    "Does optimizing the regularization hyperparameter help? Use barplots, scatterplots, and appropriate statistical tests to support your conclusions."
   ]
  },
  {
   "cell_type": "code",
   "execution_count": null,
   "metadata": {},
   "outputs": [],
   "source": []
  },
  {
   "cell_type": "markdown",
   "metadata": {
    "tags": []
   },
   "source": [
    "## Part 3: Comparison between different penalization schemes and z-scoring features\n",
    "\n",
    "1. In this section you will investigate how different penalization schemes and how z-scoring features can produce different behaviors in the classifier. Recall that the objective function for penalized logistic regression is: \n",
    "\n",
    "$l(\\beta) = \\Sigma_{i=1}^N{y_i log p_i + (1 − y_i) log(1 − p_i)} + \\frac{\\alpha}{2} r||\\beta||_2^2 + \\alpha(1 − r)||\\beta||_1$\n",
    "\n",
    "where, $\\alpha = 1/C$ is the penalty parameter, r is the contribution of L2 penalty, and 1 − r is the contribution of L1 penalty. When r = 1, we have a strictly L2 penalized logistic regression. When r = 0, we have a strictly L1 penalized regression (a.k.a. Lasso). When 0 < r < 1, we have a mixture of both L1 and L2, which is called elastic net. In this part, you will compare the performances of different penalization schemes: strictly L2, strictly L1, and elastic net with r = 0.5. Repeat the nested cross-validation procedure in Part 2\n",
    "using z-scored features for L2, L1, and elastic net. You should again use sklearn’s linear_model.LogisticRegression class for your classifier, appropriately selecting the classifier hyperparameters to obtain the L1 and elastic net regularization schemes.\n",
    "* Compare the performances (AUCs) across these three schemes using a barplot or whatever you see fit, including some visualization of variability in the outcomes for these methods. Does one scheme do better than the others?\n",
    "* Keep in mind that the sklearn LogisticRegression parameter `C` is an inverse regularization strength, meaning the regularization strength is equal to $\\alpha$ = 1/C. So higher `C` means lower regularization."
   ]
  },
  {
   "cell_type": "code",
   "execution_count": null,
   "metadata": {},
   "outputs": [],
   "source": []
  },
  {
   "cell_type": "markdown",
   "metadata": {},
   "source": [
    "2. Use the *model.coef_* attribute (*model* is your classifier object) to investigate the learned coefficients of the classifier for each subject. You can pool classifier weights across all outer cross-validation folds. Generate a plot for each of the first three subjects containing three histograms (one for each penalization scheme) of the model coefficients (use the *alpha* parameter of the plt.hist function to ensure the histograms do not cover each other up). "
   ]
  },
  {
   "cell_type": "code",
   "execution_count": null,
   "metadata": {},
   "outputs": [],
   "source": []
  },
  {
   "cell_type": "markdown",
   "metadata": {},
   "source": [
    "3. It has been shown that L1 penalization introduces sparsity to classifier weights, i.e. some of the β’s in the model will be zero with L1. For each subject, report the proportion of non-zero β’s for that subject’s classifier weigts pooled across outer cross-validation folds separately for these three schemes. Plot a histogram of these subject proportions for each penalization scheme. What can you say about the proportions of non-zero β’s across the three penalization schemes?"
   ]
  },
  {
   "cell_type": "code",
   "execution_count": null,
   "metadata": {},
   "outputs": [],
   "source": []
  },
  {
   "cell_type": "markdown",
   "metadata": {},
   "source": [
    "4. Does z-scoring improve performance?\n",
    "* In this part, repeat the analysis from Part 2, Question 1 but without z-scored features. Which is better, raw features or z-scored features? Give an intuitive explanation as to why one is better than the other."
   ]
  },
  {
   "cell_type": "code",
   "execution_count": null,
   "metadata": {},
   "outputs": [],
   "source": []
  },
  {
   "cell_type": "markdown",
   "metadata": {},
   "source": [
    "5. In Part 3, you used a mean nested CV score to compare penalization schemes and to compare z-scored features to raw features. What can we conclude about the generalization of these comparisons? Are the improvements you found between these methods biased or unbiased in the sense of overfitting? In other words, if you tested whichever methods among these tested methods that you found achieved the optimal score in a fresh held-out data set, would the method be expected to achieve the same expected performance (assume we had a large enough sample of subjects to ignore subject-level variability)? What would be one scheme you could use to obtain an unbiased estimator of the population-level (as opposed to the individual subject-level) hold-out performance of your chosen optimal methods in new data? \n",
    "* What about a scheme for an unbiased estimate of the performance of these methods at the individual subject level? In other words, if we wanted to ask \"which penalization method or z-scoring approach is best for each subject separately?\" and then evaluate the performance of the best method for that subject at the individual level, how could we do it in an unbiased manner (without \"cheating\")? Think about the methods you've used so far."
   ]
  },
  {
   "cell_type": "code",
   "execution_count": null,
   "metadata": {},
   "outputs": [],
   "source": []
  }
 ],
 "metadata": {
  "kernelspec": {
   "display_name": "workshop",
   "language": "python",
   "name": "workshop"
  },
  "language_info": {
   "codemirror_mode": {
    "name": "ipython",
    "version": 3
   },
   "file_extension": ".py",
   "mimetype": "text/x-python",
   "name": "python",
   "nbconvert_exporter": "python",
   "pygments_lexer": "ipython3",
   "version": "3.7.6"
  }
 },
 "nbformat": 4,
 "nbformat_minor": 4
}
