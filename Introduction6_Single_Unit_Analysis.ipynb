{
 "cells": [
  {
   "cell_type": "markdown",
   "metadata": {},
   "source": [
    "## Analyzing single neuron activity"
   ]
  },
  {
   "cell_type": "markdown",
   "metadata": {},
   "source": [
    "Thus far, you have largely been learning about how to analyze and interpret LFPs. In this section, we will introduce the analysis of single neuron (sometimes called single-unit) activity.\n",
    "\n",
    "The predominant way in which a neuron communicates is through **action potentials**. These are rapid depolarizations across the neuronal cell membrane that culminate in a neuron releasing neurotransmitters that can do all sorts of things, like excite or inhibit action potentials in other neurons. Because action potentials are characterized by a large and fast change in membrane potential they can be recorded by microwires placed near the neuronal membrane, making them the most direct \"biomarker\" of neural activity. When we look at neuronal spiking during a behavioral task, we are often looking for increases in the rate of spiking related to behavioral variables. This is thought to imply a relationship between the stimulus and the neuron's spiking, and is called **rate coding**. \n",
    "\n",
    "\n",
    "Here, we are going to cover some of the basics of analyzing single neuron responses. It is worth noting that, single-unit recordings did not fall under the direct purview of the RAM project's data collections; as such, single-unit data loading and analyses don't follow the same standard protocol you've learned so far. Instead, we provide proprietary loading functions for the data (and do not focus too heavily on data processing). "
   ]
  },
  {
   "cell_type": "code",
   "execution_count": 1,
   "metadata": {},
   "outputs": [],
   "source": [
    "# Import some important libraries. You may have to install some of these.\n",
    "\n",
    "import os \n",
    "import glob \n",
    "import math\n",
    "import numpy as np \n",
    "import scipy.io as spio\n",
    "from scipy.signal import fftconvolve\n",
    "import re\n",
    "import matplotlib.pyplot as plt\n",
    "import seaborn as sns\n",
    "import pandas as pd\n",
    "from statsmodels.formula.api import ols\n",
    "from statsmodels.stats.anova import anova_lm"
   ]
  },
  {
   "cell_type": "markdown",
   "metadata": {},
   "source": [
    "We will primarily be analyzing data from the Train task (which Josh covered in his talk). This is not a RAM task. As such, we have to first define some functions for loading the data, which is stored as event structures in matfiles. "
   ]
  },
  {
   "cell_type": "code",
   "execution_count": 2,
   "metadata": {},
   "outputs": [],
   "source": [
    "# Utility functions for loading data\n",
    "\n",
    "def ev_loadmat(filename):\n",
    "    '''\n",
    "    This function should be called instead of direct spio.loadmat\n",
    "    as it cures the problem of not properly recovering python dictionaries\n",
    "    from mat files. It calls the function check keys to cure all entries\n",
    "    which are still mat-objects. Incorporated from: https://stackoverflow.com/questions/7008608/scipy-io-loadmat-nested-structures-i-e-dictionaries\n",
    "    '''\n",
    "\n",
    "    def _check_keys(d):\n",
    "        '''\n",
    "        checks if entries in dictionary are mat-objects. If yes\n",
    "        todict is called to change them to nested dictionaries\n",
    "        '''\n",
    "        for key in d:\n",
    "            if isinstance(d[key], spio.matlab.mio5_params.mat_struct):\n",
    "                d[key] = _todict(d[key])\n",
    "        return d\n",
    "\n",
    "    def _todict(matobj):\n",
    "        '''\n",
    "        A recursive function which constructs from matobjects nested dictionaries\n",
    "        '''\n",
    "        d = {}\n",
    "        for strg in matobj._fieldnames:\n",
    "            elem = matobj.__dict__[strg]\n",
    "            if isinstance(elem, spio.matlab.mio5_params.mat_struct):\n",
    "                d[strg] = _todict(elem)\n",
    "            elif isinstance(elem, np.ndarray):\n",
    "                d[strg] = _tolist(elem)\n",
    "            else:\n",
    "                d[strg] = elem\n",
    "        return d\n",
    "\n",
    "    def _tolist(ndarray):\n",
    "        '''\n",
    "        A recursive function which constructs lists from cellarrays\n",
    "        (which are loaded as numpy ndarrays), recursing into the elements\n",
    "        if they contain matobjects.\n",
    "        '''\n",
    "        elem_list = []\n",
    "        for sub_elem in ndarray:\n",
    "            if isinstance(sub_elem, spio.matlab.mio5_params.mat_struct):\n",
    "                elem_list.append(_todict(sub_elem))\n",
    "            elif isinstance(sub_elem, np.ndarray):\n",
    "                elem_list.append(_tolist(sub_elem))\n",
    "            else:\n",
    "                elem_list.append(sub_elem)\n",
    "        return elem_list\n",
    "\n",
    "    data = spio.loadmat(filename, struct_as_record=False, squeeze_me=True)\n",
    "\n",
    "    return _check_keys(data)\n",
    "\n",
    "def load_spikes(subjsess):\n",
    "    \"\"\"\n",
    "    This function is used to load spiking data. We have to pull from a couple of disparate sources here.     \n",
    "    :param subjsess: The subject identifier as well as the session number. Ex: 'R1219C_0' \n",
    "    :return: \n",
    "    fr: [events x neuron] numpy array of firing rate binned by time \n",
    "    spikeTimes: list of lists containing raw spiketimes (from beginning of recording, not beginning of task)\n",
    "    spikeNames: array of channel names and cluster number for each putative single neuron\n",
    "    spikeWaveforms: array of waveforms for putative single neurons\n",
    "    \"\"\"\n",
    "\n",
    "    # define the location we want to look for the data\n",
    "    ev_basedir = '/data3/events'\n",
    "    task_dir = 'train'\n",
    "    event_struct = subjsess + '_train_events.mat'\n",
    "\n",
    "    subj_ev_path = str(os.path.join(ev_basedir, task_dir, event_struct))\n",
    "\n",
    "    # Load the events, turn it into a dataframe\n",
    "    events = ev_loadmat(subj_ev_path)['events']\n",
    "    fr = np.array(events['fr'])\n",
    "\n",
    "    spikeTimes = np.array(events['spikeData']['spikeTimes'])\n",
    "    spikeNames = np.array(events['spikeData']['spikeNames'])\n",
    "\n",
    "    return fr, spikeTimes, spikeNames\n",
    "\n",
    "def load_events(subjsess):\n",
    "    \"\"\"\n",
    "    Function for loading the pre-made train task events. These events basically parse the task into 100 ms bins.\n",
    "    Note that they only explicitly cover times during which the subject is moving on the track. The CueOn/Off and\n",
    "    FeedbackOn/Off times thus tell you when the hold and feedback periods occur for analyses of the data.\n",
    "    :param subjsess: The subject identifier as well as the session number. Ex: 'R1219C_0'\n",
    "    :return:\n",
    "    events: pandas dataframe of task events\n",
    "    \"\"\"\n",
    "\n",
    "    basedir = '/data3/events'\n",
    "    subdir = 'train'\n",
    "    event_struct = subjsess + '_train_events.mat'\n",
    "\n",
    "    subj_ev_path = str(os.path.join(basedir, subdir, event_struct))\n",
    "\n",
    "    # load the events, turn it into a dataframe\n",
    "    events = ev_loadmat(subj_ev_path)['events']\n",
    "    events_df = pd.DataFrame.from_records(events['events'])\n",
    "    \n",
    "    # clean up wall time/ position\n",
    "    events_df['wall_time'] = events_df.apply(lambda x: x.wall_time if np.size(x.wall_time)==1 else np.nan, axis=1)\n",
    "    events_df['wall_position'] = events_df.apply(lambda x: x.wall_position if np.size(x.wall_position)==1 else np.nan, axis=1)\n",
    "    \n",
    "    trialnums = events_df['trialNum'].max()\n",
    "\n",
    "    # initialize the columns in the data frame for cue and feedback\n",
    "    events_df[\"CueOnMs\"] = np.nan\n",
    "    events_df[\"CueOffMs\"] = np.nan\n",
    "    events_df[\"FeedbackOnMs\"] = np.nan\n",
    "    events_df[\"FeedbackOffMs\"] = np.nan\n",
    "    \n",
    "    # Get the cue and feedback times and put them into the events\n",
    "    try:\n",
    "        CueOnMs = ev_loadmat(subj_ev_path)['CueOnUnixTime']\n",
    "        CueOffMs = ev_loadmat(subj_ev_path)['CueOffUnixTime']\n",
    "        FeedbackOnMs = ev_loadmat(subj_ev_path)['FeedbackOnUnixTime']\n",
    "        FeedbackOffMs = ev_loadmat(subj_ev_path)['FeedbackOffUnixTime']\n",
    "    except: \n",
    "        print('No Cue/Feedback Times for {}'.format(subjsess))\n",
    "        return events_df\n",
    "\n",
    "        \n",
    "    # Because Cues and Feedback are only provided once per trial, let's only assign one value per all the events in that trial\n",
    "    for trial in range(trialnums):\n",
    "        events_df['CueOnMs'].loc[events_df['trialNum'] == trial + 1] = CueOnMs[trial]\n",
    "        events_df['CueOffMs'].loc[events_df['trialNum'] == trial + 1] = CueOffMs[trial]\n",
    "        events_df['FeedbackOnMs'].loc[events_df['trialNum'] == trial + 1] = FeedbackOnMs[trial]\n",
    "        events_df['FeedbackOffMs'].loc[events_df['trialNum'] == trial + 1] = FeedbackOffMs[trial]\n",
    "        \n",
    "    return events_df"
   ]
  },
  {
   "cell_type": "markdown",
   "metadata": {},
   "source": [
    "Let's pick a subject and session to analyze."
   ]
  },
  {
   "cell_type": "code",
   "execution_count": 3,
   "metadata": {},
   "outputs": [],
   "source": [
    "subjsess = 'R1219C_0'"
   ]
  },
  {
   "cell_type": "markdown",
   "metadata": {},
   "source": [
    "Next, we can load the spiking data.\n",
    "\n",
    "If you are curious how this data was extracted and processed in the first place, that's not covered here. However, we will (eventually) make an introduction to sorting and processing spiking data available as well. "
   ]
  },
  {
   "cell_type": "code",
   "execution_count": 4,
   "metadata": {},
   "outputs": [
    {
     "name": "stderr",
     "output_type": "stream",
     "text": [
      "/tmp/ipykernel_17149/1068896001.py:17: DeprecationWarning: Please use `mat_struct` from the `scipy.io.matlab` namespace, the `scipy.io.matlab.mio5_params` namespace is deprecated.\n",
      "  if isinstance(d[key], spio.matlab.mio5_params.mat_struct):\n",
      "/tmp/ipykernel_17149/1068896001.py:28: DeprecationWarning: Please use `mat_struct` from the `scipy.io.matlab` namespace, the `scipy.io.matlab.mio5_params` namespace is deprecated.\n",
      "  if isinstance(elem, spio.matlab.mio5_params.mat_struct):\n",
      "/tmp/ipykernel_17149/1068896001.py:44: DeprecationWarning: Please use `mat_struct` from the `scipy.io.matlab` namespace, the `scipy.io.matlab.mio5_params` namespace is deprecated.\n",
      "  if isinstance(sub_elem, spio.matlab.mio5_params.mat_struct):\n"
     ]
    },
    {
     "ename": "ValueError",
     "evalue": "setting an array element with a sequence. The requested array has an inhomogeneous shape after 1 dimensions. The detected shape was (23,) + inhomogeneous part.",
     "output_type": "error",
     "traceback": [
      "\u001b[0;31m---------------------------------------------------------------------------\u001b[0m",
      "\u001b[0;31mValueError\u001b[0m                                Traceback (most recent call last)",
      "Cell \u001b[0;32mIn[4], line 1\u001b[0m\n\u001b[0;32m----> 1\u001b[0m fr, spikeTimes, spikeNames \u001b[38;5;241m=\u001b[39m \u001b[43mload_spikes\u001b[49m\u001b[43m(\u001b[49m\u001b[43msubjsess\u001b[49m\u001b[43m)\u001b[49m\n",
      "Cell \u001b[0;32mIn[2], line 78\u001b[0m, in \u001b[0;36mload_spikes\u001b[0;34m(subjsess)\u001b[0m\n\u001b[1;32m     75\u001b[0m events \u001b[38;5;241m=\u001b[39m ev_loadmat(subj_ev_path)[\u001b[38;5;124m'\u001b[39m\u001b[38;5;124mevents\u001b[39m\u001b[38;5;124m'\u001b[39m]\n\u001b[1;32m     76\u001b[0m fr \u001b[38;5;241m=\u001b[39m np\u001b[38;5;241m.\u001b[39marray(events[\u001b[38;5;124m'\u001b[39m\u001b[38;5;124mfr\u001b[39m\u001b[38;5;124m'\u001b[39m])\n\u001b[0;32m---> 78\u001b[0m spikeTimes \u001b[38;5;241m=\u001b[39m \u001b[43mnp\u001b[49m\u001b[38;5;241;43m.\u001b[39;49m\u001b[43marray\u001b[49m\u001b[43m(\u001b[49m\u001b[43mevents\u001b[49m\u001b[43m[\u001b[49m\u001b[38;5;124;43m'\u001b[39;49m\u001b[38;5;124;43mspikeData\u001b[39;49m\u001b[38;5;124;43m'\u001b[39;49m\u001b[43m]\u001b[49m\u001b[43m[\u001b[49m\u001b[38;5;124;43m'\u001b[39;49m\u001b[38;5;124;43mspikeTimes\u001b[39;49m\u001b[38;5;124;43m'\u001b[39;49m\u001b[43m]\u001b[49m\u001b[43m)\u001b[49m\n\u001b[1;32m     79\u001b[0m spikeNames \u001b[38;5;241m=\u001b[39m np\u001b[38;5;241m.\u001b[39marray(events[\u001b[38;5;124m'\u001b[39m\u001b[38;5;124mspikeData\u001b[39m\u001b[38;5;124m'\u001b[39m][\u001b[38;5;124m'\u001b[39m\u001b[38;5;124mspikeNames\u001b[39m\u001b[38;5;124m'\u001b[39m])\n\u001b[1;32m     81\u001b[0m \u001b[38;5;28;01mreturn\u001b[39;00m fr, spikeTimes, spikeNames\n",
      "\u001b[0;31mValueError\u001b[0m: setting an array element with a sequence. The requested array has an inhomogeneous shape after 1 dimensions. The detected shape was (23,) + inhomogeneous part."
     ]
    }
   ],
   "source": [
    "fr, spikeTimes, spikeNames = load_spikes(subjsess)"
   ]
  },
  {
   "cell_type": "code",
   "execution_count": 5,
   "metadata": {},
   "outputs": [
    {
     "name": "stdout",
     "output_type": "stream",
     "text": [
      "We have 23 neurons in this patient\n"
     ]
    }
   ],
   "source": [
    "# How many neurons in this patient? \n",
    "num_neurons = spikeTimes.shape[-1]\n",
    "print('We have {} neurons in this patient'.format(num_neurons))"
   ]
  },
  {
   "cell_type": "markdown",
   "metadata": {},
   "source": [
    "```fr``` is the firing rate of each neuron in a numpy array. Firing rate refers to the number of spikes divided by the amount of time you are looking at.\n",
    "\n",
    "A key intuition here is that you can only measure \"instantaneous\" firing rate by **binning** the number of spikes into some window of time. In this case, they have been binned into 100 ms windows. So ```fr.shape[0]``` represents the number of non-overlapping 100 ms bins we have used to characterize the firing rate over time.\n",
    "\n",
    "```spikeTimes``` is the actual time that each detected spike occurred, with time=0 being the moment the acquisition software was set to \"record\". Note that this is usually done before the task actually begins, so we (later) will need a way to relate these spike times to the times at which interesting things happen in the task. Spiking data is usually recorded at 30 KHz meaning we have HIGH temporal resolution.\n",
    "\n",
    "```spikeNames``` tells you the microwire channel on which each neuron was recorded, as well as which cluster this neuron was on the channel. That's important, as an individual microwire can pick up more than one neuron. \n"
   ]
  },
  {
   "cell_type": "code",
   "execution_count": 6,
   "metadata": {},
   "outputs": [
    {
     "data": {
      "text/plain": [
       "array([[20,  0,  0, ..., 10,  0,  0],\n",
       "       [10,  0,  0, ..., 20,  0,  0],\n",
       "       [30,  0,  0, ..., 10, 10,  0],\n",
       "       ...,\n",
       "       [20,  0,  0, ..., 30,  0,  0],\n",
       "       [ 0,  0, 10, ...,  0,  0,  0],\n",
       "       [ 0, 10, 10, ..., 10, 10, 10]], dtype=uint8)"
      ]
     },
     "execution_count": 6,
     "metadata": {},
     "output_type": "execute_result"
    }
   ],
   "source": [
    "fr"
   ]
  },
  {
   "cell_type": "code",
   "execution_count": 7,
   "metadata": {},
   "outputs": [
    {
     "data": {
      "text/plain": [
       "array(['NSX114_1', 'NSX114_2', 'NSX114_3', 'NSX115_1', 'NSX115_2',\n",
       "       'NSX115_3', 'NSX116_1', 'NSX116_2', 'NSX117_1', 'NSX117_2',\n",
       "       'NSX118_1', 'NSX118_2', 'NSX119_1', 'NSX120_1', 'NSX120_2',\n",
       "       'NSX120_3', 'NSX122_1', 'NSX122_2', 'NSX124_1', 'NSX124_2',\n",
       "       'NSX126_1', 'NSX126_2', 'NSX126_3'], dtype='<U8')"
      ]
     },
     "execution_count": 7,
     "metadata": {},
     "output_type": "execute_result"
    }
   ],
   "source": [
    "spikeNames"
   ]
  },
  {
   "cell_type": "code",
   "execution_count": 8,
   "metadata": {},
   "outputs": [
    {
     "data": {
      "text/plain": [
       "[298.0,\n",
       " 394.96666666666664,\n",
       " 547.7,\n",
       " 572.9666666666666,\n",
       " 1179.9666666666665,\n",
       " 1380.2,\n",
       " 1567.7333333333333,\n",
       " 1575.6,\n",
       " 1788.0333333333333,\n",
       " 1848.4333333333332]"
      ]
     },
     "execution_count": 8,
     "metadata": {},
     "output_type": "execute_result"
    }
   ],
   "source": [
    "# It's important to check if spikeTimes are stored in seconds or ms. Usually they should be ms \n",
    "cell_ix = 0\n",
    "spikeTimes[cell_ix][0:10]"
   ]
  },
  {
   "cell_type": "code",
   "execution_count": 9,
   "metadata": {},
   "outputs": [
    {
     "data": {
      "text/plain": [
       "<matplotlib.axes._subplots.AxesSubplot at 0x2b4ef48a1bd0>"
      ]
     },
     "execution_count": 9,
     "metadata": {},
     "output_type": "execute_result"
    },
    {
     "data": {
      "image/png": "[encoded data removed]",
      "text/plain": [
       "<Figure size 1008x216 with 1 Axes>"
      ]
     },
     "metadata": {
      "needs_background": "light"
     },
     "output_type": "display_data"
    }
   ],
   "source": [
    "# Plot the mean firing rate for each neuron \n",
    "firing_rate_df = pd.DataFrame(fr, columns=spikeNames).melt(var_name='spikeName', value_name='firing_rate')\n",
    "firing_rate_df['spikeName'] = firing_rate_df['spikeName'].apply(lambda x: x[3:])\n",
    "f, ax = plt.subplots(1,1, figsize=[14,3])\n",
    "sns.barplot(x='spikeName', y='firing_rate', data=firing_rate_df, ci=68)"
   ]
  },
  {
   "cell_type": "markdown",
   "metadata": {},
   "source": [
    "This tells you how active, in general, each neuron was during the recording session. "
   ]
  },
  {
   "cell_type": "markdown",
   "metadata": {},
   "source": [
    "## -------------------------------------------------------------------------------------------------------------------------------\n",
    "## (Optional)  Spiking statistics (first and second order) \n",
    "Before loading in behavior, let's look at some basic spike statistics. One way to assess spiking activity is to look at the time interval between each spike (aka the **interspike interval**). "
   ]
  },
  {
   "cell_type": "code",
   "execution_count": 10,
   "metadata": {},
   "outputs": [],
   "source": [
    "# # Compute ISI for Neuron 1 \n",
    "# ISI = np.diff(np.array(spikeTimes[0]))\n",
    "# sns.distplot(ISI)\n",
    "# plt.xlabel('ISI (ms)')\n",
    "# plt.ylabel('density')"
   ]
  },
  {
   "cell_type": "markdown",
   "metadata": {},
   "source": [
    "We don't have to think about this too much for our analyses, but it's useful to understand that neuronal spiking is often conceptualized as a stochastic process, which is a fancy word for successive random events occuring in time. \n",
    "\n",
    "A Poisson process is a counting process used to model neuronal spiking because it treats each random event (spike) as independent. This is obviously not true in reality, but that's why it's a model. Let's measure the variability in the ISI distribution to see how it compares to an ideal Poisson process. A Poisson process produces distributions with 𝐶𝑉=1. A value of 𝐶𝑉>1 suggests that a spike train is less regular than if it were in fact generated by a Poisson process with the same firing rate. A value of 𝐶𝑉<1 suggests the spike train is more regular. "
   ]
  },
  {
   "cell_type": "code",
   "execution_count": 11,
   "metadata": {},
   "outputs": [],
   "source": [
    "# # Compute coefficient of variation\n",
    "# CV = np.std(ISI)/np.mean(ISI)\n",
    "# print(CV)"
   ]
  },
  {
   "cell_type": "markdown",
   "metadata": {},
   "source": [
    "The CV does not capture potential variability on longer time scales especially if there's drift in the neuron's mean firing rate over time. A measure of spike time variability taking this long-term variability into account is the Fano factor, the ratio of the mean spike count and the variance the spike count within a time window. We will compute that a little later."
   ]
  },
  {
   "cell_type": "markdown",
   "metadata": {},
   "source": [
    "Another useful thing that ISI distribution can tell you is if the neuron you are looking at is a **bursty** neuron. By that, I mean a neuron that tends to fire a lot of action potentials in short bursts, rather than as isolated single spikes. As you can imagine, bursty neurons tend to violate Poisson assumptions and have ISI distributions that look a little more bimodal, with lots of spikes close together, and lots of bursts far apart. But that is a good segue into......"
   ]
  },
  {
   "cell_type": "markdown",
   "metadata": {},
   "source": [
    "Now we will examine some second-order statistics, which allow us to look more carefully for regularities in spiking activity. "
   ]
  },
  {
   "cell_type": "markdown",
   "metadata": {},
   "source": [
    "First, we will attempt to compute the **autocorrelation** for a single neuron. \n",
    "\n",
    "Autocorrelations in timeseries data allow us to look at the correlation between the values of a timeseries at time x with values at other times (x−1), (x−2), etc. We shift our data by a lag-value (i.e. 10 ms) and compute a correlation, repeating this process for x amount of lags. This allows us to look for patterns or co-dependence between spikes. As a counter-example, white noise has a very flat autocorrelation function since it's random. "
   ]
  },
  {
   "cell_type": "code",
   "execution_count": 12,
   "metadata": {},
   "outputs": [],
   "source": [
    "# # First, let's define a utility function to compute correlations quickly! \n",
    "\n",
    "# @numba.jit(nopython=True)\n",
    "# def pcorrelate(t, u, bins):\n",
    "#     \"\"\"Compute correlation of two arrays of discrete events (Point-process).\n",
    "\n",
    "#     The input arrays need to be values of a point process, such as\n",
    "#     photon arrival times or positions. The correlation is efficiently\n",
    "#     computed on an arbitrary array of lag-bins. As an example, bins can be\n",
    "#     uniformly spaced in log-space and span several orders of magnitudes.\n",
    "#     (you can use :func:`make_loglags` to creat log-spaced bins).\n",
    "#     This function implements the algorithm described in\n",
    "#     `(Laurence 2006) <https://doi.org/10.1364/OL.31.000829>`__.\n",
    "\n",
    "#     Arguments:\n",
    "#         t (array): first array of \"points\" to correlate. The array needs\n",
    "#             to be monothonically increasing.\n",
    "#         u (array): second array of \"points\" to correlate. The array needs\n",
    "#             to be monothonically increasing.\n",
    "#         bins (array): bin edges for lags where correlation is computed.\n",
    "#         normalize (bool): if True, normalize the correlation function\n",
    "#             as typically done in FCS using :func:`pnormalize`. If False,\n",
    "#             return the unnormalized correlation function.\n",
    "\n",
    "#     Returns:\n",
    "#         Array containing the correlation of `t` and `u`.\n",
    "#         The size is `len(bins) - 1`.\n",
    "\n",
    "#     See also:\n",
    "#         :func:`make_loglags` to genetate log-spaced lag bins.\n",
    "#     \"\"\"\n",
    "#     nbins = len(bins) - 1\n",
    "\n",
    "#     # Array of counts (histogram)\n",
    "#     counts = np.zeros(nbins, dtype=np.int64)\n",
    "\n",
    "#     # For each bins, imin is the index of first `u` >= of each left bin edge\n",
    "#     imin = np.zeros(nbins, dtype=np.int64)\n",
    "#     # For each bins, imax is the index of first `u` >= of each right bin edge\n",
    "#     imax = np.zeros(nbins, dtype=np.int64)\n",
    "\n",
    "#     # For each ti, perform binning of (u - ti) and accumulate counts in Y\n",
    "#     for ti in t:\n",
    "#         for k, (tau_min, tau_max) in enumerate(zip(bins[:-1], bins[1:])):\n",
    "#             if k == 0:\n",
    "#                 j = imin[k]\n",
    "#                 # We start by finding the index of the first `u` element\n",
    "#                 # which is >= of the first bin edge `tau_min`\n",
    "#                 while j < len(u):\n",
    "#                     if u[j] - ti >= tau_min:\n",
    "#                         break\n",
    "#                     j += 1\n",
    "\n",
    "#             imin[k] = j\n",
    "#             if imax[k] > j:\n",
    "#                 j = imax[k]\n",
    "#             while j < len(u):\n",
    "#                 if u[j] - ti >= tau_max:\n",
    "#                     break\n",
    "#                 j += 1\n",
    "#             imax[k] = j\n",
    "#             # Now j is the index of the first `u` element >= of\n",
    "#             # the next bin left edge\n",
    "#         counts += imax - imin\n",
    "#     G = counts / np.diff(bins)\n",
    "#     return G"
   ]
  },
  {
   "cell_type": "code",
   "execution_count": 13,
   "metadata": {},
   "outputs": [],
   "source": [
    "# # Compute the autocorrelation for Neuron 1:\n",
    "\n",
    "# bin_width = 10 # lag width in ms\n",
    "# width = 1000  # correlation window in ms \n",
    "\n",
    "# st1 = np.array(spikeTimes[0]) # turn our spikeTime for Neuron 1 into an array\n",
    "\n",
    "# n_lags = int(np.ceil(width / bin_width))  # Num. lags\n",
    "\n",
    "# # Define the edges of the lag bins (including rightmost bin)\n",
    "# lags = np.linspace(-width, width, 2 * n_lags, endpoint=True)\n",
    "\n",
    "# corr_counts = pcorrelate(st1, st1, np.split(bins, 2)[1]) # NOTICE: we are computing a correlation between the signal and ITSELF. AUTOcorrelation!\n",
    "\n",
    "# # Plot the outcome \n",
    "# ccf = np.ones(bins.shape[0] - 1)\n",
    "# ccf[0:corr_counts.shape[0]] = np.flip(corr_counts)\n",
    "# ccf[corr_counts.shape[0]] = corr_counts[0]\n",
    "# ccf[corr_counts.shape[0] + 1:] = corr_counts\n",
    "# plt.plot(bins, np.hstack((ccf[:1], ccf)))"
   ]
  },
  {
   "cell_type": "markdown",
   "metadata": {},
   "source": [
    "We can see a very large autocorrelation at small time lags, which makes sense - the spiking data is most similar to itself when you don't shift it much. However, note that this falls off pretty quickly, so that spikes 500 ms away are far less correlated with eachother. \n",
    "\n",
    "Bonus: Think about LFP oscillations. Looking at an autocorrelation, can you think of a possible use here for looking at oscillations in the neural spiking? "
   ]
  },
  {
   "cell_type": "markdown",
   "metadata": {},
   "source": [
    "Similarly, we can compute the cross-correlation between two different neurons."
   ]
  },
  {
   "cell_type": "code",
   "execution_count": 14,
   "metadata": {},
   "outputs": [],
   "source": [
    "# # Compute the autocorrelation for Neuron 1:\n",
    "\n",
    "# bin_width = 10 # lag width in ms\n",
    "# width = 1000  # correlation window in ms \n",
    "\n",
    "# st1 = np.array(spikeTimes[0]) # turn our spikeTime for Neuron 1 into an array\n",
    "# st2 = np.array(spikeTimes[1]) # turn our spikeTime for Neuron 2 into an array\n",
    "\n",
    "# n_lags = int(np.ceil(width / bin_width))  # Num. lags\n",
    "\n",
    "# # Define the edges of the lag bins (including rightmost bin)\n",
    "# lags = np.linspace(-width, width, 2 * n_lags, endpoint=True)\n",
    "\n",
    "# corr_counts = pcorrelate(st1, st2, np.split(bins, 2)[1]) # NOTICE: we are computing a correlation between the signal and ITSELF. AUTOcorrelation!\n",
    "\n",
    "# # Plot the outcome \n",
    "# ccf = np.ones(bins.shape[0] - 1)\n",
    "# ccf[0:corr_counts.shape[0]] = np.flip(corr_counts)\n",
    "# ccf[corr_counts.shape[0]] = corr_counts[0]\n",
    "# ccf[corr_counts.shape[0] + 1:] = corr_counts\n",
    "# plt.plot(bins, np.hstack((ccf[:1], ccf)))"
   ]
  },
  {
   "cell_type": "markdown",
   "metadata": {},
   "source": [
    "So it looks like Neuron 1 and Neuron 2 are fairly uncorrelated, despite being recorded on the same microwire. This is pretty good; it means we haven't accidentally split the same neuron into two different clusters!\n",
    "\n",
    "## -------------------------------------------------------------------------------------------------------------------------------\n"
   ]
  },
  {
   "cell_type": "markdown",
   "metadata": {},
   "source": [
    "## Single neuron activity during a task"
   ]
  },
  {
   "cell_type": "markdown",
   "metadata": {},
   "source": [
    "In this section we will go over some simple single neuron analyses with respect to spatial position and memory. For reference, please see: https://www.nature.com/articles/s41593-019-0523-z"
   ]
  },
  {
   "cell_type": "code",
   "execution_count": 15,
   "metadata": {},
   "outputs": [
    {
     "name": "stderr",
     "output_type": "stream",
     "text": [
      "/home1/ryan.colyer/.conda/envs/environmentname/lib/python3.7/site-packages/pandas/core/indexing.py:190: SettingWithCopyWarning: \n",
      "A value is trying to be set on a copy of a slice from a DataFrame\n",
      "\n",
      "See the caveats in the documentation: http://pandas.pydata.org/pandas-docs/stable/indexing.html#indexing-view-versus-copy\n",
      "  self._setitem_with_indexer(indexer, value)\n"
     ]
    }
   ],
   "source": [
    "# Load the events\n",
    "events = load_events(subjsess)"
   ]
  },
  {
   "cell_type": "code",
   "execution_count": 16,
   "metadata": {},
   "outputs": [
    {
     "data": {
      "text/plain": [
       "Index(['blockType', 'constant_speed', 'driveType', 'eegfile', 'eegoffset',\n",
       "       'lfpfile', 'lfpmstime', 'lfpoffset', 'mstime', 'object',\n",
       "       'object_position', 'position', 'response_mstime', 'response_position',\n",
       "       'session', 'speed', 'subj', 'timesfile', 'timesoffset', 'trialNum',\n",
       "       'wall_position', 'wall_time', 'CueOnMs', 'CueOffMs', 'FeedbackOnMs',\n",
       "       'FeedbackOffMs'],\n",
       "      dtype='object')"
      ]
     },
     "execution_count": 16,
     "metadata": {},
     "output_type": "execute_result"
    }
   ],
   "source": [
    "# Let's look at the structure of these events:\n",
    "events.keys()"
   ]
  },
  {
   "cell_type": "markdown",
   "metadata": {},
   "source": [
    "We won't get too much into the intricacies of the event design here vs. in the RAM tasks. Suffice to say they're different; we slice up every 100 ms of time that the person is moving through the track, rather than organizing by \"events\" like a word appearing onscreen. \n",
    "\n",
    "**The critical field in the event structure is the ```timesoffset``` field. The single-neuron recording system might be turned on before the task! And it's certainly turned off after the task stops logging. This field tells you the timepoints, relative to the spike times, that take place during the task**"
   ]
  },
  {
   "cell_type": "markdown",
   "metadata": {},
   "source": [
    "Before we go any further, let's look at some spike trains. We didn't do this before because we didn't know when the task started and stopped - now we do, and can define a spike train using the spikes that happened during the task."
   ]
  },
  {
   "cell_type": "code",
   "execution_count": 17,
   "metadata": {},
   "outputs": [],
   "source": [
    "# Let's make a spike train of spikes during the task\n",
    "cell_ix = 0\n",
    "st = np.array(spikeTimes[cell_ix]) # turn into array so we can index it easily \n",
    "\n",
    "# find the indices corresponding to spikes during the task\n",
    "st_to_keep = np.where(np.logical_and(st>=events.timesoffset.values[0], st<=events.timesoffset.values[-1]))[0].astype(int)\n",
    "\n",
    "# we can baseline the spikes to the start of the task for generating a spike train \n",
    "st_baselined = st[st_to_keep] - events.timesoffset.values[0]\n",
    "\n",
    "bin_width_st = 1 # this means our time resolution is 1 ms - sufficient for spike train generation and analysis \n",
    "st_sr = 1000 # This is our sampling rate \n",
    "\n",
    "ms_ix = np.arange(events.timesoffset.values[0], events.timesoffset.values[-1] + np.diff(events.timesoffset.values)[0], bin_width_st) - \\\n",
    "                       events.timesoffset.values[0]\n",
    "\n",
    "# spike times are in ms, but are sampled at 30 KHz meaning  we have to round them to ms resolution\n",
    "rounded_spike_times = np.round(st_baselined).astype(int)\n",
    "\n",
    "# generate a spike train - a binary vector of 0's and 1's that is indexed by the spike times. Remember the bin width is 1 ms \n",
    "\n",
    "spiketrain = np.zeros(len(ms_ix))\n",
    "\n",
    "# note we have to subtract 1 for pythonic indexing\n",
    "\n",
    "spiketrain[rounded_spike_times - 1] = 1 "
   ]
  },
  {
   "cell_type": "code",
   "execution_count": 18,
   "metadata": {},
   "outputs": [
    {
     "data": {
      "text/plain": [
       "[<matplotlib.lines.Line2D at 0x2b4ef7b59490>]"
      ]
     },
     "execution_count": 18,
     "metadata": {},
     "output_type": "execute_result"
    },
    {
     "data": {
      "image/png": "[encoded data removed]",
      "text/plain": [
       "<Figure size 432x288 with 1 Axes>"
      ]
     },
     "metadata": {
      "needs_background": "light"
     },
     "output_type": "display_data"
    }
   ],
   "source": [
    "plt.plot(spiketrain[0:1000])"
   ]
  },
  {
   "cell_type": "code",
   "execution_count": 19,
   "metadata": {},
   "outputs": [
    {
     "name": "stdout",
     "output_type": "stream",
     "text": [
      "This cell has a Fano factor of 0.9879246999512845\n"
     ]
    }
   ],
   "source": [
    "# Now we can compute the Fano Factor, which requires the spike train , during the task\n",
    "print('This cell has a Fano factor of {}'.format(np.var(spiketrain) / np.mean(spiketrain)))"
   ]
  },
  {
   "cell_type": "markdown",
   "metadata": {},
   "source": [
    "One of the key reasons to define a spike train is so that we can smooth it to get a continuous **estimate** of spiking. We do this by convolving the spike train with a Gaussian kernel."
   ]
  },
  {
   "cell_type": "code",
   "execution_count": 20,
   "metadata": {},
   "outputs": [],
   "source": [
    "# Continuous firing rate parameters\n",
    "\n",
    "bin_width_gauss = 10 # ms. set a wider bin width so we dont have a SUPER LONG vector! \n",
    "\n",
    "gauss_sr = int(1000/bin_width_gauss)\n",
    "\n",
    "times_offset = events.timesoffset.values - events.timesoffset.values[0]\n",
    "\n",
    "# make the bins \n",
    "binnedTime = np.arange(times_offset[0], times_offset[-1] + np.diff(times_offset)[0], bin_width_gauss)\n",
    "\n",
    "# initialize the array\n",
    "spkt = np.zeros(binnedTime.shape)\n",
    "\n",
    "# Map the spike times to bins.\n",
    "map_to_bins = np.digitize(st_baselined, binnedTime)\n",
    "for i in map_to_bins:\n",
    "    if i > 0:\n",
    "        spkt[i - 1] += 1"
   ]
  },
  {
   "cell_type": "code",
   "execution_count": 21,
   "metadata": {},
   "outputs": [],
   "source": [
    "# Define a window to filter in \n",
    "filt_window = np.arange(-1000, 1000, bin_width_gauss)\n",
    "\n",
    "# factor to convert the convovled firing rate into Hz (spikes/second)\n",
    "conv_rate_gaussian_fr = 1/(bin_width_gauss/1000) \n",
    "\n",
    "# Mess around with the std of the gaussian kernel - see how it changes the firing rate estimate \n",
    "smoothing_width = 75 # ms \n",
    "\n",
    "# Define the gaussian kernel\n",
    "gaussian_kernel = 1. / np.sqrt(2 * math.pi * smoothing_width ** 2) * np.exp(\n",
    "    -filt_window ** 2. / (2 * smoothing_width ** 2))\n",
    "\n",
    "# Normalize the kernel so that the area sums to 1. \n",
    "gaussian_kernel =  gaussian_kernel / gaussian_kernel.sum()\n",
    "\n",
    "# Do the smoothing! \n",
    "spkt_conv = conv_rate_gaussian_fr * fftconvolve(spkt, gaussian_kernel, 'same') "
   ]
  },
  {
   "cell_type": "code",
   "execution_count": 22,
   "metadata": {},
   "outputs": [
    {
     "data": {
      "text/plain": [
       "[<matplotlib.lines.Line2D at 0x2b4ef77b0e50>]"
      ]
     },
     "execution_count": 22,
     "metadata": {},
     "output_type": "execute_result"
    },
    {
     "data": {
      "image/png": "[encoded data removed]",
      "text/plain": [
       "<Figure size 1296x216 with 2 Axes>"
      ]
     },
     "metadata": {
      "needs_background": "light"
     },
     "output_type": "display_data"
    }
   ],
   "source": [
    "f, (gauss, train) = plt.subplots(2, 1, figsize=[18,3])\n",
    "\n",
    "# Plot 100 s of data\n",
    "time_win = 100\n",
    "gauss.plot(spkt_conv[0:(time_win*gauss_sr)])\n",
    "train.plot(spiketrain[0:(time_win*st_sr)], linewidth=0.2)"
   ]
  },
  {
   "cell_type": "markdown",
   "metadata": {},
   "source": [
    "Having done all this table setting, let's look at how neural spiking changes in relation to task events. In general, the most useful tool for visualizing stimulus-related changes in the firing rate is the **peri-event rasters and histograms**. \n",
    "\n",
    "First, we have to do some data wrangling. The events here are not organized by trial/event, so we need to do that, then use our baselined spikes and the timesoffset field to parse the spiking the same way. "
   ]
  },
  {
   "cell_type": "code",
   "execution_count": 23,
   "metadata": {},
   "outputs": [
    {
     "name": "stderr",
     "output_type": "stream",
     "text": [
      "/home1/ryan.colyer/.conda/envs/environmentname/lib/python3.7/site-packages/ipykernel_launcher.py:28: RuntimeWarning: invalid value encountered in greater_equal\n",
      "/home1/ryan.colyer/.conda/envs/environmentname/lib/python3.7/site-packages/ipykernel_launcher.py:29: RuntimeWarning: invalid value encountered in less_equal\n"
     ]
    }
   ],
   "source": [
    "# Does spiking change when the memory cue comes on the screen? \n",
    "\n",
    "# 1) Get the timing for the stimulus/event in question. Here, we want the time that the person makes their memory response.\n",
    "cell_ix = 0 \n",
    "all_response_times = [] \n",
    "for trialNum in events.trialNum.unique(): # Get the cue time for each individual trial\n",
    "    first_ev_per_trial = events[events.trialNum==trialNum].iloc[0] # note that there is only one response per trial, but many events. That just means we log it many times. We just want the first one. \n",
    "    ResponseTime = first_ev_per_trial['response_mstime'] - events.mstime[0] # baseline to 0 \n",
    "    all_response_times.append(ResponseTime)\n",
    "\n",
    "# 2) You already baselined the spike tims for Neuron 1. If you didn't: \n",
    "st = np.array(spikeTimes[cell_ix]) # turn into array so we can index it easily \n",
    "\n",
    "# find the indices corresponding to spikes during the task\n",
    "st_to_keep = np.where(np.logical_and(st>=events.timesoffset.values[0], st<=events.timesoffset.values[-1]))[0].astype(int)\n",
    "\n",
    "# we can baseline the spikes to the start of the task for generating a spike train \n",
    "st_baselined = st[st_to_keep] - events.timesoffset.values[0]\n",
    "\n",
    "# 3) Make a peri-event histogram + raster \n",
    "\n",
    "# define a time window (ms) to look around the stimulus:\n",
    "time_window = [-500, 500]\n",
    "\n",
    "# grab the spikes surrounding each stimulus \n",
    "spike_times_per_event = [] \n",
    "for response in all_response_times: \n",
    "    st_to_keep_event = np.where(np.logical_and(st_baselined>=response+time_window[0], \n",
    "                                               st_baselined<=response+time_window[1]))[0].astype(int)\n",
    "    spike_times_per_event.append(st_baselined[st_to_keep_event] - response)\n"
   ]
  },
  {
   "cell_type": "code",
   "execution_count": 24,
   "metadata": {},
   "outputs": [
    {
     "data": {
      "text/plain": [
       "<matplotlib.collections.LineCollection at 0x2b4ef76f6a10>"
      ]
     },
     "execution_count": 24,
     "metadata": {},
     "output_type": "execute_result"
    },
    {
     "data": {
      "image/png": "[encoded data removed]",
      "text/plain": [
       "<Figure size 432x432 with 2 Axes>"
      ]
     },
     "metadata": {
      "needs_background": "light"
     },
     "output_type": "display_data"
    }
   ],
   "source": [
    "f, (raster, spike_hist) = plt.subplots(2, 1, figsize=[6,6])\n",
    "\n",
    "# Plot the raster\n",
    "trial = 1\n",
    "for row in spike_times_per_event: \n",
    "    raster.vlines(row, trial, trial+1)\n",
    "    trial+=1\n",
    "raster.vlines(0, 0, trial)\n",
    "\n",
    "# Compute the histogram in 50 ms bins\n",
    "bin_width_ms = 50 \n",
    "n_bins = int(1000/bin_width_ms)\n",
    "H, b = np.histogram(np.hstack(spike_times_per_event), n_bins)\n",
    "rate_factor = (bin_width_ms*events.trialNum.max()/1000)\n",
    "\n",
    "sns.distplot(np.hstack(spike_times_per_event), bins=n_bins, kde=False, ax=spike_hist)\n",
    "# Scale the y-axis so we are plotting firing rate in our bins, not just counts of spikes \n",
    "y_vals = spike_hist.get_yticks()\n",
    "spike_hist.set_yticklabels(['{:3.1f}'.format(x/rate_factor) for x in y_vals])\n",
    "spike_hist.vlines(0, 0, y_vals.max())"
   ]
  },
  {
   "cell_type": "markdown",
   "metadata": {},
   "source": [
    "How do we do statistics for a PSTH? We won't cover that in specific detail here. But pay attention when you do problem #4 in the Assignments as the permutation statistics you do there will be very similar to what you might do for as PSTH. Broadly, you can either:\n",
    "\n",
    "1) Identify specific times of increased firing: Generate surrogate PSTHs (i.e. 500 null observations per time bin). Compute a p-value for every bin. Do multiple comparisons correction across time bins. Are any time bins significantly higher/lower than surrogates? \n",
    "\n",
    "2) Compute mean firing rate pre and post and do a paired t-test. \n"
   ]
  },
  {
   "cell_type": "markdown",
   "metadata": {},
   "source": [
    "Now we want to do the spicy stuff: looking at neural activity as a function of position.\n",
    "\n",
    "Up until this point, we have been binning spike counts by **time**. Now it's time to bin spike counts by **position**.\n",
    "\n",
    "The easiest way to do this is to utilize pandas dataframe functionality, particularly the ```cut``` function to cut data into bins and the  ```groupby``` function to apply a function to these split data. "
   ]
  },
  {
   "cell_type": "code",
   "execution_count": 25,
   "metadata": {},
   "outputs": [],
   "source": [
    "n_spatial_bins=20\n",
    "cell_ix = 0\n",
    "\n",
    "data_df = pd.DataFrame(events['position'])\n",
    "# Cut the environment into 20 bins and get the bin edges \n",
    "data_df['spatial_bin'], bin_edges = pd.cut(events.position, bins=n_spatial_bins, retbins=True, include_lowest=True, labels=np.arange(n_spatial_bins))\n",
    "data_df['object_ID'] = events.object.apply(lambda x: x[0:-4])\n",
    "data_df['object_bin'] = pd.cut(events.object_position, bins=bin_edges, retbins=False, include_lowest=True, labels=np.arange(n_spatial_bins))\n",
    "data_df['fr'] = fr[:, cell_ix].astype(int)\n",
    "data_df['trial'] = events.trialNum\n",
    "data_df['subject'] = 1"
   ]
  },
  {
   "cell_type": "code",
   "execution_count": 26,
   "metadata": {},
   "outputs": [
    {
     "data": {
      "text/html": [
       "<div>\n",
       "<style scoped>\n",
       "    .dataframe tbody tr th:only-of-type {\n",
       "        vertical-align: middle;\n",
       "    }\n",
       "\n",
       "    .dataframe tbody tr th {\n",
       "        vertical-align: top;\n",
       "    }\n",
       "\n",
       "    .dataframe thead th {\n",
       "        text-align: right;\n",
       "    }\n",
       "</style>\n",
       "<table border=\"1\" class=\"dataframe\">\n",
       "  <thead>\n",
       "    <tr style=\"text-align: right;\">\n",
       "      <th></th>\n",
       "      <th>position</th>\n",
       "      <th>spatial_bin</th>\n",
       "      <th>object_ID</th>\n",
       "      <th>object_bin</th>\n",
       "      <th>fr</th>\n",
       "      <th>trial</th>\n",
       "      <th>subject</th>\n",
       "    </tr>\n",
       "  </thead>\n",
       "  <tbody>\n",
       "    <tr>\n",
       "      <th>0</th>\n",
       "      <td>-33.970167</td>\n",
       "      <td>0</td>\n",
       "      <td>barrel</td>\n",
       "      <td>4</td>\n",
       "      <td>20</td>\n",
       "      <td>1</td>\n",
       "      <td>1</td>\n",
       "    </tr>\n",
       "    <tr>\n",
       "      <th>1</th>\n",
       "      <td>-33.835283</td>\n",
       "      <td>0</td>\n",
       "      <td>barrel</td>\n",
       "      <td>4</td>\n",
       "      <td>10</td>\n",
       "      <td>1</td>\n",
       "      <td>1</td>\n",
       "    </tr>\n",
       "    <tr>\n",
       "      <th>2</th>\n",
       "      <td>-33.584817</td>\n",
       "      <td>0</td>\n",
       "      <td>barrel</td>\n",
       "      <td>4</td>\n",
       "      <td>30</td>\n",
       "      <td>1</td>\n",
       "      <td>1</td>\n",
       "    </tr>\n",
       "    <tr>\n",
       "      <th>3</th>\n",
       "      <td>-33.217183</td>\n",
       "      <td>0</td>\n",
       "      <td>barrel</td>\n",
       "      <td>4</td>\n",
       "      <td>30</td>\n",
       "      <td>1</td>\n",
       "      <td>1</td>\n",
       "    </tr>\n",
       "    <tr>\n",
       "      <th>4</th>\n",
       "      <td>-32.736283</td>\n",
       "      <td>0</td>\n",
       "      <td>barrel</td>\n",
       "      <td>4</td>\n",
       "      <td>10</td>\n",
       "      <td>1</td>\n",
       "      <td>1</td>\n",
       "    </tr>\n",
       "    <tr>\n",
       "      <th>5</th>\n",
       "      <td>-32.138033</td>\n",
       "      <td>0</td>\n",
       "      <td>barrel</td>\n",
       "      <td>4</td>\n",
       "      <td>10</td>\n",
       "      <td>1</td>\n",
       "      <td>1</td>\n",
       "    </tr>\n",
       "    <tr>\n",
       "      <th>6</th>\n",
       "      <td>-31.424333</td>\n",
       "      <td>0</td>\n",
       "      <td>barrel</td>\n",
       "      <td>4</td>\n",
       "      <td>10</td>\n",
       "      <td>1</td>\n",
       "      <td>1</td>\n",
       "    </tr>\n",
       "    <tr>\n",
       "      <th>7</th>\n",
       "      <td>-30.594433</td>\n",
       "      <td>0</td>\n",
       "      <td>barrel</td>\n",
       "      <td>4</td>\n",
       "      <td>20</td>\n",
       "      <td>1</td>\n",
       "      <td>1</td>\n",
       "    </tr>\n",
       "    <tr>\n",
       "      <th>8</th>\n",
       "      <td>-29.650650</td>\n",
       "      <td>1</td>\n",
       "      <td>barrel</td>\n",
       "      <td>4</td>\n",
       "      <td>20</td>\n",
       "      <td>1</td>\n",
       "      <td>1</td>\n",
       "    </tr>\n",
       "    <tr>\n",
       "      <th>9</th>\n",
       "      <td>-28.588867</td>\n",
       "      <td>1</td>\n",
       "      <td>barrel</td>\n",
       "      <td>4</td>\n",
       "      <td>0</td>\n",
       "      <td>1</td>\n",
       "      <td>1</td>\n",
       "    </tr>\n",
       "    <tr>\n",
       "      <th>10</th>\n",
       "      <td>-27.442583</td>\n",
       "      <td>1</td>\n",
       "      <td>barrel</td>\n",
       "      <td>4</td>\n",
       "      <td>0</td>\n",
       "      <td>1</td>\n",
       "      <td>1</td>\n",
       "    </tr>\n",
       "    <tr>\n",
       "      <th>11</th>\n",
       "      <td>-26.285967</td>\n",
       "      <td>2</td>\n",
       "      <td>barrel</td>\n",
       "      <td>4</td>\n",
       "      <td>20</td>\n",
       "      <td>1</td>\n",
       "      <td>1</td>\n",
       "    </tr>\n",
       "    <tr>\n",
       "      <th>12</th>\n",
       "      <td>-25.138133</td>\n",
       "      <td>2</td>\n",
       "      <td>barrel</td>\n",
       "      <td>4</td>\n",
       "      <td>10</td>\n",
       "      <td>1</td>\n",
       "      <td>1</td>\n",
       "    </tr>\n",
       "    <tr>\n",
       "      <th>13</th>\n",
       "      <td>-23.973317</td>\n",
       "      <td>2</td>\n",
       "      <td>barrel</td>\n",
       "      <td>4</td>\n",
       "      <td>0</td>\n",
       "      <td>1</td>\n",
       "      <td>1</td>\n",
       "    </tr>\n",
       "    <tr>\n",
       "      <th>14</th>\n",
       "      <td>-22.816100</td>\n",
       "      <td>3</td>\n",
       "      <td>barrel</td>\n",
       "      <td>4</td>\n",
       "      <td>20</td>\n",
       "      <td>1</td>\n",
       "      <td>1</td>\n",
       "    </tr>\n",
       "    <tr>\n",
       "      <th>15</th>\n",
       "      <td>-21.657450</td>\n",
       "      <td>3</td>\n",
       "      <td>barrel</td>\n",
       "      <td>4</td>\n",
       "      <td>10</td>\n",
       "      <td>1</td>\n",
       "      <td>1</td>\n",
       "    </tr>\n",
       "    <tr>\n",
       "      <th>16</th>\n",
       "      <td>-20.498850</td>\n",
       "      <td>3</td>\n",
       "      <td>barrel</td>\n",
       "      <td>4</td>\n",
       "      <td>20</td>\n",
       "      <td>1</td>\n",
       "      <td>1</td>\n",
       "    </tr>\n",
       "    <tr>\n",
       "      <th>17</th>\n",
       "      <td>-19.343550</td>\n",
       "      <td>4</td>\n",
       "      <td>barrel</td>\n",
       "      <td>4</td>\n",
       "      <td>0</td>\n",
       "      <td>1</td>\n",
       "      <td>1</td>\n",
       "    </tr>\n",
       "    <tr>\n",
       "      <th>18</th>\n",
       "      <td>-18.187283</td>\n",
       "      <td>4</td>\n",
       "      <td>barrel</td>\n",
       "      <td>4</td>\n",
       "      <td>0</td>\n",
       "      <td>1</td>\n",
       "      <td>1</td>\n",
       "    </tr>\n",
       "    <tr>\n",
       "      <th>19</th>\n",
       "      <td>-17.032833</td>\n",
       "      <td>4</td>\n",
       "      <td>barrel</td>\n",
       "      <td>4</td>\n",
       "      <td>10</td>\n",
       "      <td>1</td>\n",
       "      <td>1</td>\n",
       "    </tr>\n",
       "    <tr>\n",
       "      <th>20</th>\n",
       "      <td>-15.877083</td>\n",
       "      <td>5</td>\n",
       "      <td>barrel</td>\n",
       "      <td>4</td>\n",
       "      <td>0</td>\n",
       "      <td>1</td>\n",
       "      <td>1</td>\n",
       "    </tr>\n",
       "    <tr>\n",
       "      <th>21</th>\n",
       "      <td>-14.719233</td>\n",
       "      <td>5</td>\n",
       "      <td>barrel</td>\n",
       "      <td>4</td>\n",
       "      <td>10</td>\n",
       "      <td>1</td>\n",
       "      <td>1</td>\n",
       "    </tr>\n",
       "    <tr>\n",
       "      <th>22</th>\n",
       "      <td>-13.561733</td>\n",
       "      <td>5</td>\n",
       "      <td>barrel</td>\n",
       "      <td>4</td>\n",
       "      <td>10</td>\n",
       "      <td>1</td>\n",
       "      <td>1</td>\n",
       "    </tr>\n",
       "    <tr>\n",
       "      <th>23</th>\n",
       "      <td>-12.412417</td>\n",
       "      <td>6</td>\n",
       "      <td>barrel</td>\n",
       "      <td>4</td>\n",
       "      <td>0</td>\n",
       "      <td>1</td>\n",
       "      <td>1</td>\n",
       "    </tr>\n",
       "    <tr>\n",
       "      <th>24</th>\n",
       "      <td>-11.326117</td>\n",
       "      <td>6</td>\n",
       "      <td>barrel</td>\n",
       "      <td>4</td>\n",
       "      <td>0</td>\n",
       "      <td>1</td>\n",
       "      <td>1</td>\n",
       "    </tr>\n",
       "    <tr>\n",
       "      <th>25</th>\n",
       "      <td>-10.325285</td>\n",
       "      <td>6</td>\n",
       "      <td>barrel</td>\n",
       "      <td>4</td>\n",
       "      <td>40</td>\n",
       "      <td>1</td>\n",
       "      <td>1</td>\n",
       "    </tr>\n",
       "    <tr>\n",
       "      <th>26</th>\n",
       "      <td>-9.407248</td>\n",
       "      <td>7</td>\n",
       "      <td>barrel</td>\n",
       "      <td>4</td>\n",
       "      <td>10</td>\n",
       "      <td>1</td>\n",
       "      <td>1</td>\n",
       "    </tr>\n",
       "    <tr>\n",
       "      <th>27</th>\n",
       "      <td>-8.576738</td>\n",
       "      <td>7</td>\n",
       "      <td>barrel</td>\n",
       "      <td>4</td>\n",
       "      <td>10</td>\n",
       "      <td>1</td>\n",
       "      <td>1</td>\n",
       "    </tr>\n",
       "    <tr>\n",
       "      <th>28</th>\n",
       "      <td>-7.828187</td>\n",
       "      <td>7</td>\n",
       "      <td>barrel</td>\n",
       "      <td>4</td>\n",
       "      <td>0</td>\n",
       "      <td>1</td>\n",
       "      <td>1</td>\n",
       "    </tr>\n",
       "    <tr>\n",
       "      <th>29</th>\n",
       "      <td>-7.162537</td>\n",
       "      <td>7</td>\n",
       "      <td>barrel</td>\n",
       "      <td>4</td>\n",
       "      <td>0</td>\n",
       "      <td>1</td>\n",
       "      <td>1</td>\n",
       "    </tr>\n",
       "    <tr>\n",
       "      <th>...</th>\n",
       "      <td>...</td>\n",
       "      <td>...</td>\n",
       "      <td>...</td>\n",
       "      <td>...</td>\n",
       "      <td>...</td>\n",
       "      <td>...</td>\n",
       "      <td>...</td>\n",
       "    </tr>\n",
       "    <tr>\n",
       "      <th>7624</th>\n",
       "      <td>4.435503</td>\n",
       "      <td>11</td>\n",
       "      <td>desk</td>\n",
       "      <td>7</td>\n",
       "      <td>10</td>\n",
       "      <td>64</td>\n",
       "      <td>1</td>\n",
       "    </tr>\n",
       "    <tr>\n",
       "      <th>7625</th>\n",
       "      <td>4.901508</td>\n",
       "      <td>11</td>\n",
       "      <td>desk</td>\n",
       "      <td>7</td>\n",
       "      <td>0</td>\n",
       "      <td>64</td>\n",
       "      <td>1</td>\n",
       "    </tr>\n",
       "    <tr>\n",
       "      <th>7626</th>\n",
       "      <td>5.426493</td>\n",
       "      <td>11</td>\n",
       "      <td>desk</td>\n",
       "      <td>7</td>\n",
       "      <td>0</td>\n",
       "      <td>64</td>\n",
       "      <td>1</td>\n",
       "    </tr>\n",
       "    <tr>\n",
       "      <th>7627</th>\n",
       "      <td>6.012865</td>\n",
       "      <td>11</td>\n",
       "      <td>desk</td>\n",
       "      <td>7</td>\n",
       "      <td>0</td>\n",
       "      <td>64</td>\n",
       "      <td>1</td>\n",
       "    </tr>\n",
       "    <tr>\n",
       "      <th>7628</th>\n",
       "      <td>6.660362</td>\n",
       "      <td>11</td>\n",
       "      <td>desk</td>\n",
       "      <td>7</td>\n",
       "      <td>0</td>\n",
       "      <td>64</td>\n",
       "      <td>1</td>\n",
       "    </tr>\n",
       "    <tr>\n",
       "      <th>7629</th>\n",
       "      <td>7.364560</td>\n",
       "      <td>12</td>\n",
       "      <td>desk</td>\n",
       "      <td>7</td>\n",
       "      <td>0</td>\n",
       "      <td>64</td>\n",
       "      <td>1</td>\n",
       "    </tr>\n",
       "    <tr>\n",
       "      <th>7630</th>\n",
       "      <td>8.131055</td>\n",
       "      <td>12</td>\n",
       "      <td>desk</td>\n",
       "      <td>7</td>\n",
       "      <td>0</td>\n",
       "      <td>64</td>\n",
       "      <td>1</td>\n",
       "    </tr>\n",
       "    <tr>\n",
       "      <th>7631</th>\n",
       "      <td>8.956912</td>\n",
       "      <td>12</td>\n",
       "      <td>desk</td>\n",
       "      <td>7</td>\n",
       "      <td>0</td>\n",
       "      <td>64</td>\n",
       "      <td>1</td>\n",
       "    </tr>\n",
       "    <tr>\n",
       "      <th>7632</th>\n",
       "      <td>9.842140</td>\n",
       "      <td>12</td>\n",
       "      <td>desk</td>\n",
       "      <td>7</td>\n",
       "      <td>0</td>\n",
       "      <td>64</td>\n",
       "      <td>1</td>\n",
       "    </tr>\n",
       "    <tr>\n",
       "      <th>7633</th>\n",
       "      <td>10.789267</td>\n",
       "      <td>13</td>\n",
       "      <td>desk</td>\n",
       "      <td>7</td>\n",
       "      <td>10</td>\n",
       "      <td>64</td>\n",
       "      <td>1</td>\n",
       "    </tr>\n",
       "    <tr>\n",
       "      <th>7634</th>\n",
       "      <td>11.793667</td>\n",
       "      <td>13</td>\n",
       "      <td>desk</td>\n",
       "      <td>7</td>\n",
       "      <td>0</td>\n",
       "      <td>64</td>\n",
       "      <td>1</td>\n",
       "    </tr>\n",
       "    <tr>\n",
       "      <th>7635</th>\n",
       "      <td>12.861883</td>\n",
       "      <td>13</td>\n",
       "      <td>desk</td>\n",
       "      <td>7</td>\n",
       "      <td>20</td>\n",
       "      <td>64</td>\n",
       "      <td>1</td>\n",
       "    </tr>\n",
       "    <tr>\n",
       "      <th>7636</th>\n",
       "      <td>13.985600</td>\n",
       "      <td>13</td>\n",
       "      <td>desk</td>\n",
       "      <td>7</td>\n",
       "      <td>20</td>\n",
       "      <td>64</td>\n",
       "      <td>1</td>\n",
       "    </tr>\n",
       "    <tr>\n",
       "      <th>7637</th>\n",
       "      <td>15.168667</td>\n",
       "      <td>14</td>\n",
       "      <td>desk</td>\n",
       "      <td>7</td>\n",
       "      <td>30</td>\n",
       "      <td>64</td>\n",
       "      <td>1</td>\n",
       "    </tr>\n",
       "    <tr>\n",
       "      <th>7638</th>\n",
       "      <td>16.368783</td>\n",
       "      <td>14</td>\n",
       "      <td>desk</td>\n",
       "      <td>7</td>\n",
       "      <td>10</td>\n",
       "      <td>64</td>\n",
       "      <td>1</td>\n",
       "    </tr>\n",
       "    <tr>\n",
       "      <th>7639</th>\n",
       "      <td>17.567717</td>\n",
       "      <td>14</td>\n",
       "      <td>desk</td>\n",
       "      <td>7</td>\n",
       "      <td>10</td>\n",
       "      <td>64</td>\n",
       "      <td>1</td>\n",
       "    </tr>\n",
       "    <tr>\n",
       "      <th>7640</th>\n",
       "      <td>18.768317</td>\n",
       "      <td>15</td>\n",
       "      <td>desk</td>\n",
       "      <td>7</td>\n",
       "      <td>20</td>\n",
       "      <td>64</td>\n",
       "      <td>1</td>\n",
       "    </tr>\n",
       "    <tr>\n",
       "      <th>7641</th>\n",
       "      <td>19.968583</td>\n",
       "      <td>15</td>\n",
       "      <td>desk</td>\n",
       "      <td>7</td>\n",
       "      <td>20</td>\n",
       "      <td>64</td>\n",
       "      <td>1</td>\n",
       "    </tr>\n",
       "    <tr>\n",
       "      <th>7642</th>\n",
       "      <td>21.168117</td>\n",
       "      <td>16</td>\n",
       "      <td>desk</td>\n",
       "      <td>7</td>\n",
       "      <td>40</td>\n",
       "      <td>64</td>\n",
       "      <td>1</td>\n",
       "    </tr>\n",
       "    <tr>\n",
       "      <th>7643</th>\n",
       "      <td>22.366517</td>\n",
       "      <td>16</td>\n",
       "      <td>desk</td>\n",
       "      <td>7</td>\n",
       "      <td>20</td>\n",
       "      <td>64</td>\n",
       "      <td>1</td>\n",
       "    </tr>\n",
       "    <tr>\n",
       "      <th>7644</th>\n",
       "      <td>23.568633</td>\n",
       "      <td>16</td>\n",
       "      <td>desk</td>\n",
       "      <td>7</td>\n",
       "      <td>0</td>\n",
       "      <td>64</td>\n",
       "      <td>1</td>\n",
       "    </tr>\n",
       "    <tr>\n",
       "      <th>7645</th>\n",
       "      <td>24.767583</td>\n",
       "      <td>17</td>\n",
       "      <td>desk</td>\n",
       "      <td>7</td>\n",
       "      <td>20</td>\n",
       "      <td>64</td>\n",
       "      <td>1</td>\n",
       "    </tr>\n",
       "    <tr>\n",
       "      <th>7646</th>\n",
       "      <td>25.967267</td>\n",
       "      <td>17</td>\n",
       "      <td>desk</td>\n",
       "      <td>7</td>\n",
       "      <td>0</td>\n",
       "      <td>64</td>\n",
       "      <td>1</td>\n",
       "    </tr>\n",
       "    <tr>\n",
       "      <th>7647</th>\n",
       "      <td>27.160883</td>\n",
       "      <td>17</td>\n",
       "      <td>desk</td>\n",
       "      <td>7</td>\n",
       "      <td>0</td>\n",
       "      <td>64</td>\n",
       "      <td>1</td>\n",
       "    </tr>\n",
       "    <tr>\n",
       "      <th>7648</th>\n",
       "      <td>28.266950</td>\n",
       "      <td>18</td>\n",
       "      <td>desk</td>\n",
       "      <td>7</td>\n",
       "      <td>0</td>\n",
       "      <td>64</td>\n",
       "      <td>1</td>\n",
       "    </tr>\n",
       "    <tr>\n",
       "      <th>7649</th>\n",
       "      <td>29.248400</td>\n",
       "      <td>18</td>\n",
       "      <td>desk</td>\n",
       "      <td>7</td>\n",
       "      <td>0</td>\n",
       "      <td>64</td>\n",
       "      <td>1</td>\n",
       "    </tr>\n",
       "    <tr>\n",
       "      <th>7650</th>\n",
       "      <td>30.118150</td>\n",
       "      <td>18</td>\n",
       "      <td>desk</td>\n",
       "      <td>7</td>\n",
       "      <td>0</td>\n",
       "      <td>64</td>\n",
       "      <td>1</td>\n",
       "    </tr>\n",
       "    <tr>\n",
       "      <th>7651</th>\n",
       "      <td>30.887517</td>\n",
       "      <td>18</td>\n",
       "      <td>desk</td>\n",
       "      <td>7</td>\n",
       "      <td>20</td>\n",
       "      <td>64</td>\n",
       "      <td>1</td>\n",
       "    </tr>\n",
       "    <tr>\n",
       "      <th>7652</th>\n",
       "      <td>31.569600</td>\n",
       "      <td>19</td>\n",
       "      <td>desk</td>\n",
       "      <td>7</td>\n",
       "      <td>0</td>\n",
       "      <td>64</td>\n",
       "      <td>1</td>\n",
       "    </tr>\n",
       "    <tr>\n",
       "      <th>7653</th>\n",
       "      <td>32.174733</td>\n",
       "      <td>19</td>\n",
       "      <td>desk</td>\n",
       "      <td>7</td>\n",
       "      <td>0</td>\n",
       "      <td>64</td>\n",
       "      <td>1</td>\n",
       "    </tr>\n",
       "  </tbody>\n",
       "</table>\n",
       "<p>7654 rows × 7 columns</p>\n",
       "</div>"
      ],
      "text/plain": [
       "       position spatial_bin object_ID object_bin  fr  trial  subject\n",
       "0    -33.970167           0    barrel          4  20      1        1\n",
       "1    -33.835283           0    barrel          4  10      1        1\n",
       "2    -33.584817           0    barrel          4  30      1        1\n",
       "3    -33.217183           0    barrel          4  30      1        1\n",
       "4    -32.736283           0    barrel          4  10      1        1\n",
       "5    -32.138033           0    barrel          4  10      1        1\n",
       "6    -31.424333           0    barrel          4  10      1        1\n",
       "7    -30.594433           0    barrel          4  20      1        1\n",
       "8    -29.650650           1    barrel          4  20      1        1\n",
       "9    -28.588867           1    barrel          4   0      1        1\n",
       "10   -27.442583           1    barrel          4   0      1        1\n",
       "11   -26.285967           2    barrel          4  20      1        1\n",
       "12   -25.138133           2    barrel          4  10      1        1\n",
       "13   -23.973317           2    barrel          4   0      1        1\n",
       "14   -22.816100           3    barrel          4  20      1        1\n",
       "15   -21.657450           3    barrel          4  10      1        1\n",
       "16   -20.498850           3    barrel          4  20      1        1\n",
       "17   -19.343550           4    barrel          4   0      1        1\n",
       "18   -18.187283           4    barrel          4   0      1        1\n",
       "19   -17.032833           4    barrel          4  10      1        1\n",
       "20   -15.877083           5    barrel          4   0      1        1\n",
       "21   -14.719233           5    barrel          4  10      1        1\n",
       "22   -13.561733           5    barrel          4  10      1        1\n",
       "23   -12.412417           6    barrel          4   0      1        1\n",
       "24   -11.326117           6    barrel          4   0      1        1\n",
       "25   -10.325285           6    barrel          4  40      1        1\n",
       "26    -9.407248           7    barrel          4  10      1        1\n",
       "27    -8.576738           7    barrel          4  10      1        1\n",
       "28    -7.828187           7    barrel          4   0      1        1\n",
       "29    -7.162537           7    barrel          4   0      1        1\n",
       "...         ...         ...       ...        ...  ..    ...      ...\n",
       "7624   4.435503          11      desk          7  10     64        1\n",
       "7625   4.901508          11      desk          7   0     64        1\n",
       "7626   5.426493          11      desk          7   0     64        1\n",
       "7627   6.012865          11      desk          7   0     64        1\n",
       "7628   6.660362          11      desk          7   0     64        1\n",
       "7629   7.364560          12      desk          7   0     64        1\n",
       "7630   8.131055          12      desk          7   0     64        1\n",
       "7631   8.956912          12      desk          7   0     64        1\n",
       "7632   9.842140          12      desk          7   0     64        1\n",
       "7633  10.789267          13      desk          7  10     64        1\n",
       "7634  11.793667          13      desk          7   0     64        1\n",
       "7635  12.861883          13      desk          7  20     64        1\n",
       "7636  13.985600          13      desk          7  20     64        1\n",
       "7637  15.168667          14      desk          7  30     64        1\n",
       "7638  16.368783          14      desk          7  10     64        1\n",
       "7639  17.567717          14      desk          7  10     64        1\n",
       "7640  18.768317          15      desk          7  20     64        1\n",
       "7641  19.968583          15      desk          7  20     64        1\n",
       "7642  21.168117          16      desk          7  40     64        1\n",
       "7643  22.366517          16      desk          7  20     64        1\n",
       "7644  23.568633          16      desk          7   0     64        1\n",
       "7645  24.767583          17      desk          7  20     64        1\n",
       "7646  25.967267          17      desk          7   0     64        1\n",
       "7647  27.160883          17      desk          7   0     64        1\n",
       "7648  28.266950          18      desk          7   0     64        1\n",
       "7649  29.248400          18      desk          7   0     64        1\n",
       "7650  30.118150          18      desk          7   0     64        1\n",
       "7651  30.887517          18      desk          7  20     64        1\n",
       "7652  31.569600          19      desk          7   0     64        1\n",
       "7653  32.174733          19      desk          7   0     64        1\n",
       "\n",
       "[7654 rows x 7 columns]"
      ]
     },
     "execution_count": 26,
     "metadata": {},
     "output_type": "execute_result"
    }
   ],
   "source": [
    "data_df"
   ]
  },
  {
   "cell_type": "code",
   "execution_count": 27,
   "metadata": {},
   "outputs": [
    {
     "data": {
      "text/plain": [
       "<matplotlib.axes._subplots.AxesSubplot at 0x2b4ef71c8510>"
      ]
     },
     "execution_count": 27,
     "metadata": {},
     "output_type": "execute_result"
    },
    {
     "data": {
      "image/png": "[encoded data removed]",
      "text/plain": [
       "<Figure size 432x288 with 1 Axes>"
      ]
     },
     "metadata": {
      "needs_background": "light"
     },
     "output_type": "display_data"
    }
   ],
   "source": [
    "# Compute the actual spatially binned firing rate by averaging the firing rate over each bin \n",
    "spatially_binned_fr = data_df.groupby(by='spatial_bin').mean()\n",
    "# Plot\n",
    "sns.lineplot(x='spatial_bin', y='fr', data=data_df, ci=68) # Note that seaborn does the groupby().mean() itself "
   ]
  },
  {
   "cell_type": "code",
   "execution_count": 28,
   "metadata": {},
   "outputs": [
    {
     "data": {
      "text/plain": [
       "<matplotlib.axes._subplots.AxesSubplot at 0x2b4ef76ba2d0>"
      ]
     },
     "execution_count": 28,
     "metadata": {},
     "output_type": "execute_result"
    },
    {
     "data": {
      "image/png": "[encoded data removed]",
      "text/plain": [
       "<Figure size 432x288 with 1 Axes>"
      ]
     },
     "metadata": {
      "needs_background": "light"
     },
     "output_type": "display_data"
    }
   ],
   "source": [
    "# Compute the firing rate for each different object cued for memory \n",
    "sns.barplot(x='object_ID', y='fr', data=data_df)"
   ]
  },
  {
   "cell_type": "code",
   "execution_count": 29,
   "metadata": {},
   "outputs": [
    {
     "data": {
      "image/png": "[encoded data removed]",
      "text/plain": [
       "<Figure size 216x648 with 4 Axes>"
      ]
     },
     "metadata": {
      "needs_background": "light"
     },
     "output_type": "display_data"
    }
   ],
   "source": [
    "# Does spatial firing rate differ as a function of which object is cued for retrieval? \n",
    "\n",
    "diff_objects= data_df.object_ID.unique()\n",
    "f, (obj1, obj2, obj3, obj4) = plt.subplots(4, 1, figsize=[3,9])\n",
    "sns.lineplot(x='spatial_bin', y='fr', data=data_df[data_df.object_ID==diff_objects[0]], ci=68, ax=obj1)\n",
    "sns.lineplot(x='spatial_bin', y='fr', data=data_df[data_df.object_ID==diff_objects[1]], ci=68, ax=obj2)\n",
    "sns.lineplot(x='spatial_bin', y='fr', data=data_df[data_df.object_ID==diff_objects[2]], ci=68, ax=obj3)\n",
    "sns.lineplot(x='spatial_bin', y='fr', data=data_df[data_df.object_ID==diff_objects[3]], ci=68, ax=obj4)\n",
    "\n",
    "obj1.vlines(data_df[data_df.object_ID==diff_objects[0]].object_bin, 0, obj1.get_ylim()[-1])\n",
    "obj2.vlines(data_df[data_df.object_ID==diff_objects[1]].object_bin, 0, obj2.get_ylim()[-1])\n",
    "obj3.vlines(data_df[data_df.object_ID==diff_objects[2]].object_bin, 0, obj3.get_ylim()[-1])\n",
    "obj4.vlines(data_df[data_df.object_ID==diff_objects[3]].object_bin, 0, obj4.get_ylim()[-1])\n",
    "\n",
    "obj1.set_title(diff_objects[0])\n",
    "obj2.set_title(diff_objects[1])\n",
    "obj3.set_title(diff_objects[2])\n",
    "obj4.set_title(diff_objects[3])\n",
    "\n",
    "f.tight_layout()"
   ]
  },
  {
   "cell_type": "markdown",
   "metadata": {},
   "source": [
    "# Statistical Analysis\n",
    "\n",
    "Our next goal is to statistically determine if this neuron shows significant spatial tuning, significant object tuning, or an interaction of the two. Let's discuss each of these possibilites:\n",
    "\n",
    "1) Significant spatial tuning: A neuron significantly increases it's firing in a particular location. We would call this a place cell. \n",
    "\n",
    "2) Significant object tuning: A neuron significantly increases it's firing when a particular object is cued for memory retrieval. \n",
    "\n",
    "3) Significant spatial x object: A neuron significantly increases it's firing in a particular location **as a function of the object cued for memory**. Put another way, the memory a person is cued to retrieve is affecting the spatial tuning of the neuron.\n",
    "\n",
    "To assess these possibilities in an individual neuron, we are going to do a simple 2-way ANOVA. "
   ]
  },
  {
   "cell_type": "code",
   "execution_count": 30,
   "metadata": {},
   "outputs": [
    {
     "data": {
      "text/html": [
       "<div>\n",
       "<style scoped>\n",
       "    .dataframe tbody tr th:only-of-type {\n",
       "        vertical-align: middle;\n",
       "    }\n",
       "\n",
       "    .dataframe tbody tr th {\n",
       "        vertical-align: top;\n",
       "    }\n",
       "\n",
       "    .dataframe thead th {\n",
       "        text-align: right;\n",
       "    }\n",
       "</style>\n",
       "<table border=\"1\" class=\"dataframe\">\n",
       "  <thead>\n",
       "    <tr style=\"text-align: right;\">\n",
       "      <th></th>\n",
       "      <th>sum_sq</th>\n",
       "      <th>df</th>\n",
       "      <th>F</th>\n",
       "      <th>PR(&gt;F)</th>\n",
       "    </tr>\n",
       "  </thead>\n",
       "  <tbody>\n",
       "    <tr>\n",
       "      <th>C(spatial_bin)</th>\n",
       "      <td>1.877170e+04</td>\n",
       "      <td>19.0</td>\n",
       "      <td>6.779549</td>\n",
       "      <td>3.681931e-18</td>\n",
       "    </tr>\n",
       "    <tr>\n",
       "      <th>C(object_ID)</th>\n",
       "      <td>1.320507e+04</td>\n",
       "      <td>3.0</td>\n",
       "      <td>30.204404</td>\n",
       "      <td>2.104132e-19</td>\n",
       "    </tr>\n",
       "    <tr>\n",
       "      <th>C(spatial_bin):C(object_ID)</th>\n",
       "      <td>1.036921e+04</td>\n",
       "      <td>57.0</td>\n",
       "      <td>1.248308</td>\n",
       "      <td>9.945531e-02</td>\n",
       "    </tr>\n",
       "    <tr>\n",
       "      <th>Residual</th>\n",
       "      <td>1.103760e+06</td>\n",
       "      <td>7574.0</td>\n",
       "      <td>NaN</td>\n",
       "      <td>NaN</td>\n",
       "    </tr>\n",
       "  </tbody>\n",
       "</table>\n",
       "</div>"
      ],
      "text/plain": [
       "                                   sum_sq      df          F        PR(>F)\n",
       "C(spatial_bin)               1.877170e+04    19.0   6.779549  3.681931e-18\n",
       "C(object_ID)                 1.320507e+04     3.0  30.204404  2.104132e-19\n",
       "C(spatial_bin):C(object_ID)  1.036921e+04    57.0   1.248308  9.945531e-02\n",
       "Residual                     1.103760e+06  7574.0        NaN           NaN"
      ]
     },
     "execution_count": 30,
     "metadata": {},
     "output_type": "execute_result"
    }
   ],
   "source": [
    "# Hypothesis testing: \n",
    "\n",
    "formula = 'fr~C(spatial_bin) + C(object_ID) + C(spatial_bin)*C(object_ID)'\n",
    "model = ols(formula, data_df).fit()\n",
    "aov_table = anova_lm(model, typ=2)\n",
    "F_int = aov_table['F']['C(spatial_bin):C(object_ID)']\n",
    "F_pos = aov_table['F']['C(spatial_bin)']\n",
    "F_obj = aov_table['F']['C(object_ID)']\n",
    "aov_table "
   ]
  },
  {
   "cell_type": "markdown",
   "metadata": {},
   "source": [
    "But wait - our data might violate normality assumptions for computing the significance of the test-statistic (F). \n",
    "\n",
    "As with the LFP data, we should compute our own null distributions from surrogate data to assess significance. See Assignment. "
   ]
  },
  {
   "cell_type": "code",
   "execution_count": 31,
   "metadata": {},
   "outputs": [],
   "source": [
    "# # If computing effects across subjects, must account for repeated trials: Use a repeated-measures ANOVA design \n",
    "# # pip install --upgrade pingouin\n",
    "# import pingouin as pg\n",
    "# aov = pg.rm_anova(dv='fr',\n",
    "#                   within=['spatial_bin', 'object_ID'],\n",
    "#                   subject='trial', data=data_df, detailed=)"
   ]
  },
  {
   "cell_type": "markdown",
   "metadata": {},
   "source": [
    "## Assignment:\n",
    "\n",
    "In this assignment, you will analyze human single neuron activity during a virtual-reality spatial memory task. In this task, subjects move down a linear track while encoding and retrieving the locations of objects along the track. You will plot neuronal spiking as a function of time and spatial position, and apply statistical methods for assessing significant changes in both domains. You will also measure the influence of memory cues and memory performance on spiking activity. \n",
    "\n",
    "1) Write a general function to plot the raster and histogram at a user defined time window and bin length (for the histogram). Use it to plot the rasters and histograms for CueOn, CueOff, FeedbackOn and FeedbackOff. This function should use baselined spike times and baselined event times/trial as input. Plot the output for one neuron. \n",
    "\n",
    "2) Write a similar function using the smoothed spiking activity instead of the PSTH. Keep in mind that the we computed the smoothed spiking activity at 100 Hz. Be sure to allow users to input width of smoothing kernel. You may want to write a separate function to smooth the firing rate, and call that within your function to plot the raster + smoothed firing rate. Plot the output for one neuron, with 3 different smoothing widths for your kernel. \n",
    "\n",
    "3) Calculate the mean firing rate and the error on every trial, and plot firing rate as a function of error. Hint: this is going to require that you again split the events into trials using the ```trialNum``` field. \n",
    "BONUS: Is there a statistical relationship between firing rate and memory performance? \n",
    "\n",
    "4) Do some shuffling to determine if the F-statistic from the spatial ANOVA is significant. Hint: use np.roll() to circularly shift data in a pandas dataframe: \n",
    "```df.reindex(index=np.roll(df.index, shift))```. If you see any neurons with a significant interaction in the ANOVA, make a plot of the spatial firing rate split by object. If you see any neurons that do not have a significant interaction but do have a significant main effect of location, make a plot of the spatial firing rate over all trials. \n"
   ]
  }
 ],
 "metadata": {
  "kernelspec": {
   "display_name": "bids",
   "language": "python",
   "name": "bids"
  },
  "language_info": {
   "codemirror_mode": {
    "name": "ipython",
    "version": 3
   },
   "file_extension": ".py",
   "mimetype": "text/x-python",
   "name": "python",
   "nbconvert_exporter": "python",
   "pygments_lexer": "ipython3",
   "version": "3.11.4"
  }
 },
 "nbformat": 4,
 "nbformat_minor": 4
}
