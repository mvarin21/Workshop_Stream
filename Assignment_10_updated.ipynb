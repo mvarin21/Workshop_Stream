{
 "cells": [
  {
   "cell_type": "markdown",
   "id": "c8f27999-acae-4d63-8420-42f746e8bff4",
   "metadata": {},
   "source": [
    "# Assignment 10: Representational Similarity Analysis"
   ]
  },
  {
   "cell_type": "markdown",
   "id": "4badb336-fe7c-439e-9e1a-e505f7f78d56",
   "metadata": {},
   "source": [
    "Please submit this assignment to Canvas as a jupyter notebook (.ipynb). The assignment will have you analyzing correlations between time points during a task."
   ]
  },
  {
   "cell_type": "code",
   "execution_count": null,
   "id": "9ee84479-e000-4239-a67b-0938ebd376ec",
   "metadata": {},
   "outputs": [],
   "source": [
    "%matplotlib inline\n",
    "import pandas as pd\n",
    "import seaborn as sns"
   ]
  },
  {
   "cell_type": "markdown",
   "id": "ba900b7a-4b0e-4bd4-aa92-60a1571dc785",
   "metadata": {
    "tags": []
   },
   "source": [
    "# Question 1: Serial position similarity"
   ]
  },
  {
   "cell_type": "markdown",
   "id": "0791c001-812c-428f-9364-e66f554d57cf",
   "metadata": {},
   "source": [
    "In this first part, we will be replicating some of the main results from from [Manning et al. (2011)](https://www.pnas.org/doi/10.1073/pnas.1015174108). The first result that Manning showed was that neural activity seemed to drift such that the similarity of patterns of intracranial EEG decreased as a function of distance in the list."
   ]
  },
  {
   "cell_type": "markdown",
   "id": "7f704029-4701-4f39-8402-97d98cc4fcdd",
   "metadata": {},
   "source": [
    "<center>\n",
    "    <img src=\"figures/MannEtal11A.png\" width=400>\n",
    "</center>"
   ]
  },
  {
   "cell_type": "markdown",
   "id": "d4f2302e-5f4a-497c-b36e-4eab647951e4",
   "metadata": {},
   "source": [
    "The following code loads all of the correlations between all spectral features during all encoding items in a list"
   ]
  },
  {
   "cell_type": "code",
   "execution_count": null,
   "id": "49001e56-3562-4fb7-9f41-018637595296",
   "metadata": {},
   "outputs": [],
   "source": [
    "data_path = '/data7/rsa_class/'\n",
    "raw_WORD_rsa_df = pd.read_csv(data_path + 'raw_WORD_rsa_df.csv')"
   ]
  },
  {
   "cell_type": "markdown",
   "id": "e6194d12-043a-4f43-93e5-3e9ec8d07c8f",
   "metadata": {},
   "source": [
    "In both dataframe files, each row contains the correlation between two events, either two encoding events or an encoding event and a retrieval event. In the dataframe comparing two encoding events, the metadata associated with it are coded as `colname_WORD` and `colname_WORD2` with `_WORD2` referring to the encoding event with the later serial position. In tha dataframe comparing encoding to retrieval, the columns will be coded as `colname_WORD` for the encoding event and `colname_REC_WORD` for the retrieval event. The codebook for the `colname` options are as follows:\n",
    "* `subject`: The string identifier of the subject, e.g. R1001.\n",
    "* `session`: The session number\n",
    "* `list`: List number (1-25) during which the event occurred.\n",
    "* `serialpos`: Indicates the serial position in which the word was presented during the study list\n",
    "* `item`: The word being presented or recalled in a `WORD` or `REC_WORD` event.\n",
    "* `category`: The category of the word being presented or recalled in a `WORD` or `REC_WORD` event.\n",
    "* `recalled`: 1 if the item was subsequently recalled, 0 if it was not\n",
    "* `outpos`: Indicates the output position in which the word was recalled during the recall period"
   ]
  },
  {
   "cell_type": "markdown",
   "id": "f3043a28-c347-4f1f-948d-b2959b299616",
   "metadata": {},
   "source": [
    "We'll again do this analysis within list. Since we are interested in the encoding period, we will use the \"WORD\" events. First, use `pandas` `query` function to select only the within-list comparisons. This means selecting only cases where `list_WORD` is the same as `list_WORD2`. Also we want to select only cases where `serialpos_WORD` is before `serialpos_WORD2`"
   ]
  },
  {
   "cell_type": "code",
   "execution_count": null,
   "id": "ff1aacfd-9995-462b-8c4b-e66dee6cc6f0",
   "metadata": {},
   "outputs": [],
   "source": [
    "# Question 1a\n",
    "### YOUR CODE HERE"
   ]
  },
  {
   "cell_type": "markdown",
   "id": "899828ee-0d8f-4eb5-9543-0a76c69bac62",
   "metadata": {},
   "source": [
    "Now just like in lecture, we want to subtract off the mean of each list so each correlation value is relative to the list mean. We'll save this in a variable called `corr_z_list_adj`"
   ]
  },
  {
   "cell_type": "code",
   "execution_count": null,
   "id": "99f1bf05-da58-439d-a4b6-447693752193",
   "metadata": {},
   "outputs": [],
   "source": [
    "# Question 1b\n",
    "### YOUR CODE HERE"
   ]
  },
  {
   "cell_type": "markdown",
   "id": "59e03253-f0de-4d86-9076-b885882ebeaa",
   "metadata": {},
   "source": [
    "Then create a heatmap comparing all serial positions with each other as we did in the lecture for categories. The relevant columns are `serialpos_WORD` and `serialpos_WORD2`"
   ]
  },
  {
   "cell_type": "code",
   "execution_count": null,
   "id": "3413dc59-5551-4dd0-8eb7-ae5f9ce56995",
   "metadata": {},
   "outputs": [],
   "source": [
    "# Question 1c\n",
    "### YOUR CODE HERE"
   ]
  },
  {
   "cell_type": "markdown",
   "id": "7a92eb99-8091-40bf-8ea5-e9d07b6f899f",
   "metadata": {},
   "source": [
    "From this heatmap, we can clearly see how the similarity decreases as a function of distance. To replicate the Manning analysis more directly, we want to plot this with \"Study distance\" on the x-axis. Study distance is going to be the difference in serial positions between the two compared items. Recompute the within-list comparisons as a function of Study distance for each subject. You should end up with a dataframe that has one row for each subject and each distance (from 1 to 11)"
   ]
  },
  {
   "cell_type": "code",
   "execution_count": null,
   "id": "a09eb9a6-9340-4d3f-80c8-e8ee1d8110d9",
   "metadata": {},
   "outputs": [],
   "source": [
    "# Question 1d\n",
    "### YOUR CODE HERE"
   ]
  },
  {
   "cell_type": "markdown",
   "id": "17c9d8ce-a301-44c7-ba3d-2efe79523487",
   "metadata": {},
   "source": [
    "Use seaborn's [catplot](https://seaborn.pydata.org/generated/seaborn.catplot.html) function to replicate the Manning plot. Since each row is an independent observation from each subject, seaborn will compute the correct errorbars by default. You just need to plug in which variables go on the x and y-axis"
   ]
  },
  {
   "cell_type": "code",
   "execution_count": null,
   "id": "57f724c8-04b0-4029-a148-fdbedb8885fa",
   "metadata": {},
   "outputs": [],
   "source": [
    "# Question 1e\n",
    "### YOUR CODE HERE"
   ]
  },
  {
   "cell_type": "markdown",
   "id": "a3241661-536a-45a9-947b-b45e2b713a81",
   "metadata": {},
   "source": [
    "We'll also show that being from the same category influences similarity on top of the serial position distance within a list. It's crucial to account for both at the same time because of the category structure of the list. You need to create a variable that checks if the category of the two items are the same. Use the split-apply-combine technique with both `serialpos_dist` and `same_category` to get the mean within each possible combination. Use the [catplot](https://seaborn.pydata.org/generated/seaborn.catplot.html) parameter `hue` to display both variables on the same plot."
   ]
  },
  {
   "cell_type": "code",
   "execution_count": null,
   "id": "71e1db84-a76c-4db1-aaa9-77b75e3ac309",
   "metadata": {},
   "outputs": [],
   "source": [
    "# Question 1f\n",
    "### YOUR CODE HERE"
   ]
  },
  {
   "cell_type": "markdown",
   "id": "91a212d5-ad4b-453d-ac8b-74ab85a6afcb",
   "metadata": {
    "tags": []
   },
   "source": [
    "# Question 2: Encoding-Retrieval RSA analysis"
   ]
  },
  {
   "cell_type": "markdown",
   "id": "00947886-c5de-4ac1-9edf-4ccd46af492a",
   "metadata": {},
   "source": [
    "Now we'll look at the key analysis in Manning et al. (2011). They showed that right before you retrieve an item, the neural activity that displayed the drift above looks more similar to the item youre about to retrieve than any other item. On top of that, it is also more similar to serial positions that were near by at encoding. This suggests that you not only retrieve an item but its general *context*. This is a key prediction of retrieved context theories of free recall."
   ]
  },
  {
   "cell_type": "markdown",
   "id": "d388817c-b011-4778-b9c1-b1d831d529e8",
   "metadata": {},
   "source": [
    "<center>\n",
    "    <img src=\"figures/MannEtal11_fig1.png\" width=600>\n",
    "</center>"
   ]
  },
  {
   "cell_type": "markdown",
   "id": "5d7d1e48-111b-40dc-a321-29bcce45ef15",
   "metadata": {},
   "source": [
    "<center>\n",
    "    <img src=\"figures/MannEtal11B.png\" width=400>\n",
    "</center>"
   ]
  },
  {
   "cell_type": "markdown",
   "id": "cf16d1fb-0667-487c-a21a-6c837c5d2a49",
   "metadata": {},
   "source": [
    "Here we will use comparisons between encoding events and recall events. They are stored in the following dataframe"
   ]
  },
  {
   "cell_type": "code",
   "execution_count": null,
   "id": "be09a37f-eaed-43ca-a37f-af7390dfe7ea",
   "metadata": {},
   "outputs": [],
   "source": [
    "raw_REC_WORD_rsa_df = pd.read_csv(data_path + 'raw_REC_WORD_rsa_df.csv')"
   ]
  },
  {
   "cell_type": "markdown",
   "id": "eaadaa57-6dec-4e63-9619-35e42612fb88",
   "metadata": {},
   "source": [
    "We will only look at comparisons within a list and on retrievals where a word that was actually on the list was retrieved. The following code selects that for you"
   ]
  },
  {
   "cell_type": "code",
   "execution_count": null,
   "id": "d1e740f8-e528-4d14-a627-374fdd40b366",
   "metadata": {},
   "outputs": [],
   "source": [
    "within_list_correct_REC_WORD_rsa_df = raw_REC_WORD_rsa_df.query(\n",
    "    'list_REC_WORD == list_WORD and serialpos_REC_WORD != -999')"
   ]
  },
  {
   "cell_type": "markdown",
   "id": "f600e0d7-7d98-4f2b-bd34-ab8c9dc0f816",
   "metadata": {},
   "source": [
    "Take a look at the `within_list_correct_REC_WORD_rsa_df` and make sure you understand the information that is contained in that dataframe"
   ]
  },
  {
   "cell_type": "markdown",
   "id": "7d0f27d9-04ad-475b-b22e-7fd778ffccd1",
   "metadata": {},
   "source": [
    "How would you compute the serialpos_lag used in the above plot?"
   ]
  },
  {
   "cell_type": "code",
   "execution_count": null,
   "id": "8adeb728-3a2b-4559-ac4c-ab310e7b3cc0",
   "metadata": {
    "tags": []
   },
   "outputs": [],
   "source": [
    "# Q2a\n",
    "### YOUR CODE HERE"
   ]
  },
  {
   "cell_type": "markdown",
   "id": "5ea0356a-2d89-49ed-95b8-8e074ce4300d",
   "metadata": {},
   "source": [
    "Like above, we'll subtract out variance we are not interested in. Here, we will compute relative similarity not only within list but within each retrieval. We can use the `outpos_REC_WORD` column to do that since it indicates each retrieval."
   ]
  },
  {
   "cell_type": "code",
   "execution_count": null,
   "id": "e04a4262-f203-4c64-afc5-53a28ea2422d",
   "metadata": {},
   "outputs": [],
   "source": [
    "# Q2b\n",
    "### YOUR CODE HERE"
   ]
  },
  {
   "cell_type": "markdown",
   "id": "9b1f3658-1319-427f-8ecc-542d54a7d052",
   "metadata": {},
   "source": [
    "Using that, we get a figure that looks a lot like the one from Manning et al.! Similar to Manning, make sure you select serial position lags between -5 and 5 before plotting"
   ]
  },
  {
   "cell_type": "code",
   "execution_count": null,
   "id": "dd505c06-1593-42c9-ae76-431aca5b884d",
   "metadata": {},
   "outputs": [],
   "source": [
    "# Q2c\n",
    "### YOUR CODE HERE"
   ]
  },
  {
   "cell_type": "markdown",
   "id": "20287ac4-dea8-42d5-af07-28ed8345b32b",
   "metadata": {},
   "source": [
    "Manning et al. (2012) showed that items that were semantically similar were *also* more similar to the moments just prior to item retrieval. Kragel et al. (2021) also showed that you could decode the category of the item that was about to be retrieved in the moments just before retrieval."
   ]
  },
  {
   "cell_type": "markdown",
   "id": "29a3a69f-fa00-4e47-8cb5-c48ae16056c2",
   "metadata": {},
   "source": [
    "<center>\n",
    "    <img src=\"figures/KragEtal21_fig3b_cat.png\" width=400>\n",
    "</center>"
   ]
  },
  {
   "cell_type": "markdown",
   "id": "7d086711-f22b-4e62-ad26-7aefb3d5c2cc",
   "metadata": {},
   "source": [
    " We are going to try to look at the same thing here. Just like above, make the above plot as a function of both `serialpos_lag` and `same_category`"
   ]
  },
  {
   "cell_type": "code",
   "execution_count": null,
   "id": "2b9ae208-62e2-4acb-a82a-ccef4464ca59",
   "metadata": {},
   "outputs": [],
   "source": [
    "# Q2d\n",
    "### YOUR CODE HERE"
   ]
  },
  {
   "cell_type": "markdown",
   "id": "c7b7db2f-8cd6-4cdf-84ec-3112eec72131",
   "metadata": {},
   "source": [
    "# Question 3: category similarity during encoding"
   ]
  },
  {
   "cell_type": "markdown",
   "id": "70e00d2a-f9ac-4f25-9b32-6575c0c9bc0a",
   "metadata": {},
   "source": [
    "Finally, we are going to attempt to replicate [Kuhl et al. (2012)](https://www.sciencedirect.com/science/article/pii/S0028393211004088). They asked subjects to do an image-word cued recall task and investigated neural representations of the images during encoding. They showed that when two images from the same category were both recalled, their temporal cortex representation was more similar than when they were both forgotten and the opposite when they were from different categories. "
   ]
  },
  {
   "cell_type": "markdown",
   "id": "8d214b9e-6b15-484d-a285-e92c2b2d6c22",
   "metadata": {},
   "source": [
    "<center>\n",
    "    <img src=\"figures/KuhlEtal12_fig6.jpeg\" width=400>\n",
    "</center>"
   ]
  },
  {
   "cell_type": "markdown",
   "id": "a353c9ec-312a-4458-a032-fd8f4d391496",
   "metadata": {},
   "source": [
    "We have a lot of temporal cortex electrodes so as a first pass we can try to replicate this effect using all electrodes. The RSA at encoding is already computed above so we just need to make the right comparisons. You might find it useful to create a `pair_recalled` variable like this. "
   ]
  },
  {
   "cell_type": "code",
   "execution_count": null,
   "id": "3919cd43-4d51-486f-84f0-0fbaebefc174",
   "metadata": {},
   "outputs": [],
   "source": [
    "within_list_WORD_rsa_df['pair_recalled'] = within_list_WORD_rsa_df['recalled_WORD'] + within_list_WORD_rsa_df['recalled_WORD2']"
   ]
  },
  {
   "cell_type": "markdown",
   "id": "f2b6e747-9a9f-43b5-a74a-d15c5265d95f",
   "metadata": {},
   "source": [
    "Now try to make a plot similar to the left hand side of the Kuhl plot but slightly more complex. Make a plot where the x axis represents study distance (like in Q1) and the hue reflects the `pair_recalled` variable. Make one plot for within category and one for between. You may find it useful to use the `col` parameter of the `catplot` function. Don't be surprised if the results don't seem to totally replicate Kuhl's"
   ]
  },
  {
   "cell_type": "code",
   "execution_count": null,
   "id": "51addf28-06a3-4ef5-abe4-d39b553b16ac",
   "metadata": {},
   "outputs": [],
   "source": [
    "# Q3\n",
    "### YOUR CODE HERE"
   ]
  },
  {
   "cell_type": "code",
   "execution_count": null,
   "id": "4e57b912-7402-4fb7-9735-00de7fd1b81f",
   "metadata": {},
   "outputs": [],
   "source": []
  }
 ],
 "metadata": {
  "kernelspec": {
   "display_name": "workshop_311",
   "language": "python",
   "name": "workshop_311"
  },
  "language_info": {
   "codemirror_mode": {
    "name": "ipython",
    "version": 3
   },
   "file_extension": ".py",
   "mimetype": "text/x-python",
   "name": "python",
   "nbconvert_exporter": "python",
   "pygments_lexer": "ipython3",
   "version": "3.11.5"
  }
 },
 "nbformat": 4,
 "nbformat_minor": 5
}
